{
 "nbformat": 4,
 "nbformat_minor": 0,
 "metadata": {
  "colab": {
   "provenance": [
    {
     "file_id": "1QZbE48x5ccAL_kWsljsOZohxSgOxdCct",
     "timestamp": 1721825062928
    }
   ],
   "collapsed_sections": [
    "0le3bfkbsWCu",
    "4VF3H55TwV1f",
    "x_OE7Mklz1Ci",
    "MPzQ-1Wz3lgP",
    "zO3YDDwc5qQ-",
    "wZ5rwYBA88lQ",
    "TSolzD9z_NOc",
    "tUARDkuwIm7D",
    "1dyVifNK2fZA",
    "ICQiqto83TQ9",
    "e4PGfH5-7QRM",
    "cq6iq5FwesuD",
    "u_qdHfkefA9I",
    "Q4V7-VcNfz02"
   ]
  },
  "kernelspec": {
   "name": "python3",
   "display_name": "Python 3 (ipykernel)",
   "language": "python"
  },
  "language_info": {
   "name": "python"
  }
 },
 "cells": [
  {
   "cell_type": "markdown",
   "source": [
    "# Mentoring 1 - Introduction to Machine Learning\n",
    "---\n",
    "\n",
    "Mentoring Session - Job Preparation Program - Pacmann AI"
   ],
   "metadata": {
    "id": "Rk-wJshZrKtw"
   }
  },
  {
   "cell_type": "markdown",
   "source": [
    "## Instructions\n",
    "---"
   ],
   "metadata": {
    "id": "0le3bfkbsWCu"
   }
  },
  {
   "cell_type": "markdown",
   "source": [
    "1. Please fill all the given tasks in here\n",
    "2. You can use any library\n",
    "3. For modeling, please use `sklearn` library\n",
    "4. You are taksed to create a function based machine learning model. (If you cannot create the functions from the start, you can create without a function first, then put it all into a function)\n",
    "5. Make sure you are following all the function descriptions\n",
    "6. Submit your result to the submission form"
   ],
   "metadata": {
    "id": "6NAWntWqu6Bu"
   }
  },
  {
   "cell_type": "markdown",
   "source": [
    "## Dataset Description\n",
    "---"
   ],
   "metadata": {
    "id": "4VF3H55TwV1f"
   }
  },
  {
   "cell_type": "markdown",
   "source": [
    "**Note**\n",
    "\n",
    "- This dataset originally comes from [Uber Fares Dataset](https://www.kaggle.com/datasets/yasserh/uber-fares-dataset)\n",
    "- We perform several edit for this mentoring purposes. So, please use the dataset from [here](https://drive.google.com/file/d/1-Fr3OMbI1yKU_jNy-6cgXFJDVzjph3sn/view?usp=sharing).\n"
   ],
   "metadata": {
    "id": "pm47UzYPwY1h"
   }
  },
  {
   "cell_type": "markdown",
   "source": [
    "**Description**\n",
    "- We're looking to predict the fare of Uber's transactions.\n",
    "- The dataset contains of the following fields\n",
    "\n",
    "<center>\n",
    "\n",
    "|Feature|Type|Descriptions|\n",
    "|:--|:--|:--|\n",
    "|`order_id`| `int` | a unique identifier for each trip|\n",
    "|`pickup_time` | `str` | a class of pickup time. `04-10`, `10-16`, `16-22`, `22-04`. E.g. `04-10` means the pickup time is between 04.00 to 10.00|\n",
    "| `pickup_longitude` | `float` | the longitude where the meter was engaged|\n",
    "| `pickup_latitude` | `float` | the latitude where the meter was engaged|\n",
    "| `dropoff_longitude` | `float` | the longitude where the meter was disengaged|\n",
    "| `dropoff_latitude` | `float` | the latitude where the meter was disengaged|\n",
    "| `passenger_count` | `float` | the number of passengers in the vehicle (driver entered value)|\n",
    "| `fare_amount` | `int` | the cost of each trip in USD, (**our target**)|"
   ],
   "metadata": {
    "id": "XTVZoo2jw2mv"
   }
  },
  {
   "cell_type": "markdown",
   "source": [
    "## Modeling Workflow\n",
    "---"
   ],
   "metadata": {
    "id": "VPfdLquFzsoI"
   }
  },
  {
   "cell_type": "markdown",
   "source": [
    "```\n",
    "1. Import data to Python\n",
    "2. Data Preprocessing\n",
    "3. Training a Machine Learning Models\n",
    "4. Test Prediction\n",
    "```"
   ],
   "metadata": {
    "id": "wBa9dq-Rsxak"
   }
  },
  {
   "cell_type": "markdown",
   "source": [
    "### 1. Import data to Python (10 pts)\n",
    "---"
   ],
   "metadata": {
    "id": "x_OE7Mklz1Ci"
   }
  },
  {
   "cell_type": "code",
   "source": [
    "####################################################\n",
    "# Import Numpy and Pandas library\n",
    "# Write your code here\n",
    "####################################################\n",
    "import pandas as pd\n",
    "import numpy as np"
   ],
   "metadata": {
    "id": "4r6Yb-EssUkX",
    "ExecuteTime": {
     "end_time": "2024-07-31T17:58:26.045298Z",
     "start_time": "2024-07-31T17:58:26.042562Z"
    }
   },
   "outputs": [],
   "execution_count": 1
  },
  {
   "cell_type": "code",
   "source": [
    "####################################################\n",
    "# Create a function named read_data\n",
    "# - Has an input of filename, i.e. fname\n",
    "# - Read the data as a Pandas DataFrame\n",
    "# - Drop duplicate on `order_id`, keep the last ones\n",
    "# - Set `order_id` as index\n",
    "# - Print the data shape\n",
    "# - Return the dataset\n",
    "# Write your code here\n",
    "####################################################\n",
    "def read_data(fname):\n",
    "    data_frame = pd.read_csv(fname)\n",
    "    data_frame = data_frame.drop_duplicates(subset=['order_id'], keep='last')\n",
    "    data_frame = data_frame.set_index('order_id')\n",
    "    return data_frame"
   ],
   "metadata": {
    "id": "773jxJ0P0IAq",
    "ExecuteTime": {
     "end_time": "2024-07-31T17:58:26.460983Z",
     "start_time": "2024-07-31T17:58:26.458085Z"
    }
   },
   "outputs": [],
   "execution_count": 2
  },
  {
   "cell_type": "code",
   "source": [
    "# Read the Uber data (JUST RUN THE CODE)\n",
    "data = read_data(fname='uber_edit.csv')\n",
    "data.head(10)"
   ],
   "metadata": {
    "id": "TFRDR1I-1aDe",
    "ExecuteTime": {
     "end_time": "2024-07-31T17:58:26.617326Z",
     "start_time": "2024-07-31T17:58:26.487680Z"
    }
   },
   "outputs": [
    {
     "data": {
      "text/plain": [
       "          fare_amount pickup_time  pickup_longitude  pickup_latitude  \\\n",
       "order_id                                                               \n",
       "24238194          7.5       16-22        -73.999817        40.738354   \n",
       "27835199          7.7       16-22        -73.994355        40.728225   \n",
       "44984355         12.9       16-22        -74.005043        40.740770   \n",
       "25894730          5.3       04-10        -73.976124        40.790844   \n",
       "17610152         16.0       16-22        -73.925023        40.744085   \n",
       "\n",
       "          dropoff_longitude  dropoff_latitude  passenger_count  \n",
       "order_id                                                        \n",
       "24238194         -73.999512         40.723217              1.0  \n",
       "27835199         -73.994710         40.750325              1.0  \n",
       "44984355         -73.962565         40.772647              1.0  \n",
       "25894730         -73.965316         40.803349              3.0  \n",
       "17610152         -73.973082         40.761247              5.0  "
      ],
      "text/html": [
       "<div>\n",
       "<style scoped>\n",
       "    .dataframe tbody tr th:only-of-type {\n",
       "        vertical-align: middle;\n",
       "    }\n",
       "\n",
       "    .dataframe tbody tr th {\n",
       "        vertical-align: top;\n",
       "    }\n",
       "\n",
       "    .dataframe thead th {\n",
       "        text-align: right;\n",
       "    }\n",
       "</style>\n",
       "<table border=\"1\" class=\"dataframe\">\n",
       "  <thead>\n",
       "    <tr style=\"text-align: right;\">\n",
       "      <th></th>\n",
       "      <th>fare_amount</th>\n",
       "      <th>pickup_time</th>\n",
       "      <th>pickup_longitude</th>\n",
       "      <th>pickup_latitude</th>\n",
       "      <th>dropoff_longitude</th>\n",
       "      <th>dropoff_latitude</th>\n",
       "      <th>passenger_count</th>\n",
       "    </tr>\n",
       "    <tr>\n",
       "      <th>order_id</th>\n",
       "      <th></th>\n",
       "      <th></th>\n",
       "      <th></th>\n",
       "      <th></th>\n",
       "      <th></th>\n",
       "      <th></th>\n",
       "      <th></th>\n",
       "    </tr>\n",
       "  </thead>\n",
       "  <tbody>\n",
       "    <tr>\n",
       "      <th>24238194</th>\n",
       "      <td>7.5</td>\n",
       "      <td>16-22</td>\n",
       "      <td>-73.999817</td>\n",
       "      <td>40.738354</td>\n",
       "      <td>-73.999512</td>\n",
       "      <td>40.723217</td>\n",
       "      <td>1.0</td>\n",
       "    </tr>\n",
       "    <tr>\n",
       "      <th>27835199</th>\n",
       "      <td>7.7</td>\n",
       "      <td>16-22</td>\n",
       "      <td>-73.994355</td>\n",
       "      <td>40.728225</td>\n",
       "      <td>-73.994710</td>\n",
       "      <td>40.750325</td>\n",
       "      <td>1.0</td>\n",
       "    </tr>\n",
       "    <tr>\n",
       "      <th>44984355</th>\n",
       "      <td>12.9</td>\n",
       "      <td>16-22</td>\n",
       "      <td>-74.005043</td>\n",
       "      <td>40.740770</td>\n",
       "      <td>-73.962565</td>\n",
       "      <td>40.772647</td>\n",
       "      <td>1.0</td>\n",
       "    </tr>\n",
       "    <tr>\n",
       "      <th>25894730</th>\n",
       "      <td>5.3</td>\n",
       "      <td>04-10</td>\n",
       "      <td>-73.976124</td>\n",
       "      <td>40.790844</td>\n",
       "      <td>-73.965316</td>\n",
       "      <td>40.803349</td>\n",
       "      <td>3.0</td>\n",
       "    </tr>\n",
       "    <tr>\n",
       "      <th>17610152</th>\n",
       "      <td>16.0</td>\n",
       "      <td>16-22</td>\n",
       "      <td>-73.925023</td>\n",
       "      <td>40.744085</td>\n",
       "      <td>-73.973082</td>\n",
       "      <td>40.761247</td>\n",
       "      <td>5.0</td>\n",
       "    </tr>\n",
       "  </tbody>\n",
       "</table>\n",
       "</div>"
      ]
     },
     "execution_count": 3,
     "metadata": {},
     "output_type": "execute_result"
    }
   ],
   "execution_count": 3
  },
  {
   "cell_type": "markdown",
   "source": [
    "### 2. Data Preprocessing (60 pts)\n",
    "---"
   ],
   "metadata": {
    "id": "2OzWPGFk3iwl"
   }
  },
  {
   "cell_type": "markdown",
   "source": [
    "**The processing pipeline**\n",
    "```\n",
    "2.1 Input-Output Split\n",
    "2.2 Train-Valid-Test Split\n",
    "2.3 Separate Numerical and Categorical Features\n",
    "2.4 Numerical Imputation\n",
    "2.5 Categorical Imputation\n",
    "2.6 Preprocess Categorical Features\n",
    "2.7 Join the Data\n",
    "2.8 Feature Engineering the Data\n",
    "2.9 Create a Preprocessing Function\n",
    "```"
   ],
   "metadata": {
    "id": "XP-LVEz8MmLe"
   }
  },
  {
   "cell_type": "markdown",
   "source": [
    "#### 2.1. Input-Output Split (6 pts)\n",
    "---"
   ],
   "metadata": {
    "id": "MPzQ-1Wz3lgP"
   }
  },
  {
   "cell_type": "markdown",
   "source": [
    "- We're going to split input & output according to the modeling objective.\n",
    "- Create a function to split the input & output"
   ],
   "metadata": {
    "id": "d0eNiv8J3ogi"
   }
  },
  {
   "cell_type": "code",
   "source": [
    "####################################################\n",
    "# Create a function named split_input_output\n",
    "# - Has two arguments\n",
    "#   - data, a pd Dataframe\n",
    "#   - target_col, a column (str)\n",
    "# - Print the data shape after splitting\n",
    "# - Return X, y\n",
    "# Write your code here\n",
    "####################################################\n",
    "def split_input_output(data, target_col):\n",
    "    output_data = data[target_col]\n",
    "    input_data = data.drop(target_col, axis=1)\n",
    "    return input_data, output_data"
   ],
   "metadata": {
    "id": "7JLABNi-3ktA",
    "ExecuteTime": {
     "end_time": "2024-07-31T17:58:26.620599Z",
     "start_time": "2024-07-31T17:58:26.618311Z"
    }
   },
   "outputs": [],
   "execution_count": 4
  },
  {
   "cell_type": "code",
   "source": [
    "# Load the train data only (JUST RUN THE CODE)\n",
    "X, y = split_input_output(data=data, target_col='fare_amount')"
   ],
   "metadata": {
    "id": "oN8Kuzkf4hgN",
    "ExecuteTime": {
     "end_time": "2024-07-31T17:58:26.633322Z",
     "start_time": "2024-07-31T17:58:26.621286Z"
    }
   },
   "outputs": [],
   "execution_count": 5
  },
  {
   "cell_type": "code",
   "source": [
    "X.head()  # (JUST RUN THE CODE)"
   ],
   "metadata": {
    "colab": {
     "base_uri": "https://localhost:8080/",
     "height": 204
    },
    "id": "ScJnHQsZ45Lf",
    "executionInfo": {
     "status": "ok",
     "timestamp": 1721827532842,
     "user_tz": -420,
     "elapsed": 374,
     "user": {
      "displayName": "Rudi Muliawan",
      "userId": "15951285730387719974"
     }
    },
    "outputId": "805efbfd-8348-402c-a09d-bf95bd21c01b",
    "ExecuteTime": {
     "end_time": "2024-07-31T17:58:26.643798Z",
     "start_time": "2024-07-31T17:58:26.634514Z"
    }
   },
   "outputs": [
    {
     "data": {
      "text/plain": [
       "         pickup_time  pickup_longitude  pickup_latitude  dropoff_longitude  \\\n",
       "order_id                                                                     \n",
       "24238194       16-22        -73.999817        40.738354         -73.999512   \n",
       "27835199       16-22        -73.994355        40.728225         -73.994710   \n",
       "44984355       16-22        -74.005043        40.740770         -73.962565   \n",
       "25894730       04-10        -73.976124        40.790844         -73.965316   \n",
       "17610152       16-22        -73.925023        40.744085         -73.973082   \n",
       "\n",
       "          dropoff_latitude  passenger_count  \n",
       "order_id                                     \n",
       "24238194         40.723217              1.0  \n",
       "27835199         40.750325              1.0  \n",
       "44984355         40.772647              1.0  \n",
       "25894730         40.803349              3.0  \n",
       "17610152         40.761247              5.0  "
      ],
      "text/html": [
       "<div>\n",
       "<style scoped>\n",
       "    .dataframe tbody tr th:only-of-type {\n",
       "        vertical-align: middle;\n",
       "    }\n",
       "\n",
       "    .dataframe tbody tr th {\n",
       "        vertical-align: top;\n",
       "    }\n",
       "\n",
       "    .dataframe thead th {\n",
       "        text-align: right;\n",
       "    }\n",
       "</style>\n",
       "<table border=\"1\" class=\"dataframe\">\n",
       "  <thead>\n",
       "    <tr style=\"text-align: right;\">\n",
       "      <th></th>\n",
       "      <th>pickup_time</th>\n",
       "      <th>pickup_longitude</th>\n",
       "      <th>pickup_latitude</th>\n",
       "      <th>dropoff_longitude</th>\n",
       "      <th>dropoff_latitude</th>\n",
       "      <th>passenger_count</th>\n",
       "    </tr>\n",
       "    <tr>\n",
       "      <th>order_id</th>\n",
       "      <th></th>\n",
       "      <th></th>\n",
       "      <th></th>\n",
       "      <th></th>\n",
       "      <th></th>\n",
       "      <th></th>\n",
       "    </tr>\n",
       "  </thead>\n",
       "  <tbody>\n",
       "    <tr>\n",
       "      <th>24238194</th>\n",
       "      <td>16-22</td>\n",
       "      <td>-73.999817</td>\n",
       "      <td>40.738354</td>\n",
       "      <td>-73.999512</td>\n",
       "      <td>40.723217</td>\n",
       "      <td>1.0</td>\n",
       "    </tr>\n",
       "    <tr>\n",
       "      <th>27835199</th>\n",
       "      <td>16-22</td>\n",
       "      <td>-73.994355</td>\n",
       "      <td>40.728225</td>\n",
       "      <td>-73.994710</td>\n",
       "      <td>40.750325</td>\n",
       "      <td>1.0</td>\n",
       "    </tr>\n",
       "    <tr>\n",
       "      <th>44984355</th>\n",
       "      <td>16-22</td>\n",
       "      <td>-74.005043</td>\n",
       "      <td>40.740770</td>\n",
       "      <td>-73.962565</td>\n",
       "      <td>40.772647</td>\n",
       "      <td>1.0</td>\n",
       "    </tr>\n",
       "    <tr>\n",
       "      <th>25894730</th>\n",
       "      <td>04-10</td>\n",
       "      <td>-73.976124</td>\n",
       "      <td>40.790844</td>\n",
       "      <td>-73.965316</td>\n",
       "      <td>40.803349</td>\n",
       "      <td>3.0</td>\n",
       "    </tr>\n",
       "    <tr>\n",
       "      <th>17610152</th>\n",
       "      <td>16-22</td>\n",
       "      <td>-73.925023</td>\n",
       "      <td>40.744085</td>\n",
       "      <td>-73.973082</td>\n",
       "      <td>40.761247</td>\n",
       "      <td>5.0</td>\n",
       "    </tr>\n",
       "  </tbody>\n",
       "</table>\n",
       "</div>"
      ]
     },
     "execution_count": 6,
     "metadata": {},
     "output_type": "execute_result"
    }
   ],
   "execution_count": 6
  },
  {
   "cell_type": "code",
   "source": [
    "y.head()  # (JUST RUN THE CODE)"
   ],
   "metadata": {
    "colab": {
     "base_uri": "https://localhost:8080/"
    },
    "id": "hvvwO3A547u1",
    "executionInfo": {
     "status": "ok",
     "timestamp": 1721827536288,
     "user_tz": -420,
     "elapsed": 374,
     "user": {
      "displayName": "Rudi Muliawan",
      "userId": "15951285730387719974"
     }
    },
    "outputId": "f6758b10-a976-4c75-90f9-c38e01130120",
    "ExecuteTime": {
     "end_time": "2024-07-31T17:58:26.653243Z",
     "start_time": "2024-07-31T17:58:26.644837Z"
    }
   },
   "outputs": [
    {
     "data": {
      "text/plain": [
       "order_id\n",
       "24238194     7.5\n",
       "27835199     7.7\n",
       "44984355    12.9\n",
       "25894730     5.3\n",
       "17610152    16.0\n",
       "Name: fare_amount, dtype: float64"
      ]
     },
     "execution_count": 7,
     "metadata": {},
     "output_type": "execute_result"
    }
   ],
   "execution_count": 7
  },
  {
   "cell_type": "markdown",
   "source": [
    "#### 2.2. Train-Valid-Test Split (6 pts)\n",
    "---"
   ],
   "metadata": {
    "id": "zO3YDDwc5qQ-"
   }
  },
  {
   "cell_type": "markdown",
   "source": [
    "- Now, we want to split the data before modeling.\n",
    "- Split the data into three set:\n",
    "  - Train, for training the model\n",
    "  - Validation, for choosing the best model\n",
    "  - Test, for error generalization\n",
    "\n",
    "- You should make the splitting proportion train (80%), valid (10%), and test (10%)"
   ],
   "metadata": {
    "id": "kFA5PsKQ5qRN"
   }
  },
  {
   "cell_type": "code",
   "source": [
    "####################################################\n",
    "# Create a function named split_train_test\n",
    "# - Has two arguments\n",
    "#   - X, the input (pd.Dataframe)\n",
    "#   - y, the output (pd.Dataframe)\n",
    "#   - test_size, the test size between 0-1 (float)\n",
    "#   - seed, the random state (int)\n",
    "# - Print the data shape after splitting\n",
    "# - Return X_train, X_test, y_train, y_test\n",
    "# - You can use an sklearn library to help you\n",
    "# Write your code here\n",
    "####################################################\n",
    "\n",
    "from sklearn.model_selection import train_test_split\n",
    "\n",
    "def split_train_test(X, y, test_size, seed):\n",
    "    return train_test_split(X, y, test_size=test_size, random_state=seed)"
   ],
   "metadata": {
    "id": "5LTodPoF5qRN",
    "ExecuteTime": {
     "end_time": "2024-07-31T17:58:26.818022Z",
     "start_time": "2024-07-31T17:58:26.698162Z"
    }
   },
   "outputs": [],
   "execution_count": 8
  },
  {
   "cell_type": "code",
   "source": [
    "# Split the data\n",
    "# First, split the train & not train\n",
    "\n",
    "# WRITE YOUR CODE HERE, Use seed=123\n",
    "X_train, X_not_train, y_train, y_not_train = split_train_test(\n",
    "    X, y, test_size=0.2, seed=123\n",
    ")\n",
    "\n",
    "# Then, split the valid & test\n",
    "# WRITE YOUR CODE HERE, Use seed=123\n",
    "X_valid, X_test, y_valid, y_test = split_train_test(\n",
    "    X_not_train, y_not_train, test_size=0.5, seed=123\n",
    ")"
   ],
   "metadata": {
    "id": "1F6TPylm49KB",
    "ExecuteTime": {
     "end_time": "2024-07-31T17:58:26.843207Z",
     "start_time": "2024-07-31T17:58:26.818939Z"
    }
   },
   "outputs": [],
   "execution_count": 9
  },
  {
   "cell_type": "code",
   "source": [
    "# Validate (JUST RUN THE CODE)\n",
    "print(len(X_train)/len(X))  # should be 0.8\n",
    "print(len(X_valid)/len(X))  # should be 0.1\n",
    "print(len(X_test)/len(X))   # should be 0.1"
   ],
   "metadata": {
    "colab": {
     "base_uri": "https://localhost:8080/"
    },
    "id": "4gTzpb627pJB",
    "executionInfo": {
     "status": "ok",
     "timestamp": 1721828503049,
     "user_tz": -420,
     "elapsed": 444,
     "user": {
      "displayName": "Rudi Muliawan",
      "userId": "15951285730387719974"
     }
    },
    "outputId": "915eb64f-78a7-45f2-b2e3-a004e00b6852",
    "ExecuteTime": {
     "end_time": "2024-07-31T17:58:26.981459Z",
     "start_time": "2024-07-31T17:58:26.978268Z"
    }
   },
   "outputs": [
    {
     "name": "stdout",
     "output_type": "stream",
     "text": [
      "0.7999989733797366\n",
      "0.09999794675947314\n",
      "0.1000030798607903\n"
     ]
    }
   ],
   "execution_count": 10
  },
  {
   "cell_type": "code",
   "source": [
    "X_train.head()  # (JUST RUN THE CODE)"
   ],
   "metadata": {
    "colab": {
     "base_uri": "https://localhost:8080/"
    },
    "id": "E6GgKZ5Z-d-A",
    "executionInfo": {
     "status": "ok",
     "timestamp": 1703382836052,
     "user_tz": -420,
     "elapsed": 22,
     "user": {
      "displayName": "Cahya Amalinadhi",
      "userId": "05965076763431336474"
     }
    },
    "outputId": "8c051c7d-b561-4ded-e230-b16deafed4e9",
    "ExecuteTime": {
     "end_time": "2024-07-31T17:58:27.028260Z",
     "start_time": "2024-07-31T17:58:27.020844Z"
    }
   },
   "outputs": [
    {
     "data": {
      "text/plain": [
       "         pickup_time  pickup_longitude  pickup_latitude  dropoff_longitude  \\\n",
       "order_id                                                                     \n",
       "51655713       16-22        -73.979392        40.735734         -73.906281   \n",
       "37525839       16-22        -73.986575        40.761473         -73.981880   \n",
       "55058970       16-22        -73.972533        40.782260         -73.952761   \n",
       "15663447       10-16        -73.979967        40.751612         -73.976313   \n",
       "13325650       16-22        -73.976192        40.744026         -73.980935   \n",
       "\n",
       "          dropoff_latitude  passenger_count  \n",
       "order_id                                     \n",
       "51655713         40.745539              2.0  \n",
       "37525839         40.768660              5.0  \n",
       "55058970         40.708980              1.0  \n",
       "15663447         40.758427              6.0  \n",
       "13325650         40.733946              1.0  "
      ],
      "text/html": [
       "<div>\n",
       "<style scoped>\n",
       "    .dataframe tbody tr th:only-of-type {\n",
       "        vertical-align: middle;\n",
       "    }\n",
       "\n",
       "    .dataframe tbody tr th {\n",
       "        vertical-align: top;\n",
       "    }\n",
       "\n",
       "    .dataframe thead th {\n",
       "        text-align: right;\n",
       "    }\n",
       "</style>\n",
       "<table border=\"1\" class=\"dataframe\">\n",
       "  <thead>\n",
       "    <tr style=\"text-align: right;\">\n",
       "      <th></th>\n",
       "      <th>pickup_time</th>\n",
       "      <th>pickup_longitude</th>\n",
       "      <th>pickup_latitude</th>\n",
       "      <th>dropoff_longitude</th>\n",
       "      <th>dropoff_latitude</th>\n",
       "      <th>passenger_count</th>\n",
       "    </tr>\n",
       "    <tr>\n",
       "      <th>order_id</th>\n",
       "      <th></th>\n",
       "      <th></th>\n",
       "      <th></th>\n",
       "      <th></th>\n",
       "      <th></th>\n",
       "      <th></th>\n",
       "    </tr>\n",
       "  </thead>\n",
       "  <tbody>\n",
       "    <tr>\n",
       "      <th>51655713</th>\n",
       "      <td>16-22</td>\n",
       "      <td>-73.979392</td>\n",
       "      <td>40.735734</td>\n",
       "      <td>-73.906281</td>\n",
       "      <td>40.745539</td>\n",
       "      <td>2.0</td>\n",
       "    </tr>\n",
       "    <tr>\n",
       "      <th>37525839</th>\n",
       "      <td>16-22</td>\n",
       "      <td>-73.986575</td>\n",
       "      <td>40.761473</td>\n",
       "      <td>-73.981880</td>\n",
       "      <td>40.768660</td>\n",
       "      <td>5.0</td>\n",
       "    </tr>\n",
       "    <tr>\n",
       "      <th>55058970</th>\n",
       "      <td>16-22</td>\n",
       "      <td>-73.972533</td>\n",
       "      <td>40.782260</td>\n",
       "      <td>-73.952761</td>\n",
       "      <td>40.708980</td>\n",
       "      <td>1.0</td>\n",
       "    </tr>\n",
       "    <tr>\n",
       "      <th>15663447</th>\n",
       "      <td>10-16</td>\n",
       "      <td>-73.979967</td>\n",
       "      <td>40.751612</td>\n",
       "      <td>-73.976313</td>\n",
       "      <td>40.758427</td>\n",
       "      <td>6.0</td>\n",
       "    </tr>\n",
       "    <tr>\n",
       "      <th>13325650</th>\n",
       "      <td>16-22</td>\n",
       "      <td>-73.976192</td>\n",
       "      <td>40.744026</td>\n",
       "      <td>-73.980935</td>\n",
       "      <td>40.733946</td>\n",
       "      <td>1.0</td>\n",
       "    </tr>\n",
       "  </tbody>\n",
       "</table>\n",
       "</div>"
      ]
     },
     "execution_count": 11,
     "metadata": {},
     "output_type": "execute_result"
    }
   ],
   "execution_count": 11
  },
  {
   "cell_type": "markdown",
   "source": [
    "#### 2.3. Separate Numerical and Categorical Features (6 pts)\n",
    "---"
   ],
   "metadata": {
    "id": "wZ5rwYBA88lQ"
   }
  },
  {
   "cell_type": "markdown",
   "source": [
    "- We now prepare to perform data preprocessing\n",
    "- But, we first separate the data into numerical data & categorical data."
   ],
   "metadata": {
    "id": "JaRGC1IJ88lU"
   }
  },
  {
   "cell_type": "code",
   "source": [
    "####################################################\n",
    "# Create a function to split numerical & categorical input\n",
    "# - you have three parameters\n",
    "#   - data, an input data (pd. Dataframe)\n",
    "#   - num_cols, a list of numerical columns (list)\n",
    "#   - cat_cols, a list of categorical columns (list)\n",
    "# - and write a validation that you perform right operation\n",
    "# - and return two dataframe, numerical & categorical data\n",
    "# Write your code here\n",
    "####################################################\n",
    "def split_numerical_categorical_input(data, num_cols, cat_cols):\n",
    "    numerical_data = data[num_cols]\n",
    "    categorical_data = data[cat_cols]\n",
    "    return numerical_data, categorical_data"
   ],
   "metadata": {
    "id": "BTNHnHRi899V",
    "ExecuteTime": {
     "end_time": "2024-07-31T17:58:27.177523Z",
     "start_time": "2024-07-31T17:58:27.173999Z"
    }
   },
   "outputs": [],
   "execution_count": 12
  },
  {
   "cell_type": "code",
   "source": [
    "# Split the data\n",
    "# WRITE YOUR CODE HERE\n",
    "numerical_columns = [\n",
    "    \"pickup_longitude\",\t\"pickup_latitude\", \"dropoff_longitude\",\n",
    "    \"dropoff_latitude\",\t\"passenger_count\"\n",
    "]\n",
    "categorical_columns = [\n",
    "    \"pickup_time\"\n",
    "]\n",
    "X_train_num, X_train_cat = split_numerical_categorical_input(X_train, numerical_columns, categorical_columns)"
   ],
   "metadata": {
    "id": "kYkiongB-muK",
    "ExecuteTime": {
     "end_time": "2024-07-31T17:58:27.261675Z",
     "start_time": "2024-07-31T17:58:27.254123Z"
    }
   },
   "outputs": [],
   "execution_count": 13
  },
  {
   "cell_type": "code",
   "source": [
    "X_train_num.head()  # (JUST RUN THE CODE)"
   ],
   "metadata": {
    "colab": {
     "base_uri": "https://localhost:8080/",
     "height": 204
    },
    "id": "6qd1II0a-0og",
    "executionInfo": {
     "status": "ok",
     "timestamp": 1721829936252,
     "user_tz": -420,
     "elapsed": 9,
     "user": {
      "displayName": "Rudi Muliawan",
      "userId": "15951285730387719974"
     }
    },
    "outputId": "e2f0f272-9222-49cd-c7c3-0fff285bcfee",
    "ExecuteTime": {
     "end_time": "2024-07-31T17:58:27.381008Z",
     "start_time": "2024-07-31T17:58:27.372764Z"
    }
   },
   "outputs": [
    {
     "data": {
      "text/plain": [
       "          pickup_longitude  pickup_latitude  dropoff_longitude  \\\n",
       "order_id                                                         \n",
       "51655713        -73.979392        40.735734         -73.906281   \n",
       "37525839        -73.986575        40.761473         -73.981880   \n",
       "55058970        -73.972533        40.782260         -73.952761   \n",
       "15663447        -73.979967        40.751612         -73.976313   \n",
       "13325650        -73.976192        40.744026         -73.980935   \n",
       "\n",
       "          dropoff_latitude  passenger_count  \n",
       "order_id                                     \n",
       "51655713         40.745539              2.0  \n",
       "37525839         40.768660              5.0  \n",
       "55058970         40.708980              1.0  \n",
       "15663447         40.758427              6.0  \n",
       "13325650         40.733946              1.0  "
      ],
      "text/html": [
       "<div>\n",
       "<style scoped>\n",
       "    .dataframe tbody tr th:only-of-type {\n",
       "        vertical-align: middle;\n",
       "    }\n",
       "\n",
       "    .dataframe tbody tr th {\n",
       "        vertical-align: top;\n",
       "    }\n",
       "\n",
       "    .dataframe thead th {\n",
       "        text-align: right;\n",
       "    }\n",
       "</style>\n",
       "<table border=\"1\" class=\"dataframe\">\n",
       "  <thead>\n",
       "    <tr style=\"text-align: right;\">\n",
       "      <th></th>\n",
       "      <th>pickup_longitude</th>\n",
       "      <th>pickup_latitude</th>\n",
       "      <th>dropoff_longitude</th>\n",
       "      <th>dropoff_latitude</th>\n",
       "      <th>passenger_count</th>\n",
       "    </tr>\n",
       "    <tr>\n",
       "      <th>order_id</th>\n",
       "      <th></th>\n",
       "      <th></th>\n",
       "      <th></th>\n",
       "      <th></th>\n",
       "      <th></th>\n",
       "    </tr>\n",
       "  </thead>\n",
       "  <tbody>\n",
       "    <tr>\n",
       "      <th>51655713</th>\n",
       "      <td>-73.979392</td>\n",
       "      <td>40.735734</td>\n",
       "      <td>-73.906281</td>\n",
       "      <td>40.745539</td>\n",
       "      <td>2.0</td>\n",
       "    </tr>\n",
       "    <tr>\n",
       "      <th>37525839</th>\n",
       "      <td>-73.986575</td>\n",
       "      <td>40.761473</td>\n",
       "      <td>-73.981880</td>\n",
       "      <td>40.768660</td>\n",
       "      <td>5.0</td>\n",
       "    </tr>\n",
       "    <tr>\n",
       "      <th>55058970</th>\n",
       "      <td>-73.972533</td>\n",
       "      <td>40.782260</td>\n",
       "      <td>-73.952761</td>\n",
       "      <td>40.708980</td>\n",
       "      <td>1.0</td>\n",
       "    </tr>\n",
       "    <tr>\n",
       "      <th>15663447</th>\n",
       "      <td>-73.979967</td>\n",
       "      <td>40.751612</td>\n",
       "      <td>-73.976313</td>\n",
       "      <td>40.758427</td>\n",
       "      <td>6.0</td>\n",
       "    </tr>\n",
       "    <tr>\n",
       "      <th>13325650</th>\n",
       "      <td>-73.976192</td>\n",
       "      <td>40.744026</td>\n",
       "      <td>-73.980935</td>\n",
       "      <td>40.733946</td>\n",
       "      <td>1.0</td>\n",
       "    </tr>\n",
       "  </tbody>\n",
       "</table>\n",
       "</div>"
      ]
     },
     "execution_count": 14,
     "metadata": {},
     "output_type": "execute_result"
    }
   ],
   "execution_count": 14
  },
  {
   "cell_type": "code",
   "source": [
    "X_train_cat.head()  # (JUST RUN THE CODE)"
   ],
   "metadata": {
    "colab": {
     "base_uri": "https://localhost:8080/",
     "height": 204
    },
    "id": "E5A8MyYk_Jh7",
    "executionInfo": {
     "status": "ok",
     "timestamp": 1721831283941,
     "user_tz": -420,
     "elapsed": 468,
     "user": {
      "displayName": "Rudi Muliawan",
      "userId": "15951285730387719974"
     }
    },
    "outputId": "9a39b46c-61a2-45b9-b243-f59af16b6848",
    "ExecuteTime": {
     "end_time": "2024-07-31T17:58:27.450260Z",
     "start_time": "2024-07-31T17:58:27.443536Z"
    }
   },
   "outputs": [
    {
     "data": {
      "text/plain": [
       "         pickup_time\n",
       "order_id            \n",
       "51655713       16-22\n",
       "37525839       16-22\n",
       "55058970       16-22\n",
       "15663447       10-16\n",
       "13325650       16-22"
      ],
      "text/html": [
       "<div>\n",
       "<style scoped>\n",
       "    .dataframe tbody tr th:only-of-type {\n",
       "        vertical-align: middle;\n",
       "    }\n",
       "\n",
       "    .dataframe tbody tr th {\n",
       "        vertical-align: top;\n",
       "    }\n",
       "\n",
       "    .dataframe thead th {\n",
       "        text-align: right;\n",
       "    }\n",
       "</style>\n",
       "<table border=\"1\" class=\"dataframe\">\n",
       "  <thead>\n",
       "    <tr style=\"text-align: right;\">\n",
       "      <th></th>\n",
       "      <th>pickup_time</th>\n",
       "    </tr>\n",
       "    <tr>\n",
       "      <th>order_id</th>\n",
       "      <th></th>\n",
       "    </tr>\n",
       "  </thead>\n",
       "  <tbody>\n",
       "    <tr>\n",
       "      <th>51655713</th>\n",
       "      <td>16-22</td>\n",
       "    </tr>\n",
       "    <tr>\n",
       "      <th>37525839</th>\n",
       "      <td>16-22</td>\n",
       "    </tr>\n",
       "    <tr>\n",
       "      <th>55058970</th>\n",
       "      <td>16-22</td>\n",
       "    </tr>\n",
       "    <tr>\n",
       "      <th>15663447</th>\n",
       "      <td>10-16</td>\n",
       "    </tr>\n",
       "    <tr>\n",
       "      <th>13325650</th>\n",
       "      <td>16-22</td>\n",
       "    </tr>\n",
       "  </tbody>\n",
       "</table>\n",
       "</div>"
      ]
     },
     "execution_count": 15,
     "metadata": {},
     "output_type": "execute_result"
    }
   ],
   "execution_count": 15
  },
  {
   "cell_type": "markdown",
   "source": [
    "#### EDA before Preprocessing (JUST RUN THE CODE)\n",
    "---"
   ],
   "metadata": {
    "id": "TSolzD9z_NOc"
   }
  },
  {
   "cell_type": "markdown",
   "source": [
    "- Find the number of missing values"
   ],
   "metadata": {
    "id": "nt7Wtjmk_NOc"
   }
  },
  {
   "cell_type": "code",
   "source": [
    "100 * (X_train.isna().sum(0) / len(X_train))"
   ],
   "metadata": {
    "colab": {
     "base_uri": "https://localhost:8080/"
    },
    "id": "9TN_UpNwAmUD",
    "executionInfo": {
     "status": "ok",
     "timestamp": 1721831290826,
     "user_tz": -420,
     "elapsed": 354,
     "user": {
      "displayName": "Rudi Muliawan",
      "userId": "15951285730387719974"
     }
    },
    "outputId": "f1c0476c-3114-4b61-fbfb-524f790b0931",
    "ExecuteTime": {
     "end_time": "2024-07-31T17:58:27.586060Z",
     "start_time": "2024-07-31T17:58:27.573113Z"
    }
   },
   "outputs": [
    {
     "data": {
      "text/plain": [
       "pickup_time          0.000000\n",
       "pickup_longitude     0.000000\n",
       "pickup_latitude      0.000000\n",
       "dropoff_longitude    0.000000\n",
       "dropoff_latitude     0.000000\n",
       "passenger_count      0.606348\n",
       "dtype: float64"
      ]
     },
     "execution_count": 16,
     "metadata": {},
     "output_type": "execute_result"
    }
   ],
   "execution_count": 16
  },
  {
   "cell_type": "markdown",
   "source": [
    "- We will impute all these variables if there is any missing value"
   ],
   "metadata": {
    "id": "3CmEIM19Aqnr"
   }
  },
  {
   "cell_type": "markdown",
   "source": [
    "- First, check the numerical features distribution"
   ],
   "metadata": {
    "id": "MBVeQTSaDtdO"
   }
  },
  {
   "cell_type": "code",
   "source": [
    "import matplotlib.pyplot as plt\n",
    "import seaborn as sns\n",
    "%matplotlib inline"
   ],
   "metadata": {
    "id": "cDPzHlriAFck",
    "ExecuteTime": {
     "end_time": "2024-07-31T17:58:27.649872Z",
     "start_time": "2024-07-31T17:58:27.643789Z"
    }
   },
   "outputs": [],
   "execution_count": 17
  },
  {
   "cell_type": "code",
   "source": [
    "# Plot histogram\n",
    "fig, ax = plt.subplots(nrows=3, ncols=2, figsize=(12, 8))\n",
    "axes = ax.flatten()\n",
    "\n",
    "for i, col in enumerate(X_train_num.columns):\n",
    "    sns.kdeplot(X_train_num[col], ax=axes[i])\n",
    "    axes[i].set_title(f'Distribution of {col}')\n",
    "\n",
    "plt.tight_layout()\n",
    "plt.show()"
   ],
   "metadata": {
    "executionInfo": {
     "status": "ok",
     "timestamp": 1721831305879,
     "user_tz": -420,
     "elapsed": 6646,
     "user": {
      "displayName": "Rudi Muliawan",
      "userId": "15951285730387719974"
     }
    },
    "colab": {
     "base_uri": "https://localhost:8080/",
     "height": 751
    },
    "id": "eOXpnmQc_NOc",
    "outputId": "e4590859-10f3-4fb1-b6a7-ce930eb74cf6",
    "ExecuteTime": {
     "end_time": "2024-07-31T17:58:31.572846Z",
     "start_time": "2024-07-31T17:58:27.729445Z"
    }
   },
   "outputs": [
    {
     "data": {
      "text/plain": [
       "<Figure size 1200x800 with 6 Axes>"
      ],
      "image/png": "[encoded data removed]"
     },
     "metadata": {},
     "output_type": "display_data"
    }
   ],
   "execution_count": 18
  },
  {
   "cell_type": "markdown",
   "source": [
    "\\- All the distribution are skewed, we can impute a missing value by its features median."
   ],
   "metadata": {
    "id": "CYreWROVFMos"
   }
  },
  {
   "cell_type": "markdown",
   "source": [
    "- Next, explore the `pickup_time`"
   ],
   "metadata": {
    "id": "C7TnRAdkFWiT"
   }
  },
  {
   "cell_type": "code",
   "source": [
    "X_train['pickup_time'].value_counts(normalize=True)"
   ],
   "metadata": {
    "colab": {
     "base_uri": "https://localhost:8080/"
    },
    "id": "p8c9PHjaFUrv",
    "executionInfo": {
     "status": "ok",
     "timestamp": 1703382841687,
     "user_tz": -420,
     "elapsed": 39,
     "user": {
      "displayName": "Cahya Amalinadhi",
      "userId": "05965076763431336474"
     }
    },
    "outputId": "0326f3a2-f904-4cbe-d315-3de79009d9be",
    "ExecuteTime": {
     "end_time": "2024-07-31T17:58:31.584602Z",
     "start_time": "2024-07-31T17:58:31.574165Z"
    }
   },
   "outputs": [
    {
     "data": {
      "text/plain": [
       "pickup_time\n",
       "16-22    0.328160\n",
       "10-16    0.286376\n",
       "22-04    0.221648\n",
       "04-10    0.157599\n",
       "-        0.006217\n",
       "Name: proportion, dtype: float64"
      ]
     },
     "execution_count": 19,
     "metadata": {},
     "output_type": "execute_result"
    }
   ],
   "execution_count": 19
  },
  {
   "cell_type": "markdown",
   "source": [
    "- There's a missing value with symbol `'-'` in `pickup_time`,\n",
    "- We can impute the missing value with `UNKNOWN`"
   ],
   "metadata": {
    "id": "8bEMsSiSG6NZ"
   }
  },
  {
   "cell_type": "markdown",
   "source": [
    "- Explore the relation between `pickup_time` and `fare`"
   ],
   "metadata": {
    "id": "OX5MqqWjHEbg"
   }
  },
  {
   "cell_type": "code",
   "source": [
    "# Concat the data first\n",
    "train_data = pd.concat((X_train, y_train), axis=1)\n",
    "train_data.head()"
   ],
   "metadata": {
    "colab": {
     "base_uri": "https://localhost:8080/",
     "height": 258
    },
    "id": "xqg-kjr-GvYf",
    "executionInfo": {
     "status": "ok",
     "timestamp": 1703382841688,
     "user_tz": -420,
     "elapsed": 36,
     "user": {
      "displayName": "Cahya Amalinadhi",
      "userId": "05965076763431336474"
     }
    },
    "outputId": "94bef63f-7107-4bcb-c336-869d09f9af49",
    "ExecuteTime": {
     "end_time": "2024-07-31T17:58:31.636990Z",
     "start_time": "2024-07-31T17:58:31.585287Z"
    }
   },
   "outputs": [
    {
     "data": {
      "text/plain": [
       "         pickup_time  pickup_longitude  pickup_latitude  dropoff_longitude  \\\n",
       "order_id                                                                     \n",
       "51655713       16-22        -73.979392        40.735734         -73.906281   \n",
       "37525839       16-22        -73.986575        40.761473         -73.981880   \n",
       "55058970       16-22        -73.972533        40.782260         -73.952761   \n",
       "15663447       10-16        -73.979967        40.751612         -73.976313   \n",
       "13325650       16-22        -73.976192        40.744026         -73.980935   \n",
       "\n",
       "          dropoff_latitude  passenger_count  fare_amount  \n",
       "order_id                                                  \n",
       "51655713         40.745539              2.0         16.5  \n",
       "37525839         40.768660              5.0          3.7  \n",
       "55058970         40.708980              1.0         18.9  \n",
       "15663447         40.758427              6.0          4.1  \n",
       "13325650         40.733946              1.0          5.0  "
      ],
      "text/html": [
       "<div>\n",
       "<style scoped>\n",
       "    .dataframe tbody tr th:only-of-type {\n",
       "        vertical-align: middle;\n",
       "    }\n",
       "\n",
       "    .dataframe tbody tr th {\n",
       "        vertical-align: top;\n",
       "    }\n",
       "\n",
       "    .dataframe thead th {\n",
       "        text-align: right;\n",
       "    }\n",
       "</style>\n",
       "<table border=\"1\" class=\"dataframe\">\n",
       "  <thead>\n",
       "    <tr style=\"text-align: right;\">\n",
       "      <th></th>\n",
       "      <th>pickup_time</th>\n",
       "      <th>pickup_longitude</th>\n",
       "      <th>pickup_latitude</th>\n",
       "      <th>dropoff_longitude</th>\n",
       "      <th>dropoff_latitude</th>\n",
       "      <th>passenger_count</th>\n",
       "      <th>fare_amount</th>\n",
       "    </tr>\n",
       "    <tr>\n",
       "      <th>order_id</th>\n",
       "      <th></th>\n",
       "      <th></th>\n",
       "      <th></th>\n",
       "      <th></th>\n",
       "      <th></th>\n",
       "      <th></th>\n",
       "      <th></th>\n",
       "    </tr>\n",
       "  </thead>\n",
       "  <tbody>\n",
       "    <tr>\n",
       "      <th>51655713</th>\n",
       "      <td>16-22</td>\n",
       "      <td>-73.979392</td>\n",
       "      <td>40.735734</td>\n",
       "      <td>-73.906281</td>\n",
       "      <td>40.745539</td>\n",
       "      <td>2.0</td>\n",
       "      <td>16.5</td>\n",
       "    </tr>\n",
       "    <tr>\n",
       "      <th>37525839</th>\n",
       "      <td>16-22</td>\n",
       "      <td>-73.986575</td>\n",
       "      <td>40.761473</td>\n",
       "      <td>-73.981880</td>\n",
       "      <td>40.768660</td>\n",
       "      <td>5.0</td>\n",
       "      <td>3.7</td>\n",
       "    </tr>\n",
       "    <tr>\n",
       "      <th>55058970</th>\n",
       "      <td>16-22</td>\n",
       "      <td>-73.972533</td>\n",
       "      <td>40.782260</td>\n",
       "      <td>-73.952761</td>\n",
       "      <td>40.708980</td>\n",
       "      <td>1.0</td>\n",
       "      <td>18.9</td>\n",
       "    </tr>\n",
       "    <tr>\n",
       "      <th>15663447</th>\n",
       "      <td>10-16</td>\n",
       "      <td>-73.979967</td>\n",
       "      <td>40.751612</td>\n",
       "      <td>-73.976313</td>\n",
       "      <td>40.758427</td>\n",
       "      <td>6.0</td>\n",
       "      <td>4.1</td>\n",
       "    </tr>\n",
       "    <tr>\n",
       "      <th>13325650</th>\n",
       "      <td>16-22</td>\n",
       "      <td>-73.976192</td>\n",
       "      <td>40.744026</td>\n",
       "      <td>-73.980935</td>\n",
       "      <td>40.733946</td>\n",
       "      <td>1.0</td>\n",
       "      <td>5.0</td>\n",
       "    </tr>\n",
       "  </tbody>\n",
       "</table>\n",
       "</div>"
      ]
     },
     "execution_count": 20,
     "metadata": {},
     "output_type": "execute_result"
    }
   ],
   "execution_count": 20
  },
  {
   "cell_type": "code",
   "source": [
    "# Create a boxplot\n",
    "sns.boxplot(data=train_data[train_data['fare_amount'] < 50],\n",
    "            x='pickup_time',\n",
    "            y='fare_amount')\n",
    "plt.show()"
   ],
   "metadata": {
    "colab": {
     "base_uri": "https://localhost:8080/",
     "height": 450
    },
    "id": "e0xMJc-oHO8m",
    "executionInfo": {
     "status": "ok",
     "timestamp": 1703382841688,
     "user_tz": -420,
     "elapsed": 34,
     "user": {
      "displayName": "Cahya Amalinadhi",
      "userId": "05965076763431336474"
     }
    },
    "outputId": "3a822bbd-4d15-4c07-8513-fb972ef08008",
    "ExecuteTime": {
     "end_time": "2024-07-31T17:58:31.889569Z",
     "start_time": "2024-07-31T17:58:31.638131Z"
    }
   },
   "outputs": [
    {
     "data": {
      "text/plain": [
       "<Figure size 640x480 with 1 Axes>"
      ],
      "image/png": "[encoded data removed]"
     },
     "metadata": {},
     "output_type": "display_data"
    }
   ],
   "execution_count": 21
  },
  {
   "cell_type": "markdown",
   "source": [
    "- There is no significant fare different between `pickup_time`.\n",
    "- We can perform a one hot encoding for this data."
   ],
   "metadata": {
    "id": "FcqYxsDtHynL"
   }
  },
  {
   "cell_type": "markdown",
   "source": [
    "**Conclusion for preprocessing**\n",
    "- Impute the missing `passenger_counts` with its median\n",
    "- Impute the missing `pickup_time` with `'UNKNOWN'`\n",
    "- Feature engineering the `dropoff` and `pickup` coordinate to be a distance between pickup and dropoff. We can use an Euclidean distance for simplicity."
   ],
   "metadata": {
    "id": "9vXXNcIuH86Y"
   }
  },
  {
   "cell_type": "markdown",
   "source": [
    "#### 2.4. Numerical Imputation (6 pts)\n",
    "---"
   ],
   "metadata": {
    "id": "tUARDkuwIm7D"
   }
  },
  {
   "cell_type": "markdown",
   "source": [
    "- Now, let's perform a numerical imputation\n",
    "- First check the missing value of the numerical data"
   ],
   "metadata": {
    "id": "squyrSVbJ5dc"
   }
  },
  {
   "cell_type": "code",
   "source": [
    "# Check missing value (JUST RUN THE CODE)\n",
    "X_train_num.isna().sum(0)"
   ],
   "metadata": {
    "colab": {
     "base_uri": "https://localhost:8080/"
    },
    "id": "cVMwSr35MyCf",
    "executionInfo": {
     "status": "ok",
     "timestamp": 1703382841688,
     "user_tz": -420,
     "elapsed": 31,
     "user": {
      "displayName": "Cahya Amalinadhi",
      "userId": "05965076763431336474"
     }
    },
    "outputId": "5538a4bb-49d5-4d0c-df10-805639492641",
    "ExecuteTime": {
     "end_time": "2024-07-31T17:58:31.894468Z",
     "start_time": "2024-07-31T17:58:31.890319Z"
    }
   },
   "outputs": [
    {
     "data": {
      "text/plain": [
       "pickup_longitude       0\n",
       "pickup_latitude        0\n",
       "dropoff_longitude      0\n",
       "dropoff_latitude       0\n",
       "passenger_count      945\n",
       "dtype: int64"
      ]
     },
     "execution_count": 22,
     "metadata": {},
     "output_type": "execute_result"
    }
   ],
   "execution_count": 22
  },
  {
   "cell_type": "markdown",
   "source": [
    "- Create a function to fit a numerical features imputer"
   ],
   "metadata": {
    "id": "qli0bc7TIm7H"
   }
  },
  {
   "cell_type": "code",
   "source": [
    "####################################################\n",
    "# Create function to fit & transform numerical imputers\n",
    "# The fit function is called by num_imputer_fit\n",
    "# - it needs 1 input, the data (pd.DataFrame)\n",
    "# - the missing value is np.nan\n",
    "# - the imputation strategy is median\n",
    "# - it return the imputer\n",
    "#\n",
    "# The transform function is called by num_imputer_transform\n",
    "# - it needs 2 input, data (pd.DataFrame) and imputer (sklearn object)\n",
    "# - it return the imputed data in pd.DataFrame format\n",
    "#\n",
    "# Write your code here\n",
    "####################################################\n",
    "from sklearn.impute import SimpleImputer\n",
    "\n",
    "\n",
    "def num_imputer_fit(data):\n",
    "    numeric_imputer = SimpleImputer(missing_values=np.nan, strategy='median')\n",
    "    numeric_imputer.fit(data)\n",
    "    return numeric_imputer\n",
    "\n",
    "\n",
    "def num_imputer_transform(data, numeric_imputer):\n",
    "    imputed_data = numeric_imputer.transform(data)\n",
    "    imputed_data = pd.DataFrame(imputed_data, columns=data.columns, index=data.index)\n",
    "    return imputed_data"
   ],
   "metadata": {
    "id": "S9xCqY1vIm7I",
    "ExecuteTime": {
     "end_time": "2024-07-31T17:58:31.936279Z",
     "start_time": "2024-07-31T17:58:31.895237Z"
    }
   },
   "outputs": [],
   "execution_count": 23
  },
  {
   "cell_type": "markdown",
   "source": [
    "- Perform imputation"
   ],
   "metadata": {
    "id": "k3-99ZrM1-uU"
   }
  },
  {
   "cell_type": "code",
   "source": [
    "# Get the numerical imputer\n",
    "num_imputer = num_imputer_fit(X_train_num) # WRITE YOUR CODE HERE\n",
    "\n",
    "# Transform the data\n",
    "X_train_num_imputed = num_imputer_transform(X_train_num, num_imputer) # WRITE YOUR CODE HERE"
   ],
   "metadata": {
    "id": "6M8Ea7ybH7B3",
    "ExecuteTime": {
     "end_time": "2024-07-31T17:58:31.983297Z",
     "start_time": "2024-07-31T17:58:31.937105Z"
    }
   },
   "outputs": [],
   "execution_count": 24
  },
  {
   "cell_type": "code",
   "source": [
    "# Validate (JUST RUN THE CODE)\n",
    "X_train_num_imputed.isna().sum(0)"
   ],
   "metadata": {
    "colab": {
     "base_uri": "https://localhost:8080/"
    },
    "id": "xkI8me6a2GNN",
    "executionInfo": {
     "status": "ok",
     "timestamp": 1703382842971,
     "user_tz": -420,
     "elapsed": 32,
     "user": {
      "displayName": "Cahya Amalinadhi",
      "userId": "05965076763431336474"
     }
    },
    "outputId": "a25aff2c-8bed-4b2c-c724-84c58c6c8a0f",
    "ExecuteTime": {
     "end_time": "2024-07-31T17:58:31.988011Z",
     "start_time": "2024-07-31T17:58:31.984111Z"
    }
   },
   "outputs": [
    {
     "data": {
      "text/plain": [
       "pickup_longitude     0\n",
       "pickup_latitude      0\n",
       "dropoff_longitude    0\n",
       "dropoff_latitude     0\n",
       "passenger_count      0\n",
       "dtype: int64"
      ]
     },
     "execution_count": 25,
     "metadata": {},
     "output_type": "execute_result"
    }
   ],
   "execution_count": 25
  },
  {
   "cell_type": "markdown",
   "source": [
    "Great!"
   ],
   "metadata": {
    "id": "qIqhlTq42cDa"
   }
  },
  {
   "cell_type": "markdown",
   "source": [
    "#### 2.5. Categorical Imputation (6 pts)\n",
    "---"
   ],
   "metadata": {
    "id": "1dyVifNK2fZA"
   }
  },
  {
   "cell_type": "markdown",
   "source": [
    "- Next, let's perform the categorical imputation"
   ],
   "metadata": {
    "id": "rtw3ZtuVMBFq"
   }
  },
  {
   "cell_type": "code",
   "source": [
    "# Check missing value (JUST RUN THE CODE)\n",
    "X_train_cat.value_counts()"
   ],
   "metadata": {
    "colab": {
     "base_uri": "https://localhost:8080/"
    },
    "executionInfo": {
     "status": "ok",
     "timestamp": 1703382842972,
     "user_tz": -420,
     "elapsed": 31,
     "user": {
      "displayName": "Cahya Amalinadhi",
      "userId": "05965076763431336474"
     }
    },
    "outputId": "6d8c602c-5e55-4f82-f678-d7bfe2e5ac63",
    "id": "YOLY-j9c2fZN",
    "ExecuteTime": {
     "end_time": "2024-07-31T17:58:32.002987Z",
     "start_time": "2024-07-31T17:58:31.988795Z"
    }
   },
   "outputs": [
    {
     "data": {
      "text/plain": [
       "pickup_time\n",
       "16-22          51144\n",
       "10-16          44632\n",
       "22-04          34544\n",
       "04-10          24562\n",
       "-                969\n",
       "Name: count, dtype: int64"
      ]
     },
     "execution_count": 26,
     "metadata": {},
     "output_type": "execute_result"
    }
   ],
   "execution_count": 26
  },
  {
   "cell_type": "markdown",
   "source": [
    "- Create a function to fit a categorical features imputer"
   ],
   "metadata": {
    "id": "eeKkHCph2fZN"
   }
  },
  {
   "cell_type": "code",
   "source": [
    "####################################################\n",
    "# Create function to fit & transform categorical imputers\n",
    "# The fit function is called by cat_imputer_fit\n",
    "# - it needs 1 input, the data (pd.DataFrame)\n",
    "# - the missing value is '-'\n",
    "# - the imputation strategy is filling it with 'UNKNOWN'\n",
    "# - it return the imputer\n",
    "#\n",
    "# The transform function is called by cat_imputer_transform\n",
    "# - it needs 2 input, data (pd.DataFrame) and imputer (sklearn object)\n",
    "# - it return the imputed data in pd.DataFrame format\n",
    "#\n",
    "# Write your code here\n",
    "####################################################\n",
    "from sklearn.impute import SimpleImputer\n",
    "\n",
    "\n",
    "def cat_imputer_fit(data):\n",
    "    categorical_imputer = SimpleImputer(missing_values='-', strategy='constant', fill_value='UNKNOWN')\n",
    "    categorical_imputer.fit(data)\n",
    "    return categorical_imputer\n",
    "\n",
    "\n",
    "def cat_imputer_transform(data, categorical_imputer):\n",
    "    imputed_data = categorical_imputer.transform(data)\n",
    "    imputed_data = pd.DataFrame(imputed_data, columns=data.columns, index=data.index)\n",
    "    return imputed_data"
   ],
   "metadata": {
    "id": "zj32QoP72fZO",
    "ExecuteTime": {
     "end_time": "2024-07-31T17:58:32.008341Z",
     "start_time": "2024-07-31T17:58:32.005221Z"
    }
   },
   "outputs": [],
   "execution_count": 27
  },
  {
   "cell_type": "markdown",
   "source": [
    "- Perform imputation"
   ],
   "metadata": {
    "id": "HaIpEyAb2fZO"
   }
  },
  {
   "cell_type": "code",
   "source": [
    "# Perform categorical imputation\n",
    "cat_imputer = cat_imputer_fit(X_train_cat) # WRITE YOUR CODE HERE\n",
    "\n",
    "# Transform\n",
    "X_train_cat_imputed = cat_imputer_transform(X_train_cat, cat_imputer) # WRITE YOUR CODE HERE"
   ],
   "metadata": {
    "id": "_RVqvHaa2fZP",
    "ExecuteTime": {
     "end_time": "2024-07-31T17:58:32.026500Z",
     "start_time": "2024-07-31T17:58:32.009158Z"
    }
   },
   "outputs": [],
   "execution_count": 28
  },
  {
   "cell_type": "code",
   "source": [
    "# Validate (JUST RUN THE CODE)\n",
    "X_train_cat_imputed.value_counts(normalize=True)"
   ],
   "metadata": {
    "colab": {
     "base_uri": "https://localhost:8080/"
    },
    "executionInfo": {
     "status": "ok",
     "timestamp": 1703382842973,
     "user_tz": -420,
     "elapsed": 29,
     "user": {
      "displayName": "Cahya Amalinadhi",
      "userId": "05965076763431336474"
     }
    },
    "outputId": "dafd6a60-17fb-459b-f603-59f12d9885d6",
    "id": "Cl1KZpCP2fZP",
    "ExecuteTime": {
     "end_time": "2024-07-31T17:58:32.039171Z",
     "start_time": "2024-07-31T17:58:32.027415Z"
    }
   },
   "outputs": [
    {
     "data": {
      "text/plain": [
       "pickup_time\n",
       "16-22          0.328160\n",
       "10-16          0.286376\n",
       "22-04          0.221648\n",
       "04-10          0.157599\n",
       "UNKNOWN        0.006217\n",
       "Name: proportion, dtype: float64"
      ]
     },
     "execution_count": 29,
     "metadata": {},
     "output_type": "execute_result"
    }
   ],
   "execution_count": 29
  },
  {
   "cell_type": "markdown",
   "source": [
    "Great!"
   ],
   "metadata": {
    "id": "PVbiQF7V2fZP"
   }
  },
  {
   "cell_type": "markdown",
   "source": [
    "#### 2.6. Preprocess Categorical Features (6 pts)\n",
    "---"
   ],
   "metadata": {
    "id": "ICQiqto83TQ9"
   }
  },
  {
   "cell_type": "markdown",
   "source": [
    "- We will create a one-hot-encoder (read the `EDA before processing`) for the categorical features\n",
    "- Create a function to perform a one hot encoder"
   ],
   "metadata": {
    "id": "60X9R4Ny3cwY"
   }
  },
  {
   "cell_type": "code",
   "source": [
    "####################################################\n",
    "# Write two functions to perform OHE for the categorical data\n",
    "# The first function is called cat_encoder_fit\n",
    "# - It needs 1 input, the data (pd.DataFrame)\n",
    "# - You create an encoder (from OHE Sklearn)\n",
    "# - input all categories of the categorical data\n",
    "# - if there is other category outside the categories listed right now, ignore it\n",
    "# - return the encoder\n",
    "#\n",
    "# The second function is called cat_encoder_transfrom\n",
    "# - It needs two input, the data (pd.DataFrame), the encoder (sklearn object)\n",
    "# - It transform the input data based on the encoder\n",
    "# - It returns the encoded data (pd.DataFrame)\n",
    "#\n",
    "# Write your code here\n",
    "####################################################\n",
    "from sklearn.preprocessing import OneHotEncoder\n",
    "\n",
    "\n",
    "def cat_encoder_fit(data):\n",
    "    categorical_encoder = OneHotEncoder(handle_unknown='ignore', sparse_output=False)\n",
    "    categorical_encoder.fit(data)\n",
    "    return categorical_encoder\n",
    "\n",
    "\n",
    "def cat_encoder_transform(data, categorical_encoder):\n",
    "    encoded_data = categorical_encoder.transform(data)\n",
    "    ohe_data = pd.DataFrame(encoded_data, columns=categorical_encoder.get_feature_names_out(), index=data.index)\n",
    "    return ohe_data"
   ],
   "metadata": {
    "id": "wsly5zI_3TQ_",
    "ExecuteTime": {
     "end_time": "2024-07-31T17:58:32.044236Z",
     "start_time": "2024-07-31T17:58:32.039897Z"
    }
   },
   "outputs": [],
   "execution_count": 30
  },
  {
   "cell_type": "markdown",
   "source": [
    "- Perform imputation"
   ],
   "metadata": {
    "id": "AYa06kxt3TQ_"
   }
  },
  {
   "cell_type": "code",
   "source": [
    "# Perform categorical imputation\n",
    "cat_encoder = cat_encoder_fit(X_train_cat_imputed) # WRITE YOUR CODE HERE\n",
    "\n",
    "# Transform\n",
    "X_train_cat_encoded = cat_encoder_transform(X_train_cat_imputed, cat_encoder) # WRITE YOUR CODE HERE\n"
   ],
   "metadata": {
    "id": "xu_VB3_w3TQ_",
    "ExecuteTime": {
     "end_time": "2024-07-31T17:58:32.077143Z",
     "start_time": "2024-07-31T17:58:32.045028Z"
    }
   },
   "outputs": [],
   "execution_count": 31
  },
  {
   "cell_type": "code",
   "source": [
    "# Validate  (JUST RUN THE CODE)\n",
    "print('Original shape:', X_train_cat_imputed.shape)\n",
    "print('Encoded shape :', X_train_cat_encoded.shape)"
   ],
   "metadata": {
    "colab": {
     "base_uri": "https://localhost:8080/"
    },
    "id": "ZCjWwE6rN4lt",
    "executionInfo": {
     "status": "ok",
     "timestamp": 1703382842973,
     "user_tz": -420,
     "elapsed": 28,
     "user": {
      "displayName": "Cahya Amalinadhi",
      "userId": "05965076763431336474"
     }
    },
    "outputId": "2ad1c38f-f8d5-4d2e-a937-50e20c9d90d2",
    "ExecuteTime": {
     "end_time": "2024-07-31T17:58:32.080585Z",
     "start_time": "2024-07-31T17:58:32.078100Z"
    }
   },
   "outputs": [
    {
     "name": "stdout",
     "output_type": "stream",
     "text": [
      "Original shape: (155851, 1)\n",
      "Encoded shape : (155851, 5)\n"
     ]
    }
   ],
   "execution_count": 32
  },
  {
   "cell_type": "code",
   "source": [
    "# Validate  (JUST RUN THE CODE)\n",
    "X_train_cat_encoded.head()"
   ],
   "metadata": {
    "colab": {
     "base_uri": "https://localhost:8080/"
    },
    "executionInfo": {
     "status": "ok",
     "timestamp": 1703382842973,
     "user_tz": -420,
     "elapsed": 27,
     "user": {
      "displayName": "Cahya Amalinadhi",
      "userId": "05965076763431336474"
     }
    },
    "outputId": "96b37ffc-1d23-43c8-d626-2c117dd8b686",
    "id": "TuWmwru63TQ_",
    "ExecuteTime": {
     "end_time": "2024-07-31T17:58:32.094176Z",
     "start_time": "2024-07-31T17:58:32.081318Z"
    }
   },
   "outputs": [
    {
     "data": {
      "text/plain": [
       "          pickup_time_04-10  pickup_time_10-16  pickup_time_16-22  \\\n",
       "order_id                                                            \n",
       "51655713                0.0                0.0                1.0   \n",
       "37525839                0.0                0.0                1.0   \n",
       "55058970                0.0                0.0                1.0   \n",
       "15663447                0.0                1.0                0.0   \n",
       "13325650                0.0                0.0                1.0   \n",
       "\n",
       "          pickup_time_22-04  pickup_time_UNKNOWN  \n",
       "order_id                                          \n",
       "51655713                0.0                  0.0  \n",
       "37525839                0.0                  0.0  \n",
       "55058970                0.0                  0.0  \n",
       "15663447                0.0                  0.0  \n",
       "13325650                0.0                  0.0  "
      ],
      "text/html": [
       "<div>\n",
       "<style scoped>\n",
       "    .dataframe tbody tr th:only-of-type {\n",
       "        vertical-align: middle;\n",
       "    }\n",
       "\n",
       "    .dataframe tbody tr th {\n",
       "        vertical-align: top;\n",
       "    }\n",
       "\n",
       "    .dataframe thead th {\n",
       "        text-align: right;\n",
       "    }\n",
       "</style>\n",
       "<table border=\"1\" class=\"dataframe\">\n",
       "  <thead>\n",
       "    <tr style=\"text-align: right;\">\n",
       "      <th></th>\n",
       "      <th>pickup_time_04-10</th>\n",
       "      <th>pickup_time_10-16</th>\n",
       "      <th>pickup_time_16-22</th>\n",
       "      <th>pickup_time_22-04</th>\n",
       "      <th>pickup_time_UNKNOWN</th>\n",
       "    </tr>\n",
       "    <tr>\n",
       "      <th>order_id</th>\n",
       "      <th></th>\n",
       "      <th></th>\n",
       "      <th></th>\n",
       "      <th></th>\n",
       "      <th></th>\n",
       "    </tr>\n",
       "  </thead>\n",
       "  <tbody>\n",
       "    <tr>\n",
       "      <th>51655713</th>\n",
       "      <td>0.0</td>\n",
       "      <td>0.0</td>\n",
       "      <td>1.0</td>\n",
       "      <td>0.0</td>\n",
       "      <td>0.0</td>\n",
       "    </tr>\n",
       "    <tr>\n",
       "      <th>37525839</th>\n",
       "      <td>0.0</td>\n",
       "      <td>0.0</td>\n",
       "      <td>1.0</td>\n",
       "      <td>0.0</td>\n",
       "      <td>0.0</td>\n",
       "    </tr>\n",
       "    <tr>\n",
       "      <th>55058970</th>\n",
       "      <td>0.0</td>\n",
       "      <td>0.0</td>\n",
       "      <td>1.0</td>\n",
       "      <td>0.0</td>\n",
       "      <td>0.0</td>\n",
       "    </tr>\n",
       "    <tr>\n",
       "      <th>15663447</th>\n",
       "      <td>0.0</td>\n",
       "      <td>1.0</td>\n",
       "      <td>0.0</td>\n",
       "      <td>0.0</td>\n",
       "      <td>0.0</td>\n",
       "    </tr>\n",
       "    <tr>\n",
       "      <th>13325650</th>\n",
       "      <td>0.0</td>\n",
       "      <td>0.0</td>\n",
       "      <td>1.0</td>\n",
       "      <td>0.0</td>\n",
       "      <td>0.0</td>\n",
       "    </tr>\n",
       "  </tbody>\n",
       "</table>\n",
       "</div>"
      ]
     },
     "execution_count": 33,
     "metadata": {},
     "output_type": "execute_result"
    }
   ],
   "execution_count": 33
  },
  {
   "cell_type": "code",
   "source": [
    "# Validate  (JUST RUN THE CODE)\n",
    "X_train_cat_imputed.head()"
   ],
   "metadata": {
    "colab": {
     "base_uri": "https://localhost:8080/"
    },
    "id": "IKwZYDhl7IiF",
    "executionInfo": {
     "status": "ok",
     "timestamp": 1703382842974,
     "user_tz": -420,
     "elapsed": 24,
     "user": {
      "displayName": "Cahya Amalinadhi",
      "userId": "05965076763431336474"
     }
    },
    "outputId": "2d6b349a-3a4e-4eca-8cfa-4841e271872d",
    "ExecuteTime": {
     "end_time": "2024-07-31T17:58:32.104423Z",
     "start_time": "2024-07-31T17:58:32.095028Z"
    }
   },
   "outputs": [
    {
     "data": {
      "text/plain": [
       "         pickup_time\n",
       "order_id            \n",
       "51655713       16-22\n",
       "37525839       16-22\n",
       "55058970       16-22\n",
       "15663447       10-16\n",
       "13325650       16-22"
      ],
      "text/html": [
       "<div>\n",
       "<style scoped>\n",
       "    .dataframe tbody tr th:only-of-type {\n",
       "        vertical-align: middle;\n",
       "    }\n",
       "\n",
       "    .dataframe tbody tr th {\n",
       "        vertical-align: top;\n",
       "    }\n",
       "\n",
       "    .dataframe thead th {\n",
       "        text-align: right;\n",
       "    }\n",
       "</style>\n",
       "<table border=\"1\" class=\"dataframe\">\n",
       "  <thead>\n",
       "    <tr style=\"text-align: right;\">\n",
       "      <th></th>\n",
       "      <th>pickup_time</th>\n",
       "    </tr>\n",
       "    <tr>\n",
       "      <th>order_id</th>\n",
       "      <th></th>\n",
       "    </tr>\n",
       "  </thead>\n",
       "  <tbody>\n",
       "    <tr>\n",
       "      <th>51655713</th>\n",
       "      <td>16-22</td>\n",
       "    </tr>\n",
       "    <tr>\n",
       "      <th>37525839</th>\n",
       "      <td>16-22</td>\n",
       "    </tr>\n",
       "    <tr>\n",
       "      <th>55058970</th>\n",
       "      <td>16-22</td>\n",
       "    </tr>\n",
       "    <tr>\n",
       "      <th>15663447</th>\n",
       "      <td>10-16</td>\n",
       "    </tr>\n",
       "    <tr>\n",
       "      <th>13325650</th>\n",
       "      <td>16-22</td>\n",
       "    </tr>\n",
       "  </tbody>\n",
       "</table>\n",
       "</div>"
      ]
     },
     "execution_count": 34,
     "metadata": {},
     "output_type": "execute_result"
    }
   ],
   "execution_count": 34
  },
  {
   "cell_type": "markdown",
   "source": [
    "Great!"
   ],
   "metadata": {
    "id": "hGS9Q4vP3TQ_"
   }
  },
  {
   "cell_type": "markdown",
   "source": [
    "#### 2.7. Join the data (6 pts)\n",
    "---"
   ],
   "metadata": {
    "id": "e4PGfH5-7QRM"
   }
  },
  {
   "cell_type": "markdown",
   "source": [
    "- After all the data is filled (numerically), we can join the data\n",
    "- Create a function to join the data"
   ],
   "metadata": {
    "id": "L-MBNC397QRU"
   }
  },
  {
   "cell_type": "code",
   "source": [
    "####################################################\n",
    "# Create a function to join / concat the data\n",
    "# The function is called by concat_data\n",
    "# - It needs two input, num_data (pd.DataFrame) and cat_data (pd.DataFrame)\n",
    "# - Don't forget to validate your process\n",
    "# - It returns the concated data\n",
    "#\n",
    "# Write your code here\n",
    "####################################################\n",
    "def concat_data(num_data, cat_data):\n",
    "    return pd.concat([num_data, cat_data], axis=1)"
   ],
   "metadata": {
    "id": "VdZ4oOas7QRU",
    "ExecuteTime": {
     "end_time": "2024-07-31T17:58:32.112784Z",
     "start_time": "2024-07-31T17:58:32.105105Z"
    }
   },
   "outputs": [],
   "execution_count": 35
  },
  {
   "cell_type": "markdown",
   "source": [
    "- Perform concatenated"
   ],
   "metadata": {
    "id": "apDQ_ZBh7QRV"
   }
  },
  {
   "cell_type": "code",
   "source": [
    "# Concat the data\n",
    "X_train_concat = concat_data(X_train_num_imputed, X_train_cat_encoded)# WRITE YOUR CODE HERE"
   ],
   "metadata": {
    "executionInfo": {
     "status": "ok",
     "timestamp": 1703382842974,
     "user_tz": -420,
     "elapsed": 21,
     "user": {
      "displayName": "Cahya Amalinadhi",
      "userId": "05965076763431336474"
     }
    },
    "colab": {
     "base_uri": "https://localhost:8080/"
    },
    "id": "bNXOjIzf7QRV",
    "outputId": "cfcd004f-0895-4cbe-c0e0-07209805806d",
    "ExecuteTime": {
     "end_time": "2024-07-31T17:58:32.127507Z",
     "start_time": "2024-07-31T17:58:32.113631Z"
    }
   },
   "outputs": [],
   "execution_count": 36
  },
  {
   "cell_type": "code",
   "source": [
    "# Validate (JUST RUN THE CODE)\n",
    "X_train_concat.head()"
   ],
   "metadata": {
    "colab": {
     "base_uri": "https://localhost:8080/"
    },
    "id": "lx5Un4WZOh3-",
    "executionInfo": {
     "status": "ok",
     "timestamp": 1703382842975,
     "user_tz": -420,
     "elapsed": 21,
     "user": {
      "displayName": "Cahya Amalinadhi",
      "userId": "05965076763431336474"
     }
    },
    "outputId": "87e6fde2-5872-4750-f788-953dab7de612",
    "ExecuteTime": {
     "end_time": "2024-07-31T17:58:32.137340Z",
     "start_time": "2024-07-31T17:58:32.128349Z"
    }
   },
   "outputs": [
    {
     "data": {
      "text/plain": [
       "          pickup_longitude  pickup_latitude  dropoff_longitude  \\\n",
       "order_id                                                         \n",
       "51655713        -73.979392        40.735734         -73.906281   \n",
       "37525839        -73.986575        40.761473         -73.981880   \n",
       "55058970        -73.972533        40.782260         -73.952761   \n",
       "15663447        -73.979967        40.751612         -73.976313   \n",
       "13325650        -73.976192        40.744026         -73.980935   \n",
       "\n",
       "          dropoff_latitude  passenger_count  pickup_time_04-10  \\\n",
       "order_id                                                         \n",
       "51655713         40.745539              2.0                0.0   \n",
       "37525839         40.768660              5.0                0.0   \n",
       "55058970         40.708980              1.0                0.0   \n",
       "15663447         40.758427              6.0                0.0   \n",
       "13325650         40.733946              1.0                0.0   \n",
       "\n",
       "          pickup_time_10-16  pickup_time_16-22  pickup_time_22-04  \\\n",
       "order_id                                                            \n",
       "51655713                0.0                1.0                0.0   \n",
       "37525839                0.0                1.0                0.0   \n",
       "55058970                0.0                1.0                0.0   \n",
       "15663447                1.0                0.0                0.0   \n",
       "13325650                0.0                1.0                0.0   \n",
       "\n",
       "          pickup_time_UNKNOWN  \n",
       "order_id                       \n",
       "51655713                  0.0  \n",
       "37525839                  0.0  \n",
       "55058970                  0.0  \n",
       "15663447                  0.0  \n",
       "13325650                  0.0  "
      ],
      "text/html": [
       "<div>\n",
       "<style scoped>\n",
       "    .dataframe tbody tr th:only-of-type {\n",
       "        vertical-align: middle;\n",
       "    }\n",
       "\n",
       "    .dataframe tbody tr th {\n",
       "        vertical-align: top;\n",
       "    }\n",
       "\n",
       "    .dataframe thead th {\n",
       "        text-align: right;\n",
       "    }\n",
       "</style>\n",
       "<table border=\"1\" class=\"dataframe\">\n",
       "  <thead>\n",
       "    <tr style=\"text-align: right;\">\n",
       "      <th></th>\n",
       "      <th>pickup_longitude</th>\n",
       "      <th>pickup_latitude</th>\n",
       "      <th>dropoff_longitude</th>\n",
       "      <th>dropoff_latitude</th>\n",
       "      <th>passenger_count</th>\n",
       "      <th>pickup_time_04-10</th>\n",
       "      <th>pickup_time_10-16</th>\n",
       "      <th>pickup_time_16-22</th>\n",
       "      <th>pickup_time_22-04</th>\n",
       "      <th>pickup_time_UNKNOWN</th>\n",
       "    </tr>\n",
       "    <tr>\n",
       "      <th>order_id</th>\n",
       "      <th></th>\n",
       "      <th></th>\n",
       "      <th></th>\n",
       "      <th></th>\n",
       "      <th></th>\n",
       "      <th></th>\n",
       "      <th></th>\n",
       "      <th></th>\n",
       "      <th></th>\n",
       "      <th></th>\n",
       "    </tr>\n",
       "  </thead>\n",
       "  <tbody>\n",
       "    <tr>\n",
       "      <th>51655713</th>\n",
       "      <td>-73.979392</td>\n",
       "      <td>40.735734</td>\n",
       "      <td>-73.906281</td>\n",
       "      <td>40.745539</td>\n",
       "      <td>2.0</td>\n",
       "      <td>0.0</td>\n",
       "      <td>0.0</td>\n",
       "      <td>1.0</td>\n",
       "      <td>0.0</td>\n",
       "      <td>0.0</td>\n",
       "    </tr>\n",
       "    <tr>\n",
       "      <th>37525839</th>\n",
       "      <td>-73.986575</td>\n",
       "      <td>40.761473</td>\n",
       "      <td>-73.981880</td>\n",
       "      <td>40.768660</td>\n",
       "      <td>5.0</td>\n",
       "      <td>0.0</td>\n",
       "      <td>0.0</td>\n",
       "      <td>1.0</td>\n",
       "      <td>0.0</td>\n",
       "      <td>0.0</td>\n",
       "    </tr>\n",
       "    <tr>\n",
       "      <th>55058970</th>\n",
       "      <td>-73.972533</td>\n",
       "      <td>40.782260</td>\n",
       "      <td>-73.952761</td>\n",
       "      <td>40.708980</td>\n",
       "      <td>1.0</td>\n",
       "      <td>0.0</td>\n",
       "      <td>0.0</td>\n",
       "      <td>1.0</td>\n",
       "      <td>0.0</td>\n",
       "      <td>0.0</td>\n",
       "    </tr>\n",
       "    <tr>\n",
       "      <th>15663447</th>\n",
       "      <td>-73.979967</td>\n",
       "      <td>40.751612</td>\n",
       "      <td>-73.976313</td>\n",
       "      <td>40.758427</td>\n",
       "      <td>6.0</td>\n",
       "      <td>0.0</td>\n",
       "      <td>1.0</td>\n",
       "      <td>0.0</td>\n",
       "      <td>0.0</td>\n",
       "      <td>0.0</td>\n",
       "    </tr>\n",
       "    <tr>\n",
       "      <th>13325650</th>\n",
       "      <td>-73.976192</td>\n",
       "      <td>40.744026</td>\n",
       "      <td>-73.980935</td>\n",
       "      <td>40.733946</td>\n",
       "      <td>1.0</td>\n",
       "      <td>0.0</td>\n",
       "      <td>0.0</td>\n",
       "      <td>1.0</td>\n",
       "      <td>0.0</td>\n",
       "      <td>0.0</td>\n",
       "    </tr>\n",
       "  </tbody>\n",
       "</table>\n",
       "</div>"
      ]
     },
     "execution_count": 37,
     "metadata": {},
     "output_type": "execute_result"
    }
   ],
   "execution_count": 37
  },
  {
   "cell_type": "markdown",
   "source": [
    "Great!"
   ],
   "metadata": {
    "id": "IKaeyh8J7QRW"
   }
  },
  {
   "cell_type": "markdown",
   "source": [
    "#### 2.8. Feature engineering the data (8 pts)\n",
    "---"
   ],
   "metadata": {
    "id": "VD93lAeX8ktW"
   }
  },
  {
   "cell_type": "markdown",
   "source": [
    "- Now, `pickup` and `dropoff` coordinate is not an explicit features.\n",
    "- We can create a better feature called by `distance` to summarize the `pickup` and `dropoff` coordinate."
   ],
   "metadata": {
    "id": "zSlPHShB8kte"
   }
  },
  {
   "cell_type": "code",
   "source": [
    "####################################################\n",
    "# Create a function that obtain the distance\n",
    "# The function is called with map_distance\n",
    "# - It needs an input, data (pd.DataFrame)\n",
    "# - In the input, you calculate the trip distance using Euclidean Distance\n",
    "#   ref: https://www.cuemath.com/euclidean-distance-formula/\n",
    "# - Then, you can save the distance information as a new column, 'distance'\n",
    "# - And you can drop the pickup and dropoff latitude and longitude\n",
    "# - You return the mapped data\n",
    "#\n",
    "# Write your code here\n",
    "####################################################\n",
    "def map_distance(data):\n",
    "    def calculate_distance(x1, y1, x2, y2):\n",
    "        return np.sqrt(((x1-x2)**2) + ((y1-y2)**2))\n",
    "    \n",
    "    data['distance'] = data.apply(lambda row: calculate_distance(\n",
    "        row.pickup_longitude, row.pickup_latitude, row.dropoff_longitude, row.dropoff_latitude\n",
    "    ), axis=1)\n",
    "    \n",
    "    data = data.drop(['pickup_longitude', 'pickup_latitude', 'dropoff_latitude', 'dropoff_longitude'], axis=1)\n",
    "\n",
    "    return data"
   ],
   "metadata": {
    "id": "cCdNLObo8ktf",
    "ExecuteTime": {
     "end_time": "2024-07-31T17:58:32.145778Z",
     "start_time": "2024-07-31T17:58:32.138084Z"
    }
   },
   "outputs": [],
   "execution_count": 38
  },
  {
   "cell_type": "markdown",
   "source": [
    "- Perform distance calculation (4 pts)"
   ],
   "metadata": {
    "id": "iutgjQ4E8ktf"
   }
  },
  {
   "cell_type": "code",
   "source": [
    "# Calculate the distance\n",
    "X_train_concat_fe = map_distance(X_train_concat)# WRITE YOUR CODE HERE"
   ],
   "metadata": {
    "executionInfo": {
     "status": "ok",
     "timestamp": 1703382845565,
     "user_tz": -420,
     "elapsed": 2609,
     "user": {
      "displayName": "Cahya Amalinadhi",
      "userId": "05965076763431336474"
     }
    },
    "colab": {
     "base_uri": "https://localhost:8080/"
    },
    "outputId": "379b32ba-1f8d-4bd3-df31-bb86efbdd90c",
    "id": "4EyO-ke28ktf",
    "ExecuteTime": {
     "end_time": "2024-07-31T17:58:34.733955Z",
     "start_time": "2024-07-31T17:58:32.146562Z"
    }
   },
   "outputs": [],
   "execution_count": 39
  },
  {
   "cell_type": "code",
   "source": [
    "# Validate (JUST RUN THE CODE)\n",
    "X_train_concat_fe.head()"
   ],
   "metadata": {
    "colab": {
     "base_uri": "https://localhost:8080/",
     "height": 238
    },
    "id": "dXADn7KYRWV3",
    "executionInfo": {
     "status": "ok",
     "timestamp": 1703382845566,
     "user_tz": -420,
     "elapsed": 14,
     "user": {
      "displayName": "Cahya Amalinadhi",
      "userId": "05965076763431336474"
     }
    },
    "outputId": "9a348092-f676-4240-ba78-1f1fc6197d7b",
    "ExecuteTime": {
     "end_time": "2024-07-31T17:58:34.741187Z",
     "start_time": "2024-07-31T17:58:34.734858Z"
    }
   },
   "outputs": [
    {
     "data": {
      "text/plain": [
       "          passenger_count  pickup_time_04-10  pickup_time_10-16  \\\n",
       "order_id                                                          \n",
       "51655713              2.0                0.0                0.0   \n",
       "37525839              5.0                0.0                0.0   \n",
       "55058970              1.0                0.0                0.0   \n",
       "15663447              6.0                0.0                1.0   \n",
       "13325650              1.0                0.0                0.0   \n",
       "\n",
       "          pickup_time_16-22  pickup_time_22-04  pickup_time_UNKNOWN  distance  \n",
       "order_id                                                                       \n",
       "51655713                1.0                0.0                  0.0  0.073766  \n",
       "37525839                1.0                0.0                  0.0  0.008585  \n",
       "55058970                1.0                0.0                  0.0  0.075901  \n",
       "15663447                0.0                0.0                  0.0  0.007733  \n",
       "13325650                1.0                0.0                  0.0  0.011140  "
      ],
      "text/html": [
       "<div>\n",
       "<style scoped>\n",
       "    .dataframe tbody tr th:only-of-type {\n",
       "        vertical-align: middle;\n",
       "    }\n",
       "\n",
       "    .dataframe tbody tr th {\n",
       "        vertical-align: top;\n",
       "    }\n",
       "\n",
       "    .dataframe thead th {\n",
       "        text-align: right;\n",
       "    }\n",
       "</style>\n",
       "<table border=\"1\" class=\"dataframe\">\n",
       "  <thead>\n",
       "    <tr style=\"text-align: right;\">\n",
       "      <th></th>\n",
       "      <th>passenger_count</th>\n",
       "      <th>pickup_time_04-10</th>\n",
       "      <th>pickup_time_10-16</th>\n",
       "      <th>pickup_time_16-22</th>\n",
       "      <th>pickup_time_22-04</th>\n",
       "      <th>pickup_time_UNKNOWN</th>\n",
       "      <th>distance</th>\n",
       "    </tr>\n",
       "    <tr>\n",
       "      <th>order_id</th>\n",
       "      <th></th>\n",
       "      <th></th>\n",
       "      <th></th>\n",
       "      <th></th>\n",
       "      <th></th>\n",
       "      <th></th>\n",
       "      <th></th>\n",
       "    </tr>\n",
       "  </thead>\n",
       "  <tbody>\n",
       "    <tr>\n",
       "      <th>51655713</th>\n",
       "      <td>2.0</td>\n",
       "      <td>0.0</td>\n",
       "      <td>0.0</td>\n",
       "      <td>1.0</td>\n",
       "      <td>0.0</td>\n",
       "      <td>0.0</td>\n",
       "      <td>0.073766</td>\n",
       "    </tr>\n",
       "    <tr>\n",
       "      <th>37525839</th>\n",
       "      <td>5.0</td>\n",
       "      <td>0.0</td>\n",
       "      <td>0.0</td>\n",
       "      <td>1.0</td>\n",
       "      <td>0.0</td>\n",
       "      <td>0.0</td>\n",
       "      <td>0.008585</td>\n",
       "    </tr>\n",
       "    <tr>\n",
       "      <th>55058970</th>\n",
       "      <td>1.0</td>\n",
       "      <td>0.0</td>\n",
       "      <td>0.0</td>\n",
       "      <td>1.0</td>\n",
       "      <td>0.0</td>\n",
       "      <td>0.0</td>\n",
       "      <td>0.075901</td>\n",
       "    </tr>\n",
       "    <tr>\n",
       "      <th>15663447</th>\n",
       "      <td>6.0</td>\n",
       "      <td>0.0</td>\n",
       "      <td>1.0</td>\n",
       "      <td>0.0</td>\n",
       "      <td>0.0</td>\n",
       "      <td>0.0</td>\n",
       "      <td>0.007733</td>\n",
       "    </tr>\n",
       "    <tr>\n",
       "      <th>13325650</th>\n",
       "      <td>1.0</td>\n",
       "      <td>0.0</td>\n",
       "      <td>0.0</td>\n",
       "      <td>1.0</td>\n",
       "      <td>0.0</td>\n",
       "      <td>0.0</td>\n",
       "      <td>0.011140</td>\n",
       "    </tr>\n",
       "  </tbody>\n",
       "</table>\n",
       "</div>"
      ]
     },
     "execution_count": 40,
     "metadata": {},
     "output_type": "execute_result"
    }
   ],
   "execution_count": 40
  },
  {
   "cell_type": "markdown",
   "source": [
    "- And finally, we standardize the data so that it can perform well during model optimization (4 pts)"
   ],
   "metadata": {
    "id": "p5D3MxPmReOv"
   }
  },
  {
   "cell_type": "code",
   "source": [
    "####################################################\n",
    "# Create two functions to perform scaling & transform scaling\n",
    "# The scaling is Standardization\n",
    "# The first function is to fit the scaler, called by fit_scaler\n",
    "# - You need an input, a data (pd.Dataframe)\n",
    "# - You create a standardization scaler (please use sklearn)\n",
    "# - Your output is the scaler\n",
    "#\n",
    "# The second function is to transform data using scaler, called by transform_scaler\n",
    "# - There are two inputs, a data (pd.Dataframe), a scaler (sklearn object)\n",
    "# - You scaled the data, then return the scaled data\n",
    "# Write your code here\n",
    "####################################################\n",
    "from sklearn.preprocessing import StandardScaler\n",
    "\n",
    "\n",
    "def fit_scaler(data):\n",
    "    scaler = StandardScaler()\n",
    "    scaler.fit(data)\n",
    "    return scaler\n",
    "\n",
    "\n",
    "def transform_scaler(data, scaler):\n",
    "    scaled_data_raw = scaler.transform(data)\n",
    "    scaled_data_pd = pd.DataFrame(scaled_data_raw, columns=data.columns, index=data.index)\n",
    "    return scaled_data_pd"
   ],
   "metadata": {
    "id": "s7Jq_KCcBMBu",
    "ExecuteTime": {
     "end_time": "2024-07-31T17:58:34.750476Z",
     "start_time": "2024-07-31T17:58:34.742067Z"
    }
   },
   "outputs": [],
   "execution_count": 41
  },
  {
   "cell_type": "code",
   "source": [
    "# Fit the scaler\n",
    "scaler = fit_scaler(X_train_concat_fe)# WRITE YOUR CODE HERE\n",
    "\n",
    "# Transform the scaler\n",
    "X_train_clean = transform_scaler(X_train_concat_fe, scaler)# WRITE YOUR CODE HERE"
   ],
   "metadata": {
    "id": "H1ipNmwgB6V8",
    "ExecuteTime": {
     "end_time": "2024-07-31T17:58:34.772015Z",
     "start_time": "2024-07-31T17:58:34.751137Z"
    }
   },
   "outputs": [],
   "execution_count": 42
  },
  {
   "cell_type": "code",
   "source": [
    "# Validate (JUST RUN THE CODE)\n",
    "X_train_clean.describe().round(4)"
   ],
   "metadata": {
    "colab": {
     "base_uri": "https://localhost:8080/",
     "height": 300
    },
    "id": "OLeIPoDGTIlc",
    "executionInfo": {
     "status": "ok",
     "timestamp": 1703382845566,
     "user_tz": -420,
     "elapsed": 11,
     "user": {
      "displayName": "Cahya Amalinadhi",
      "userId": "05965076763431336474"
     }
    },
    "outputId": "347126f6-54f4-4c34-dab0-d91aa81a2c61",
    "ExecuteTime": {
     "end_time": "2024-07-31T17:58:34.802662Z",
     "start_time": "2024-07-31T17:58:34.772848Z"
    }
   },
   "outputs": [
    {
     "data": {
      "text/plain": [
       "       passenger_count  pickup_time_04-10  pickup_time_10-16  \\\n",
       "count      155851.0000        155851.0000        155851.0000   \n",
       "mean           -0.0000             0.0000            -0.0000   \n",
       "std             1.0000             1.0000             1.0000   \n",
       "min            -0.5267            -0.4325            -0.6335   \n",
       "25%            -0.5267            -0.4325            -0.6335   \n",
       "50%            -0.5267            -0.4325            -0.6335   \n",
       "75%             0.2412            -0.4325             1.5786   \n",
       "max             3.3130             2.3120             1.5786   \n",
       "\n",
       "       pickup_time_16-22  pickup_time_22-04  pickup_time_UNKNOWN     distance  \n",
       "count        155851.0000        155851.0000          155851.0000  155851.0000  \n",
       "mean             -0.0000            -0.0000               0.0000      -0.0000  \n",
       "std               1.0000             1.0000               1.0000       1.0000  \n",
       "min              -0.6989            -0.5336              -0.0791      -0.0383  \n",
       "25%              -0.6989            -0.5336              -0.0791      -0.0340  \n",
       "50%              -0.6989            -0.5336              -0.0791      -0.0311  \n",
       "75%               1.4308            -0.5336              -0.0791      -0.0256  \n",
       "max               1.4308             1.8739              12.6427     218.5245  "
      ],
      "text/html": [
       "<div>\n",
       "<style scoped>\n",
       "    .dataframe tbody tr th:only-of-type {\n",
       "        vertical-align: middle;\n",
       "    }\n",
       "\n",
       "    .dataframe tbody tr th {\n",
       "        vertical-align: top;\n",
       "    }\n",
       "\n",
       "    .dataframe thead th {\n",
       "        text-align: right;\n",
       "    }\n",
       "</style>\n",
       "<table border=\"1\" class=\"dataframe\">\n",
       "  <thead>\n",
       "    <tr style=\"text-align: right;\">\n",
       "      <th></th>\n",
       "      <th>passenger_count</th>\n",
       "      <th>pickup_time_04-10</th>\n",
       "      <th>pickup_time_10-16</th>\n",
       "      <th>pickup_time_16-22</th>\n",
       "      <th>pickup_time_22-04</th>\n",
       "      <th>pickup_time_UNKNOWN</th>\n",
       "      <th>distance</th>\n",
       "    </tr>\n",
       "  </thead>\n",
       "  <tbody>\n",
       "    <tr>\n",
       "      <th>count</th>\n",
       "      <td>155851.0000</td>\n",
       "      <td>155851.0000</td>\n",
       "      <td>155851.0000</td>\n",
       "      <td>155851.0000</td>\n",
       "      <td>155851.0000</td>\n",
       "      <td>155851.0000</td>\n",
       "      <td>155851.0000</td>\n",
       "    </tr>\n",
       "    <tr>\n",
       "      <th>mean</th>\n",
       "      <td>-0.0000</td>\n",
       "      <td>0.0000</td>\n",
       "      <td>-0.0000</td>\n",
       "      <td>-0.0000</td>\n",
       "      <td>-0.0000</td>\n",
       "      <td>0.0000</td>\n",
       "      <td>-0.0000</td>\n",
       "    </tr>\n",
       "    <tr>\n",
       "      <th>std</th>\n",
       "      <td>1.0000</td>\n",
       "      <td>1.0000</td>\n",
       "      <td>1.0000</td>\n",
       "      <td>1.0000</td>\n",
       "      <td>1.0000</td>\n",
       "      <td>1.0000</td>\n",
       "      <td>1.0000</td>\n",
       "    </tr>\n",
       "    <tr>\n",
       "      <th>min</th>\n",
       "      <td>-0.5267</td>\n",
       "      <td>-0.4325</td>\n",
       "      <td>-0.6335</td>\n",
       "      <td>-0.6989</td>\n",
       "      <td>-0.5336</td>\n",
       "      <td>-0.0791</td>\n",
       "      <td>-0.0383</td>\n",
       "    </tr>\n",
       "    <tr>\n",
       "      <th>25%</th>\n",
       "      <td>-0.5267</td>\n",
       "      <td>-0.4325</td>\n",
       "      <td>-0.6335</td>\n",
       "      <td>-0.6989</td>\n",
       "      <td>-0.5336</td>\n",
       "      <td>-0.0791</td>\n",
       "      <td>-0.0340</td>\n",
       "    </tr>\n",
       "    <tr>\n",
       "      <th>50%</th>\n",
       "      <td>-0.5267</td>\n",
       "      <td>-0.4325</td>\n",
       "      <td>-0.6335</td>\n",
       "      <td>-0.6989</td>\n",
       "      <td>-0.5336</td>\n",
       "      <td>-0.0791</td>\n",
       "      <td>-0.0311</td>\n",
       "    </tr>\n",
       "    <tr>\n",
       "      <th>75%</th>\n",
       "      <td>0.2412</td>\n",
       "      <td>-0.4325</td>\n",
       "      <td>1.5786</td>\n",
       "      <td>1.4308</td>\n",
       "      <td>-0.5336</td>\n",
       "      <td>-0.0791</td>\n",
       "      <td>-0.0256</td>\n",
       "    </tr>\n",
       "    <tr>\n",
       "      <th>max</th>\n",
       "      <td>3.3130</td>\n",
       "      <td>2.3120</td>\n",
       "      <td>1.5786</td>\n",
       "      <td>1.4308</td>\n",
       "      <td>1.8739</td>\n",
       "      <td>12.6427</td>\n",
       "      <td>218.5245</td>\n",
       "    </tr>\n",
       "  </tbody>\n",
       "</table>\n",
       "</div>"
      ]
     },
     "execution_count": 43,
     "metadata": {},
     "output_type": "execute_result"
    }
   ],
   "execution_count": 43
  },
  {
   "cell_type": "markdown",
   "source": [
    "Great!"
   ],
   "metadata": {
    "id": "QiJ-dDJ98ktg"
   }
  },
  {
   "cell_type": "markdown",
   "source": [
    "#### 2.9. Create the preprocess function (10 pts)\n",
    "---"
   ],
   "metadata": {
    "id": "3oQY9GhDTUpI"
   }
  },
  {
   "cell_type": "markdown",
   "source": [
    "- Now, let's create a function to preprocess other set of data (valid & test) so that we can predict that"
   ],
   "metadata": {
    "id": "08Q3aT2KTUpW"
   }
  },
  {
   "cell_type": "code",
   "source": [
    "####################################################\n",
    "# Create a function to preprocess the dataset\n",
    "# You called the function preprocess_data\n",
    "# - It needs many input\n",
    "#   - data, pd.DataFrame\n",
    "#   - num_cols, the numerical columns, list\n",
    "#   - cat_cols, the categorical columns, list\n",
    "#   - num_imputer, the numerical imputer, sklearn object\n",
    "#   - cat_imputer, the categorical imputer, sklearn object\n",
    "#   - cat_encoder, the categorical encoder, sklearn object\n",
    "#   - scaler, the data scaler, sklearn object\n",
    "# - You preprocess the data following step 2.3 - 2.8\n",
    "# - You return the clean data\n",
    "#\n",
    "# Write your code here\n",
    "####################################################\n",
    "def preprocess_data(data, num_cols, cat_cols, num_imputer, cat_imputer, cat_encoder, scaler):\n",
    "    numerical_data = data[num_cols]\n",
    "    numerical_data_imputed = num_imputer_transform(numerical_data, num_imputer)\n",
    "    numerical_data_imputed = pd.DataFrame(\n",
    "        numerical_data_imputed, \n",
    "        columns=numerical_data.columns, index=numerical_data.index\n",
    "    )\n",
    "\n",
    "    categorical_data = data[cat_cols]\n",
    "    x_train_cat_imputed = cat_imputer_transform(categorical_data, cat_imputer)\n",
    "    x_train_cat_encoded = cat_encoder_transform(x_train_cat_imputed, cat_encoder)\n",
    "    cat_data_encoded = pd.DataFrame(\n",
    "        x_train_cat_encoded,\n",
    "    )\n",
    "\n",
    "    merged_data = pd.concat([numerical_data_imputed, cat_data_encoded], axis=1)\n",
    "    \n",
    "    merged_data = map_distance(merged_data)\n",
    "    transformed_data = transform_scaler(merged_data, scaler)\n",
    "    \n",
    "    return transformed_data"
   ],
   "metadata": {
    "id": "nle2MYzV2crW",
    "ExecuteTime": {
     "end_time": "2024-07-31T17:58:34.806276Z",
     "start_time": "2024-07-31T17:58:34.803356Z"
    }
   },
   "outputs": [],
   "execution_count": 44
  },
  {
   "cell_type": "code",
   "source": [
    "# Preprocess the data training again\n",
    "numerical_columns = [\n",
    "    \"pickup_longitude\",\t\"pickup_latitude\", \"dropoff_longitude\",\n",
    "    \"dropoff_latitude\",\t\"passenger_count\"\n",
    "]\n",
    "categorical_columns = [\n",
    "    \"pickup_time\"\n",
    "]\n",
    "\n",
    "# WRITE YOUR CODE HERE\n",
    "X_train_clean = preprocess_data(\n",
    "    X_train, \n",
    "    numerical_columns, categorical_columns, \n",
    "    num_imputer, cat_imputer, \n",
    "    cat_encoder, scaler \n",
    ")"
   ],
   "metadata": {
    "colab": {
     "base_uri": "https://localhost:8080/"
    },
    "id": "bQ-MKqkLFgOD",
    "executionInfo": {
     "status": "ok",
     "timestamp": 1703382849315,
     "user_tz": -420,
     "elapsed": 3758,
     "user": {
      "displayName": "Cahya Amalinadhi",
      "userId": "05965076763431336474"
     }
    },
    "outputId": "8318bbfd-1f49-43a7-e187-fc9f523df746",
    "ExecuteTime": {
     "end_time": "2024-07-31T17:58:37.255062Z",
     "start_time": "2024-07-31T17:58:34.808464Z"
    }
   },
   "outputs": [],
   "execution_count": 45
  },
  {
   "cell_type": "code",
   "source": [
    "# Validate (JUST RUN THE CODE)\n",
    "print('Original data shape:', X_train.shape)\n",
    "print('Cleaned data shape :', X_train_clean.shape)\n",
    "X_train_clean.head()"
   ],
   "metadata": {
    "colab": {
     "base_uri": "https://localhost:8080/"
    },
    "id": "6eSeFeQ5GDWb",
    "executionInfo": {
     "status": "ok",
     "timestamp": 1703382849315,
     "user_tz": -420,
     "elapsed": 19,
     "user": {
      "displayName": "Cahya Amalinadhi",
      "userId": "05965076763431336474"
     }
    },
    "outputId": "3cf2ef0c-719f-4337-a188-d6cee615ee42",
    "ExecuteTime": {
     "end_time": "2024-07-31T17:58:37.262746Z",
     "start_time": "2024-07-31T17:58:37.256137Z"
    }
   },
   "outputs": [
    {
     "name": "stdout",
     "output_type": "stream",
     "text": [
      "Original data shape: (155851, 6)\n",
      "Cleaned data shape : (155851, 7)\n"
     ]
    },
    {
     "data": {
      "text/plain": [
       "          passenger_count  pickup_time_04-10  pickup_time_10-16  \\\n",
       "order_id                                                          \n",
       "51655713         0.241233          -0.432531          -0.633481   \n",
       "37525839         2.545080          -0.432531          -0.633481   \n",
       "55058970        -0.526715          -0.432531          -0.633481   \n",
       "15663447         3.313029          -0.432531           1.578579   \n",
       "13325650        -0.526715          -0.432531          -0.633481   \n",
       "\n",
       "          pickup_time_16-22  pickup_time_22-04  pickup_time_UNKNOWN  distance  \n",
       "order_id                                                                       \n",
       "51655713           1.430838          -0.533634            -0.079097 -0.013978  \n",
       "37525839           1.430838          -0.533634            -0.079097 -0.035436  \n",
       "55058970           1.430838          -0.533634            -0.079097 -0.013275  \n",
       "15663447          -0.698891          -0.533634            -0.079097 -0.035716  \n",
       "13325650           1.430838          -0.533634            -0.079097 -0.034594  "
      ],
      "text/html": [
       "<div>\n",
       "<style scoped>\n",
       "    .dataframe tbody tr th:only-of-type {\n",
       "        vertical-align: middle;\n",
       "    }\n",
       "\n",
       "    .dataframe tbody tr th {\n",
       "        vertical-align: top;\n",
       "    }\n",
       "\n",
       "    .dataframe thead th {\n",
       "        text-align: right;\n",
       "    }\n",
       "</style>\n",
       "<table border=\"1\" class=\"dataframe\">\n",
       "  <thead>\n",
       "    <tr style=\"text-align: right;\">\n",
       "      <th></th>\n",
       "      <th>passenger_count</th>\n",
       "      <th>pickup_time_04-10</th>\n",
       "      <th>pickup_time_10-16</th>\n",
       "      <th>pickup_time_16-22</th>\n",
       "      <th>pickup_time_22-04</th>\n",
       "      <th>pickup_time_UNKNOWN</th>\n",
       "      <th>distance</th>\n",
       "    </tr>\n",
       "    <tr>\n",
       "      <th>order_id</th>\n",
       "      <th></th>\n",
       "      <th></th>\n",
       "      <th></th>\n",
       "      <th></th>\n",
       "      <th></th>\n",
       "      <th></th>\n",
       "      <th></th>\n",
       "    </tr>\n",
       "  </thead>\n",
       "  <tbody>\n",
       "    <tr>\n",
       "      <th>51655713</th>\n",
       "      <td>0.241233</td>\n",
       "      <td>-0.432531</td>\n",
       "      <td>-0.633481</td>\n",
       "      <td>1.430838</td>\n",
       "      <td>-0.533634</td>\n",
       "      <td>-0.079097</td>\n",
       "      <td>-0.013978</td>\n",
       "    </tr>\n",
       "    <tr>\n",
       "      <th>37525839</th>\n",
       "      <td>2.545080</td>\n",
       "      <td>-0.432531</td>\n",
       "      <td>-0.633481</td>\n",
       "      <td>1.430838</td>\n",
       "      <td>-0.533634</td>\n",
       "      <td>-0.079097</td>\n",
       "      <td>-0.035436</td>\n",
       "    </tr>\n",
       "    <tr>\n",
       "      <th>55058970</th>\n",
       "      <td>-0.526715</td>\n",
       "      <td>-0.432531</td>\n",
       "      <td>-0.633481</td>\n",
       "      <td>1.430838</td>\n",
       "      <td>-0.533634</td>\n",
       "      <td>-0.079097</td>\n",
       "      <td>-0.013275</td>\n",
       "    </tr>\n",
       "    <tr>\n",
       "      <th>15663447</th>\n",
       "      <td>3.313029</td>\n",
       "      <td>-0.432531</td>\n",
       "      <td>1.578579</td>\n",
       "      <td>-0.698891</td>\n",
       "      <td>-0.533634</td>\n",
       "      <td>-0.079097</td>\n",
       "      <td>-0.035716</td>\n",
       "    </tr>\n",
       "    <tr>\n",
       "      <th>13325650</th>\n",
       "      <td>-0.526715</td>\n",
       "      <td>-0.432531</td>\n",
       "      <td>-0.633481</td>\n",
       "      <td>1.430838</td>\n",
       "      <td>-0.533634</td>\n",
       "      <td>-0.079097</td>\n",
       "      <td>-0.034594</td>\n",
       "    </tr>\n",
       "  </tbody>\n",
       "</table>\n",
       "</div>"
      ]
     },
     "execution_count": 46,
     "metadata": {},
     "output_type": "execute_result"
    }
   ],
   "execution_count": 46
  },
  {
   "cell_type": "code",
   "source": [
    "# Transform other set of data\n",
    "# WRITE YOUR CODE HERE\n",
    "X_valid_clean = preprocess_data(\n",
    "    X_valid,\n",
    "    numerical_columns, categorical_columns,\n",
    "    num_imputer, cat_imputer,\n",
    "    cat_encoder, scaler\n",
    ")\n",
    "\n",
    "# WRITE YOUR CODE HERE\n",
    "X_test_clean = preprocess_data(\n",
    "    X_test,\n",
    "    numerical_columns, categorical_columns,\n",
    "    num_imputer, cat_imputer,\n",
    "    cat_encoder, scaler\n",
    ")"
   ],
   "metadata": {
    "colab": {
     "base_uri": "https://localhost:8080/"
    },
    "id": "7_FpyWgVU5GH",
    "executionInfo": {
     "status": "ok",
     "timestamp": 1703382849972,
     "user_tz": -420,
     "elapsed": 674,
     "user": {
      "displayName": "Cahya Amalinadhi",
      "userId": "05965076763431336474"
     }
    },
    "outputId": "5ee99cbd-959b-4934-ca11-04878a157ad7",
    "ExecuteTime": {
     "end_time": "2024-07-31T17:58:38.005289Z",
     "start_time": "2024-07-31T17:58:37.263701Z"
    }
   },
   "outputs": [],
   "execution_count": 47
  },
  {
   "cell_type": "markdown",
   "source": [
    "### 3. Training Machine Learning Models (40 pts)\n",
    "---"
   ],
   "metadata": {
    "id": "9urW_teAVgRu"
   }
  },
  {
   "cell_type": "markdown",
   "source": [
    "```\n",
    "3.1 Prepare train & evaluate model function\n",
    "3.2 Train & evaluate several models\n",
    "3.3 Choose the best model\n",
    "```"
   ],
   "metadata": {
    "id": "ZQBCdRAVVgRv"
   }
  },
  {
   "cell_type": "markdown",
   "source": [
    "#### 3.1. Preprare train & evaluate model function (10 pts)\n",
    "---"
   ],
   "metadata": {
    "id": "Oh66SXYnWcYo"
   }
  },
  {
   "cell_type": "markdown",
   "source": [
    "- Before modeling, let's prepare function to train & evaluate model"
   ],
   "metadata": {
    "id": "ZSqSP6iyWiYf"
   }
  },
  {
   "cell_type": "code",
   "source": [
    "####################################################\n",
    "# First, create a function to train model called train_model\n",
    "# - It needs 3 input\n",
    "#   - estimator, the model (sklearn model)\n",
    "#   - X_train, the input (pd.DataFrame)\n",
    "#   - y_train, the output (pd.DataFrame)\n",
    "# - You only fit the estimator using the X_train & y_train\n",
    "# - Then return nothing\n",
    "#\n",
    "# Next, create a function to evaluate model called evaluate_model\n",
    "# - It needs 5 input\n",
    "#   - estimator, the model (sklearn model)\n",
    "#   - X_train, the train input (pd.DataFrame)\n",
    "#   - y_train, the train output (pd.DataFrame)\n",
    "#   - X_valid, the valid input (pd.DataFrame)\n",
    "#   - y_valid, the valid output (pd.DataFrame)\n",
    "# - You calculate the model performance using root mean squared error metrics\n",
    "# - Then return two output, rmse_train and rmse_valid\n",
    "#\n",
    "# Write your code here\n",
    "####################################################\n",
    "from sklearn.metrics import mean_squared_error\n",
    "\n",
    "\n",
    "def train_model(estimator, X_train, y_train):\n",
    "    estimator.fit(X_train, y_train)\n",
    "    \n",
    "\n",
    "def evaluate_model(estimator, X_train, y_train, X_valid, y_valid):   \n",
    "    y_train_prediction = estimator.predict(X_train)\n",
    "    rmse_train = np.sqrt(mean_squared_error(y_train, y_train_prediction))\n",
    "    \n",
    "    y_valid_prediction = estimator.predict(X_valid)\n",
    "    rmse_valid = np.sqrt(mean_squared_error(y_valid, y_valid_prediction))\n",
    "    return rmse_train, rmse_valid"
   ],
   "metadata": {
    "id": "PXun1F0IWfjf",
    "ExecuteTime": {
     "end_time": "2024-07-31T17:58:38.009579Z",
     "start_time": "2024-07-31T17:58:38.006239Z"
    }
   },
   "outputs": [],
   "execution_count": 48
  },
  {
   "cell_type": "markdown",
   "source": [
    "#### 3.2. Train and Evaluate Several Models (10 pts)\n",
    "---"
   ],
   "metadata": {
    "id": "eBXTMmkaZHfo"
   }
  },
  {
   "cell_type": "markdown",
   "source": [
    "- Now, let's train & evaluate several models\n",
    "- You should check, which one of the following model is the best model\n",
    "\n",
    "  1. Baseline model\n",
    "  2. k-NN with k=1\n",
    "  3. k-NN with k=100\n",
    "  4. k-NN with k=200\n",
    "  5. k-NN with k=500\n",
    "  6. k-NN with k=len(data)"
   ],
   "metadata": {
    "id": "rwv-WpIvZHfp"
   }
  },
  {
   "cell_type": "code",
   "source": [
    "####################################################\n",
    "# Create your model here (no need to create function)\n",
    "# Write your code here\n",
    "####################################################\n",
    "from sklearn.neighbors import KNeighborsRegressor\n",
    "from sklearn.dummy import DummyRegressor\n",
    "\n",
    "reg_1 = DummyRegressor(strategy=\"mean\") # Write your code here, follow the description\n",
    "reg_2 = KNeighborsRegressor(n_neighbors=1)# Write your code here, follow the description\n",
    "reg_3 = KNeighborsRegressor(n_neighbors=100)# Write your code here, follow the description\n",
    "reg_4 = KNeighborsRegressor(n_neighbors=200)# Write your code here, follow the description\n",
    "reg_5 = KNeighborsRegressor(n_neighbors=500)# Write your code here, follow the description\n",
    "# reg_6 = KNeighborsRegressor(n_neighbors=len(X_train_clean))# Write your code here, follow the description"
   ],
   "metadata": {
    "id": "eZELHor_ZHfp",
    "ExecuteTime": {
     "end_time": "2024-07-31T17:59:21.008378Z",
     "start_time": "2024-07-31T17:59:21.002351Z"
    }
   },
   "outputs": [],
   "execution_count": 50
  },
  {
   "cell_type": "code",
   "source": [
    "# Train the model (JUST RUN THE CODE)\n",
    "train_model(reg_1, X_train_clean, y_train)\n",
    "train_model(reg_2, X_train_clean, y_train)\n",
    "train_model(reg_3, X_train_clean, y_train)\n",
    "train_model(reg_4, X_train_clean, y_train)\n",
    "train_model(reg_5, X_train_clean, y_train)\n",
    "# train_model(reg_6, X_train_clean, y_train)"
   ],
   "metadata": {
    "id": "HElSDZRbZFOR",
    "ExecuteTime": {
     "end_time": "2024-07-31T17:59:25.628846Z",
     "start_time": "2024-07-31T17:59:25.011790Z"
    }
   },
   "outputs": [],
   "execution_count": 51
  },
  {
   "cell_type": "code",
   "source": [
    "# Return validation (JUST RUN THE CODE)\n",
    "import time\n",
    "\n",
    "for reg in [reg_1, reg_2, reg_3, reg_4, reg_5]:\n",
    "    t0 = time.time()\n",
    "\n",
    "    # Generate the rmse\n",
    "    rmse_train, rmse_valid = evaluate_model(estimator=reg,\n",
    "                                            X_train=X_train_clean,\n",
    "                                            y_train=y_train,\n",
    "                                            X_valid=X_valid_clean,\n",
    "                                            y_valid=y_valid)\n",
    "\n",
    "    # Logging\n",
    "    elapsed = time.time() - t0\n",
    "    print(f'model : {str(reg):40s} '\n",
    "          f'| RMSE train: {rmse_train:.4f} '\n",
    "          f'| RMSE valid: {rmse_valid:.4f} '\n",
    "          f'| RMSE difference abs(train - valid) : {abs(rmse_train - rmse_valid):.4f} ' \n",
    "          f'| Time elapsed: {elapsed*1000:.2f} ms')"
   ],
   "metadata": {
    "colab": {
     "base_uri": "https://localhost:8080/"
    },
    "id": "EK0Wkx66aRh8",
    "executionInfo": {
     "status": "ok",
     "timestamp": 1703383282787,
     "user_tz": -420,
     "elapsed": 424012,
     "user": {
      "displayName": "Cahya Amalinadhi",
      "userId": "05965076763431336474"
     }
    },
    "outputId": "3526563f-9bb3-4902-c2eb-5c57fd1c995f",
    "ExecuteTime": {
     "end_time": "2024-07-31T18:01:22.033334Z",
     "start_time": "2024-07-31T17:59:32.434367Z"
    }
   },
   "outputs": [
    {
     "name": "stdout",
     "output_type": "stream",
     "text": [
      "model : DummyRegressor()                         | RMSE train: 8.9221 | RMSE valid: 8.8614 | RMSE difference abs(train - valid) : 0.0606 | Time elapsed: 1.62 ms\n",
      "model : KNeighborsRegressor(n_neighbors=1)       | RMSE train: 1.3980 | RMSE valid: 5.4116 | RMSE difference abs(train - valid) : 4.0136 | Time elapsed: 14482.83 ms\n",
      "model : KNeighborsRegressor(n_neighbors=100)     | RMSE train: 3.9594 | RMSE valid: 3.9783 | RMSE difference abs(train - valid) : 0.0189 | Time elapsed: 19818.94 ms\n",
      "model : KNeighborsRegressor(n_neighbors=200)     | RMSE train: 4.1505 | RMSE valid: 4.1420 | RMSE difference abs(train - valid) : 0.0085 | Time elapsed: 27053.05 ms\n",
      "model : KNeighborsRegressor(n_neighbors=500)     | RMSE train: 4.6286 | RMSE valid: 4.6223 | RMSE difference abs(train - valid) : 0.0064 | Time elapsed: 48238.48 ms\n"
     ]
    }
   ],
   "execution_count": 52
  },
  {
   "cell_type": "markdown",
   "source": [
    "#### 3.3. Choose the best model (20 pts)\n",
    "---"
   ],
   "metadata": {
    "id": "ER-CnCxlePhg"
   }
  },
  {
   "cell_type": "markdown",
   "source": [
    "From the previous results, which one is the best model? (10 pts)"
   ],
   "metadata": {
    "id": "neVBHKi3ePhh"
   }
  },
  {
   "cell_type": "markdown",
   "source": [
    "```\n",
    "Answer in this section (you can use bahasa)\n",
    "```\n",
    "reg_2 = KNeighborsRegressor(n_neighbors=100)"
   ],
   "metadata": {
    "id": "bpOAgKZDeZzp"
   }
  },
  {
   "cell_type": "markdown",
   "source": [
    "Why do you choose that model? (10 pts)"
   ],
   "metadata": {
    "id": "IzZAZgtpegYd"
   }
  },
  {
   "cell_type": "markdown",
   "source": [
    "```\n",
    "Explain your answer in here (you can use bahasa)\n",
    "```\n",
    "\n",
    "We take the model that have the least value of \"RMSE valid\" and the shortest amount of training duration. In this case, KNeighborsRegressor with K's value = 100 performs the best.\n",
    "The reason why we only need to focus on \"RMSE valid\" because \"RMSE train\" was already used for training which mean the model already learned this data."
   ],
   "metadata": {
    "id": "GtWV7CLhejjV"
   }
  },
  {
   "cell_type": "markdown",
   "source": [
    "And, create a `reg_best` to store the best model"
   ],
   "metadata": {
    "id": "wVZMoBjVetmx"
   }
  },
  {
   "cell_type": "code",
   "source": [
    "# Write your code here\n",
    "reg_best = KNeighborsRegressor(n_neighbors=1)\n",
    "train_model(reg_best, X_train_clean, y_train)"
   ],
   "metadata": {
    "id": "iYbdAYmNe0B9",
    "ExecuteTime": {
     "end_time": "2024-07-31T16:35:11.391656Z",
     "start_time": "2024-07-31T16:35:11.251107Z"
    }
   },
   "outputs": [],
   "execution_count": 456
  },
  {
   "cell_type": "markdown",
   "source": [
    "### 4. Predictions & Evaluations (JUST RUN THE CODE)\n",
    "---"
   ],
   "metadata": {
    "id": "cq6iq5FwesuD"
   }
  },
  {
   "cell_type": "markdown",
   "source": [
    "```\n",
    "4.1 Predict & Evaluate on the Train Data\n",
    "4.2 Predict & Evaluate on the Test Data\n",
    "```"
   ],
   "metadata": {
    "id": "So1UmURDesuD"
   }
  },
  {
   "cell_type": "markdown",
   "source": [
    "#### 4.1. Predict & evaluate on train data\n",
    "---"
   ],
   "metadata": {
    "id": "u_qdHfkefA9I"
   }
  },
  {
   "cell_type": "code",
   "source": [
    "# Predict (JUST RUN THE CODE)\n",
    "y_train_pred = reg_best.predict(X_train_clean)"
   ],
   "metadata": {
    "id": "W_Tkv1IifKZd",
    "ExecuteTime": {
     "end_time": "2024-07-31T16:35:55.374479Z",
     "start_time": "2024-07-31T16:35:38.112638Z"
    }
   },
   "outputs": [],
   "execution_count": 458
  },
  {
   "cell_type": "code",
   "source": [
    "# Visualize & compare the prediction (JUST RUN THE CODE)\n",
    "plt.scatter(y_train, y_train_pred)\n",
    "\n",
    "plt.plot([0, 200], [0, 200], c='red')\n",
    "plt.xlim(0, 200); plt.ylim(0, 200)\n",
    "plt.xlabel('y actual'); plt.ylabel('y predicted')\n",
    "plt.title('Comparison of y actual vs y predicted on Train Data')\n",
    "plt.show()"
   ],
   "metadata": {
    "colab": {
     "base_uri": "https://localhost:8080/",
     "height": 472
    },
    "id": "Xd-YpUxnfRAL",
    "executionInfo": {
     "status": "ok",
     "timestamp": 1703382681764,
     "user_tz": -420,
     "elapsed": 2575,
     "user": {
      "displayName": "Cahya Amalinadhi",
      "userId": "05965076763431336474"
     }
    },
    "outputId": "952d669b-29cf-4147-cb1d-071c0e109061",
    "ExecuteTime": {
     "end_time": "2024-07-31T16:35:56.597079Z",
     "start_time": "2024-07-31T16:35:56.293537Z"
    }
   },
   "outputs": [
    {
     "data": {
      "text/plain": [
       "<Figure size 640x480 with 1 Axes>"
      ],
      "image/png": "[encoded data removed]"
     },
     "metadata": {},
     "output_type": "display_data"
    }
   ],
   "execution_count": 459
  },
  {
   "cell_type": "markdown",
   "source": [
    "#### 4.2. Predict & evaluate on test data\n",
    "---"
   ],
   "metadata": {
    "id": "Q4V7-VcNfz02"
   }
  },
  {
   "cell_type": "code",
   "source": [
    "# Predict (JUST RUN THE CODE)\n",
    "y_test_pred = reg_best.predict(X_test_clean)"
   ],
   "metadata": {
    "id": "mNlcNnQIfz03",
    "ExecuteTime": {
     "end_time": "2024-07-31T16:36:02.238131Z",
     "start_time": "2024-07-31T16:35:59.913050Z"
    }
   },
   "outputs": [],
   "execution_count": 460
  },
  {
   "cell_type": "code",
   "source": [
    "# Visualize & compare the prediction (JUST RUN THE CODE)\n",
    "plt.scatter(y_test, y_test_pred)\n",
    "\n",
    "plt.plot([0, 200], [0, 200], c='red')\n",
    "plt.xlim(0, 200); plt.ylim(0, 200)\n",
    "plt.xlabel('y actual'); plt.ylabel('y predicted')\n",
    "plt.title('Comparison of y actual vs y predicted on Test Data')\n",
    "plt.show()"
   ],
   "metadata": {
    "colab": {
     "base_uri": "https://localhost:8080/",
     "height": 472
    },
    "id": "l3QE1IeTfz03",
    "executionInfo": {
     "status": "ok",
     "timestamp": 1703382700392,
     "user_tz": -420,
     "elapsed": 1340,
     "user": {
      "displayName": "Cahya Amalinadhi",
      "userId": "05965076763431336474"
     }
    },
    "outputId": "1a2e7e38-7ab1-443a-f843-39bcb1cd2b50",
    "ExecuteTime": {
     "end_time": "2024-07-31T16:36:03.260232Z",
     "start_time": "2024-07-31T16:36:03.094773Z"
    }
   },
   "outputs": [
    {
     "data": {
      "text/plain": [
       "<Figure size 640x480 with 1 Axes>"
      ],
      "image/png": "[encoded data removed]"
     },
     "metadata": {},
     "output_type": "display_data"
    }
   ],
   "execution_count": 461
  }
 ]
}
