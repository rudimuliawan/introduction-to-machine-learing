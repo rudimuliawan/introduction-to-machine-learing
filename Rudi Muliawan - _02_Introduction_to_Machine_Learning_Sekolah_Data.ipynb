{
 "cells": [
  {
   "cell_type": "markdown",
   "metadata": {
    "id": "Rk-wJshZrKtw"
   },
   "source": [
    "# Mentoring 2 - Introduction to Machine Learning\n",
    "---\n",
    "\n",
    "Mentoring Session - Job Preparation Program - Pacmann AI"
   ]
  },
  {
   "cell_type": "markdown",
   "metadata": {
    "id": "0le3bfkbsWCu"
   },
   "source": [
    "## Instructions\n",
    "---"
   ]
  },
  {
   "cell_type": "markdown",
   "metadata": {
    "id": "6NAWntWqu6Bu"
   },
   "source": [
    "1. Please fill all the given tasks in here\n",
    "2. You can use any library\n",
    "3. For modeling, please use `sklearn` library\n",
    "4. You are taksed to create a function based machine learning model. (If you cannot create the functions from the start, you can create without a function first, then put it all into a function)\n",
    "5. Make sure you are following all the function descriptions\n",
    "6. **THIS DATA IS SCRAPED FROM LAMUDI**. YOU ARE **PROHIBITED** TO USE THIS DATA OUTSIDE PACMANN MENTORING.\n",
    "6. Submit your result to the submission form"
   ]
  },
  {
   "cell_type": "markdown",
   "metadata": {
    "id": "4VF3H55TwV1f"
   },
   "source": [
    "## Dataset Description\n",
    "---"
   ]
  },
  {
   "cell_type": "markdown",
   "metadata": {
    "id": "pm47UzYPwY1h"
   },
   "source": [
    "**Note**\n",
    "\n",
    "- This dataset is scraped from [Lamudi](https://www.lamudi.co.id/)\n",
    "- We perform several edit for this mentoring purposes. So, please use the dataset from [here](https://drive.google.com/file/d/109ZcOSllPPWCETc01tXiI3Fx8BWRU-32/view?usp=sharing).\n"
   ]
  },
  {
   "cell_type": "markdown",
   "metadata": {
    "id": "XTVZoo2jw2mv"
   },
   "source": [
    "**Description**\n",
    "- We're looking to predict the rent price of a house\n",
    "- The dataset contains of the following fields\n",
    "\n",
    "<center>\n",
    "\n",
    "|Feature|Type|Descriptions|\n",
    "|:--|:--|:--|\n",
    "|`name`|`str`|The name (title) of a house|\n",
    "|`url`|`str`|The house url|\n",
    "|`bedrooms`|`int`|The number of bedrooms|\n",
    "|`bathrooms`|`int`|The number of bathrooms|\n",
    "|`floors`|`int`|The number of floors|\n",
    "|`land_area`|`float`|The area of land in m2|\n",
    "|`building_area`|`float`|The building area in m2|\n",
    "|`longitude`|`float`|The house longitude coordinate in degree|\n",
    "|`latitude`|`float`|The house latitude coordinate in degree|\n",
    "| `price` | `int` | The yearly rent price (IDR) , (**our target**)|"
   ]
  },
  {
   "cell_type": "markdown",
   "metadata": {
    "id": "VPfdLquFzsoI"
   },
   "source": [
    "## Modeling Workflow\n",
    "---"
   ]
  },
  {
   "cell_type": "markdown",
   "metadata": {
    "id": "wBa9dq-Rsxak"
   },
   "source": [
    "```\n",
    "1. Import data to Python\n",
    "2. Data Preprocessing\n",
    "3. Training a Machine Learning Models\n",
    "4. Test Prediction\n",
    "5. Lets Explore\n",
    "```"
   ]
  },
  {
   "cell_type": "markdown",
   "metadata": {
    "id": "x_OE7Mklz1Ci"
   },
   "source": [
    "### 1. Import data to Python (5 pts)\n",
    "---"
   ]
  },
  {
   "cell_type": "code",
   "metadata": {
    "id": "4r6Yb-EssUkX",
    "ExecuteTime": {
     "end_time": "2024-08-07T17:24:50.575507Z",
     "start_time": "2024-08-07T17:24:50.573363Z"
    }
   },
   "source": [
    "####################################################\n",
    "# Import Numpy and Pandas library\n",
    "# Write your code here\n",
    "# 1 pts\n",
    "####################################################\n",
    "import pandas as pd\n",
    "import numpy as np"
   ],
   "outputs": [],
   "execution_count": 1
  },
  {
   "cell_type": "code",
   "metadata": {
    "id": "773jxJ0P0IAq",
    "ExecuteTime": {
     "end_time": "2024-08-07T17:24:51.004622Z",
     "start_time": "2024-08-07T17:24:51.001124Z"
    }
   },
   "source": [
    "####################################################\n",
    "# Create a function named read_data\n",
    "# - Has an input of filename, i.e. fname\n",
    "# - Read the data as a Pandas DataFrame\n",
    "# - Drop duplicate on `url`, keep the last ones\n",
    "# - Drop col `names` and set `url` as index\n",
    "# - Print the data shape\n",
    "# - Return the dataset\n",
    "# Write your code here (4 pts)\n",
    "####################################################    \n",
    "def read_data(fname):\n",
    "    data = pd.read_csv(fname)\n",
    "    print(f\"Data shape raw : {data.shape}\")\n",
    "    print(f\"Number of duplicate url : {data['url'].duplicated().sum()}\")\n",
    "\n",
    "    data = data.drop_duplicates(subset=['url'], keep='last')\n",
    "    print(f\"Data shape after dropping: {data.shape}\")\n",
    "    \n",
    "    data.set_index('url', inplace=True)\n",
    "    data = data.drop([\"name\"], axis=1)\n",
    "\n",
    "    print(f\"Data shape final : {data.shape}\")\n",
    "\n",
    "    return data"
   ],
   "outputs": [],
   "execution_count": 2
  },
  {
   "cell_type": "code",
   "metadata": {
    "colab": {
     "base_uri": "https://localhost:8080/"
    },
    "id": "TFRDR1I-1aDe",
    "outputId": "83254f7f-fda7-4c86-b60d-1d0b9bc859e4",
    "ExecuteTime": {
     "end_time": "2024-08-07T17:24:51.032871Z",
     "start_time": "2024-08-07T17:24:51.019302Z"
    }
   },
   "source": [
    "# Read the Uber data (JUST RUN THE CODE)\n",
    "data = read_data(fname='scrape_house_edit.csv')"
   ],
   "outputs": [
    {
     "name": "stdout",
     "output_type": "stream",
     "text": [
      "Data shape raw : (1490, 10)\n",
      "Number of duplicate url : 0\n",
      "Data shape after dropping: (1490, 10)\n",
      "Data shape final : (1490, 8)\n"
     ]
    }
   ],
   "execution_count": 3
  },
  {
   "cell_type": "code",
   "metadata": {
    "colab": {
     "base_uri": "https://localhost:8080/"
    },
    "id": "N8eIfaVU3QJS",
    "outputId": "dc70290a-333d-4881-aff5-92c5fca51265",
    "ExecuteTime": {
     "end_time": "2024-08-07T17:24:51.048081Z",
     "start_time": "2024-08-07T17:24:51.036798Z"
    }
   },
   "source": [
    "# JUST RUN THE CODE\n",
    "data.head()"
   ],
   "outputs": [
    {
     "data": {
      "text/plain": [
       "                                                    bedrooms  bathrooms  \\\n",
       "url                                                                       \n",
       "https://www.lamudi.co.id/rumah-sewa-siap-huni-t...       2.0        2.0   \n",
       "https://www.lamudi.co.id/sewa-rumah-bandung-and...       2.0        1.0   \n",
       "https://www.lamudi.co.id/disewakan-rumah-siap-h...       4.0        3.0   \n",
       "https://www.lamudi.co.id/disewakan-rumah-1-lant...       2.0        2.0   \n",
       "https://www.lamudi.co.id/for-rent-rumah-minimal...       4.0        2.0   \n",
       "\n",
       "                                                    floors  land_area  \\\n",
       "url                                                                     \n",
       "https://www.lamudi.co.id/rumah-sewa-siap-huni-t...     1.0      135.0   \n",
       "https://www.lamudi.co.id/sewa-rumah-bandung-and...     1.0       60.0   \n",
       "https://www.lamudi.co.id/disewakan-rumah-siap-h...     1.0      210.0   \n",
       "https://www.lamudi.co.id/disewakan-rumah-1-lant...     1.0      153.0   \n",
       "https://www.lamudi.co.id/for-rent-rumah-minimal...     1.0       93.0   \n",
       "\n",
       "                                                    building_area   longitude  \\\n",
       "url                                                                             \n",
       "https://www.lamudi.co.id/rumah-sewa-siap-huni-t...           92.0  107.564840   \n",
       "https://www.lamudi.co.id/sewa-rumah-bandung-and...           55.0  107.687423   \n",
       "https://www.lamudi.co.id/disewakan-rumah-siap-h...          150.0  107.621282   \n",
       "https://www.lamudi.co.id/disewakan-rumah-1-lant...          120.0  106.904854   \n",
       "https://www.lamudi.co.id/for-rent-rumah-minimal...           72.0  107.633610   \n",
       "\n",
       "                                                    latitude       price  \n",
       "url                                                                       \n",
       "https://www.lamudi.co.id/rumah-sewa-siap-huni-t... -6.967360  35000000.0  \n",
       "https://www.lamudi.co.id/sewa-rumah-bandung-and... -6.938851  25000000.0  \n",
       "https://www.lamudi.co.id/disewakan-rumah-siap-h... -6.954875  60000000.0  \n",
       "https://www.lamudi.co.id/disewakan-rumah-1-lant... -6.653733  50000000.0  \n",
       "https://www.lamudi.co.id/for-rent-rumah-minimal... -6.980560  43000000.0  "
      ],
      "text/html": [
       "<div>\n",
       "<style scoped>\n",
       "    .dataframe tbody tr th:only-of-type {\n",
       "        vertical-align: middle;\n",
       "    }\n",
       "\n",
       "    .dataframe tbody tr th {\n",
       "        vertical-align: top;\n",
       "    }\n",
       "\n",
       "    .dataframe thead th {\n",
       "        text-align: right;\n",
       "    }\n",
       "</style>\n",
       "<table border=\"1\" class=\"dataframe\">\n",
       "  <thead>\n",
       "    <tr style=\"text-align: right;\">\n",
       "      <th></th>\n",
       "      <th>bedrooms</th>\n",
       "      <th>bathrooms</th>\n",
       "      <th>floors</th>\n",
       "      <th>land_area</th>\n",
       "      <th>building_area</th>\n",
       "      <th>longitude</th>\n",
       "      <th>latitude</th>\n",
       "      <th>price</th>\n",
       "    </tr>\n",
       "    <tr>\n",
       "      <th>url</th>\n",
       "      <th></th>\n",
       "      <th></th>\n",
       "      <th></th>\n",
       "      <th></th>\n",
       "      <th></th>\n",
       "      <th></th>\n",
       "      <th></th>\n",
       "      <th></th>\n",
       "    </tr>\n",
       "  </thead>\n",
       "  <tbody>\n",
       "    <tr>\n",
       "      <th>https://www.lamudi.co.id/rumah-sewa-siap-huni-taman-kopo-indah-1-dekat-tol-169958216940.html</th>\n",
       "      <td>2.0</td>\n",
       "      <td>2.0</td>\n",
       "      <td>1.0</td>\n",
       "      <td>135.0</td>\n",
       "      <td>92.0</td>\n",
       "      <td>107.564840</td>\n",
       "      <td>-6.967360</td>\n",
       "      <td>35000000.0</td>\n",
       "    </tr>\n",
       "    <tr>\n",
       "      <th>https://www.lamudi.co.id/sewa-rumah-bandung-andaru-170356728824.html</th>\n",
       "      <td>2.0</td>\n",
       "      <td>1.0</td>\n",
       "      <td>1.0</td>\n",
       "      <td>60.0</td>\n",
       "      <td>55.0</td>\n",
       "      <td>107.687423</td>\n",
       "      <td>-6.938851</td>\n",
       "      <td>25000000.0</td>\n",
       "    </tr>\n",
       "    <tr>\n",
       "      <th>https://www.lamudi.co.id/disewakan-rumah-siap-huni-furnished-terusan-buah-b-16938872774.html</th>\n",
       "      <td>4.0</td>\n",
       "      <td>3.0</td>\n",
       "      <td>1.0</td>\n",
       "      <td>210.0</td>\n",
       "      <td>150.0</td>\n",
       "      <td>107.621282</td>\n",
       "      <td>-6.954875</td>\n",
       "      <td>60000000.0</td>\n",
       "    </tr>\n",
       "    <tr>\n",
       "      <th>https://www.lamudi.co.id/disewakan-rumah-1-lantai-dalam-komplek-tki-taman-k-169102747823.html</th>\n",
       "      <td>2.0</td>\n",
       "      <td>2.0</td>\n",
       "      <td>1.0</td>\n",
       "      <td>153.0</td>\n",
       "      <td>120.0</td>\n",
       "      <td>106.904854</td>\n",
       "      <td>-6.653733</td>\n",
       "      <td>50000000.0</td>\n",
       "    </tr>\n",
       "    <tr>\n",
       "      <th>https://www.lamudi.co.id/for-rent-rumah-minimalis-di-ciganitri-bojongsoang-16930131581.html</th>\n",
       "      <td>4.0</td>\n",
       "      <td>2.0</td>\n",
       "      <td>1.0</td>\n",
       "      <td>93.0</td>\n",
       "      <td>72.0</td>\n",
       "      <td>107.633610</td>\n",
       "      <td>-6.980560</td>\n",
       "      <td>43000000.0</td>\n",
       "    </tr>\n",
       "  </tbody>\n",
       "</table>\n",
       "</div>"
      ]
     },
     "execution_count": 4,
     "metadata": {},
     "output_type": "execute_result"
    }
   ],
   "execution_count": 4
  },
  {
   "cell_type": "markdown",
   "metadata": {
    "id": "2OzWPGFk3iwl"
   },
   "source": [
    "### 2. Data Preprocessing (22 pts)\n",
    "---"
   ]
  },
  {
   "cell_type": "markdown",
   "metadata": {
    "id": "XP-LVEz8MmLe"
   },
   "source": [
    "**The processing pipeline**\n",
    "```\n",
    "2.1 Input-Output Split\n",
    "2.2 Train-Valid-Test Split\n",
    "2.3 Remove & Preprocess Anomalous Data\n",
    "2.4 Numerical Imputation\n",
    "2.5 Feature Engineering the Data\n",
    "2.6 Create a Preprocessing Function\n",
    "```"
   ]
  },
  {
   "cell_type": "markdown",
   "metadata": {
    "id": "MPzQ-1Wz3lgP"
   },
   "source": [
    "#### 2.1. Input-Output Split (3 pts)\n",
    "---"
   ]
  },
  {
   "cell_type": "markdown",
   "metadata": {
    "id": "d0eNiv8J3ogi"
   },
   "source": [
    "- We're going to split input & output according to the modeling objective.\n",
    "- Create a function to split the input & output"
   ]
  },
  {
   "cell_type": "code",
   "metadata": {
    "id": "7JLABNi-3ktA",
    "ExecuteTime": {
     "end_time": "2024-08-07T17:24:51.098179Z",
     "start_time": "2024-08-07T17:24:51.095172Z"
    }
   },
   "source": [
    "####################################################\n",
    "# Create a function named split_input_output\n",
    "# - Has two arguments\n",
    "#   - data, a pd Dataframe\n",
    "#   - target_col, a column (str)\n",
    "# - Print the data shape after splitting\n",
    "# - Return X, y\n",
    "# Write your code here\n",
    "####################################################\n",
    "def split_input_output(data, target_col):\n",
    "    y = data[target_col]\n",
    "    X = data.drop(target_col, axis=1)\n",
    "    print(f\"X shape : {X.shape}\")\n",
    "    print(f\"Y shape : {y.shape}\")\n",
    "    return X, y"
   ],
   "outputs": [],
   "execution_count": 5
  },
  {
   "cell_type": "code",
   "metadata": {
    "colab": {
     "base_uri": "https://localhost:8080/"
    },
    "id": "oN8Kuzkf4hgN",
    "outputId": "6bc2c169-c027-498c-af2e-c072c20521de",
    "ExecuteTime": {
     "end_time": "2024-08-07T17:24:51.161595Z",
     "start_time": "2024-08-07T17:24:51.158213Z"
    }
   },
   "source": [
    "# Load the train data only (JUST RUN THE CODE)\n",
    "X, y = split_input_output(data=data,\n",
    "                          target_col='price')"
   ],
   "outputs": [
    {
     "name": "stdout",
     "output_type": "stream",
     "text": [
      "X shape : (1490, 7)\n",
      "Y shape : (1490,)\n"
     ]
    }
   ],
   "execution_count": 6
  },
  {
   "cell_type": "code",
   "metadata": {
    "colab": {
     "base_uri": "https://localhost:8080/"
    },
    "id": "ScJnHQsZ45Lf",
    "outputId": "783c12e7-850b-44e0-9a01-feebdfd97d53",
    "ExecuteTime": {
     "end_time": "2024-08-07T17:24:51.212583Z",
     "start_time": "2024-08-07T17:24:51.204916Z"
    }
   },
   "source": [
    "X.head()  # (JUST RUN THE CODE)"
   ],
   "outputs": [
    {
     "data": {
      "text/plain": [
       "                                                    bedrooms  bathrooms  \\\n",
       "url                                                                       \n",
       "https://www.lamudi.co.id/rumah-sewa-siap-huni-t...       2.0        2.0   \n",
       "https://www.lamudi.co.id/sewa-rumah-bandung-and...       2.0        1.0   \n",
       "https://www.lamudi.co.id/disewakan-rumah-siap-h...       4.0        3.0   \n",
       "https://www.lamudi.co.id/disewakan-rumah-1-lant...       2.0        2.0   \n",
       "https://www.lamudi.co.id/for-rent-rumah-minimal...       4.0        2.0   \n",
       "\n",
       "                                                    floors  land_area  \\\n",
       "url                                                                     \n",
       "https://www.lamudi.co.id/rumah-sewa-siap-huni-t...     1.0      135.0   \n",
       "https://www.lamudi.co.id/sewa-rumah-bandung-and...     1.0       60.0   \n",
       "https://www.lamudi.co.id/disewakan-rumah-siap-h...     1.0      210.0   \n",
       "https://www.lamudi.co.id/disewakan-rumah-1-lant...     1.0      153.0   \n",
       "https://www.lamudi.co.id/for-rent-rumah-minimal...     1.0       93.0   \n",
       "\n",
       "                                                    building_area   longitude  \\\n",
       "url                                                                             \n",
       "https://www.lamudi.co.id/rumah-sewa-siap-huni-t...           92.0  107.564840   \n",
       "https://www.lamudi.co.id/sewa-rumah-bandung-and...           55.0  107.687423   \n",
       "https://www.lamudi.co.id/disewakan-rumah-siap-h...          150.0  107.621282   \n",
       "https://www.lamudi.co.id/disewakan-rumah-1-lant...          120.0  106.904854   \n",
       "https://www.lamudi.co.id/for-rent-rumah-minimal...           72.0  107.633610   \n",
       "\n",
       "                                                    latitude  \n",
       "url                                                           \n",
       "https://www.lamudi.co.id/rumah-sewa-siap-huni-t... -6.967360  \n",
       "https://www.lamudi.co.id/sewa-rumah-bandung-and... -6.938851  \n",
       "https://www.lamudi.co.id/disewakan-rumah-siap-h... -6.954875  \n",
       "https://www.lamudi.co.id/disewakan-rumah-1-lant... -6.653733  \n",
       "https://www.lamudi.co.id/for-rent-rumah-minimal... -6.980560  "
      ],
      "text/html": [
       "<div>\n",
       "<style scoped>\n",
       "    .dataframe tbody tr th:only-of-type {\n",
       "        vertical-align: middle;\n",
       "    }\n",
       "\n",
       "    .dataframe tbody tr th {\n",
       "        vertical-align: top;\n",
       "    }\n",
       "\n",
       "    .dataframe thead th {\n",
       "        text-align: right;\n",
       "    }\n",
       "</style>\n",
       "<table border=\"1\" class=\"dataframe\">\n",
       "  <thead>\n",
       "    <tr style=\"text-align: right;\">\n",
       "      <th></th>\n",
       "      <th>bedrooms</th>\n",
       "      <th>bathrooms</th>\n",
       "      <th>floors</th>\n",
       "      <th>land_area</th>\n",
       "      <th>building_area</th>\n",
       "      <th>longitude</th>\n",
       "      <th>latitude</th>\n",
       "    </tr>\n",
       "    <tr>\n",
       "      <th>url</th>\n",
       "      <th></th>\n",
       "      <th></th>\n",
       "      <th></th>\n",
       "      <th></th>\n",
       "      <th></th>\n",
       "      <th></th>\n",
       "      <th></th>\n",
       "    </tr>\n",
       "  </thead>\n",
       "  <tbody>\n",
       "    <tr>\n",
       "      <th>https://www.lamudi.co.id/rumah-sewa-siap-huni-taman-kopo-indah-1-dekat-tol-169958216940.html</th>\n",
       "      <td>2.0</td>\n",
       "      <td>2.0</td>\n",
       "      <td>1.0</td>\n",
       "      <td>135.0</td>\n",
       "      <td>92.0</td>\n",
       "      <td>107.564840</td>\n",
       "      <td>-6.967360</td>\n",
       "    </tr>\n",
       "    <tr>\n",
       "      <th>https://www.lamudi.co.id/sewa-rumah-bandung-andaru-170356728824.html</th>\n",
       "      <td>2.0</td>\n",
       "      <td>1.0</td>\n",
       "      <td>1.0</td>\n",
       "      <td>60.0</td>\n",
       "      <td>55.0</td>\n",
       "      <td>107.687423</td>\n",
       "      <td>-6.938851</td>\n",
       "    </tr>\n",
       "    <tr>\n",
       "      <th>https://www.lamudi.co.id/disewakan-rumah-siap-huni-furnished-terusan-buah-b-16938872774.html</th>\n",
       "      <td>4.0</td>\n",
       "      <td>3.0</td>\n",
       "      <td>1.0</td>\n",
       "      <td>210.0</td>\n",
       "      <td>150.0</td>\n",
       "      <td>107.621282</td>\n",
       "      <td>-6.954875</td>\n",
       "    </tr>\n",
       "    <tr>\n",
       "      <th>https://www.lamudi.co.id/disewakan-rumah-1-lantai-dalam-komplek-tki-taman-k-169102747823.html</th>\n",
       "      <td>2.0</td>\n",
       "      <td>2.0</td>\n",
       "      <td>1.0</td>\n",
       "      <td>153.0</td>\n",
       "      <td>120.0</td>\n",
       "      <td>106.904854</td>\n",
       "      <td>-6.653733</td>\n",
       "    </tr>\n",
       "    <tr>\n",
       "      <th>https://www.lamudi.co.id/for-rent-rumah-minimalis-di-ciganitri-bojongsoang-16930131581.html</th>\n",
       "      <td>4.0</td>\n",
       "      <td>2.0</td>\n",
       "      <td>1.0</td>\n",
       "      <td>93.0</td>\n",
       "      <td>72.0</td>\n",
       "      <td>107.633610</td>\n",
       "      <td>-6.980560</td>\n",
       "    </tr>\n",
       "  </tbody>\n",
       "</table>\n",
       "</div>"
      ]
     },
     "execution_count": 7,
     "metadata": {},
     "output_type": "execute_result"
    }
   ],
   "execution_count": 7
  },
  {
   "cell_type": "code",
   "metadata": {
    "colab": {
     "base_uri": "https://localhost:8080/"
    },
    "id": "hvvwO3A547u1",
    "outputId": "773f640f-a37d-402a-e0b1-a293e60b9d82",
    "ExecuteTime": {
     "end_time": "2024-08-07T17:24:51.307308Z",
     "start_time": "2024-08-07T17:24:51.303091Z"
    }
   },
   "source": [
    "y.head()  # (JUST RUN THE CODE)"
   ],
   "outputs": [
    {
     "data": {
      "text/plain": [
       "url\n",
       "https://www.lamudi.co.id/rumah-sewa-siap-huni-taman-kopo-indah-1-dekat-tol-169958216940.html     35000000.0\n",
       "https://www.lamudi.co.id/sewa-rumah-bandung-andaru-170356728824.html                             25000000.0\n",
       "https://www.lamudi.co.id/disewakan-rumah-siap-huni-furnished-terusan-buah-b-16938872774.html     60000000.0\n",
       "https://www.lamudi.co.id/disewakan-rumah-1-lantai-dalam-komplek-tki-taman-k-169102747823.html    50000000.0\n",
       "https://www.lamudi.co.id/for-rent-rumah-minimalis-di-ciganitri-bojongsoang-16930131581.html      43000000.0\n",
       "Name: price, dtype: float64"
      ]
     },
     "execution_count": 8,
     "metadata": {},
     "output_type": "execute_result"
    }
   ],
   "execution_count": 8
  },
  {
   "cell_type": "markdown",
   "metadata": {
    "id": "zO3YDDwc5qQ-"
   },
   "source": [
    "#### 2.2. Train-Valid-Test Split (3 pts)\n",
    "---"
   ]
  },
  {
   "cell_type": "markdown",
   "metadata": {
    "id": "kFA5PsKQ5qRN"
   },
   "source": [
    "- Now, we want to split the data before modeling.\n",
    "- Split the data into three set:\n",
    "  - Train, for training the model\n",
    "  - Validation, for choosing the best model\n",
    "  - Test, for error generalization\n",
    "\n",
    "- You should make the splitting proportion train (80%), valid (10%), and test (10%)"
   ]
  },
  {
   "cell_type": "code",
   "metadata": {
    "id": "5LTodPoF5qRN",
    "ExecuteTime": {
     "end_time": "2024-08-07T17:24:51.519060Z",
     "start_time": "2024-08-07T17:24:51.357513Z"
    }
   },
   "source": [
    "####################################################\n",
    "# Create a function named split_train_test\n",
    "# - Has two arguments\n",
    "#   - X, the input (pd.Dataframe)\n",
    "#   - y, the output (pd.Dataframe)\n",
    "#   - test_size, the test size between 0-1 (float)\n",
    "#   - seed, the random state (int)\n",
    "# - Print the data shape after splitting\n",
    "# - Return X_train, X_test, y_train, y_test\n",
    "# - You can use an sklearn library to help you\n",
    "# Write your code here\n",
    "####################################################\n",
    "from sklearn.model_selection import train_test_split\n",
    "\n",
    "def split_train_test(X, y, test_size, seed):\n",
    "    X_train, X_test, y_train, y_test = train_test_split(X, y, test_size=test_size, random_state=seed)\n",
    "    print(f\"X train shape : {X_train.shape}\")\n",
    "    print(f\"y train shape : {y_train.shape}\")\n",
    "    print(f\"X test shape : {X_test.shape}\")\n",
    "    print(f\"y test shape : {y_test.shape}\")\n",
    "    return X_train, X_test, y_train, y_test"
   ],
   "outputs": [],
   "execution_count": 9
  },
  {
   "cell_type": "code",
   "metadata": {
    "colab": {
     "base_uri": "https://localhost:8080/"
    },
    "id": "1F6TPylm49KB",
    "outputId": "1eb6ab50-0267-4b7a-8a26-50152e3021bc",
    "ExecuteTime": {
     "end_time": "2024-08-07T17:24:51.527456Z",
     "start_time": "2024-08-07T17:24:51.520230Z"
    }
   },
   "source": [
    "# Split the data\n",
    "# First, split the train & not train\n",
    "X_train, X_not_train, y_train, y_not_train = split_train_test(X, y, test_size=0.2, seed=123)# Write your code here\n",
    "\n",
    "# Then, split the valid & test\n",
    "X_valid, X_test, y_valid, y_test = split_train_test(X_not_train, y_not_train, test_size=0.5, seed=123)# Write your code here"
   ],
   "outputs": [
    {
     "name": "stdout",
     "output_type": "stream",
     "text": [
      "X train shape : (1192, 7)\n",
      "y train shape : (1192,)\n",
      "X test shape : (298, 7)\n",
      "y test shape : (298,)\n",
      "X train shape : (149, 7)\n",
      "y train shape : (149,)\n",
      "X test shape : (149, 7)\n",
      "y test shape : (149,)\n"
     ]
    }
   ],
   "execution_count": 10
  },
  {
   "cell_type": "code",
   "metadata": {
    "colab": {
     "base_uri": "https://localhost:8080/"
    },
    "id": "4gTzpb627pJB",
    "outputId": "bd944b4c-a79f-4a63-d28c-e9341b1a7bca",
    "ExecuteTime": {
     "end_time": "2024-08-07T17:24:51.577433Z",
     "start_time": "2024-08-07T17:24:51.574376Z"
    }
   },
   "source": [
    "# Validate (JUST RUN THE CODE)\n",
    "print(len(X_train)/len(X))  # should be 0.8\n",
    "print(len(X_valid)/len(X))  # should be 0.1\n",
    "print(len(X_test)/len(X))   # should be 0.1"
   ],
   "outputs": [
    {
     "name": "stdout",
     "output_type": "stream",
     "text": [
      "0.8\n",
      "0.1\n",
      "0.1\n"
     ]
    }
   ],
   "execution_count": 11
  },
  {
   "cell_type": "code",
   "metadata": {
    "colab": {
     "base_uri": "https://localhost:8080/"
    },
    "id": "E6GgKZ5Z-d-A",
    "outputId": "cadf9a9f-4cbb-4ee2-dad7-b5d9ee7b31bd",
    "ExecuteTime": {
     "end_time": "2024-08-07T17:24:51.614700Z",
     "start_time": "2024-08-07T17:24:51.606089Z"
    }
   },
   "source": [
    "X_train.head()  # (JUST RUN THE CODE)"
   ],
   "outputs": [
    {
     "data": {
      "text/plain": [
       "                                                    bedrooms  bathrooms  \\\n",
       "url                                                                       \n",
       "https://www.lamudi.co.id/disewa-rumah-baru-mini...       2.0        NaN   \n",
       "https://www.lamudi.co.id/disewakan-rumah-nyaman...       1.0        1.0   \n",
       "https://www.lamudi.co.id/rumah-nyaman-full-furn...       4.0        4.0   \n",
       "https://www.lamudi.co.id/disewa-rumah-siap-huni...       8.0        4.0   \n",
       "https://www.lamudi.co.id/rumah-bagus-di-mekar-w...       4.0        4.0   \n",
       "\n",
       "                                                    floors  land_area  \\\n",
       "url                                                                     \n",
       "https://www.lamudi.co.id/disewa-rumah-baru-mini...     1.0      126.0   \n",
       "https://www.lamudi.co.id/disewakan-rumah-nyaman...     NaN      200.0   \n",
       "https://www.lamudi.co.id/rumah-nyaman-full-furn...     1.0      144.0   \n",
       "https://www.lamudi.co.id/disewa-rumah-siap-huni...     1.0      350.0   \n",
       "https://www.lamudi.co.id/rumah-bagus-di-mekar-w...     1.0      300.0   \n",
       "\n",
       "                                                    building_area   longitude  \\\n",
       "url                                                                             \n",
       "https://www.lamudi.co.id/disewa-rumah-baru-mini...          100.0  107.380280   \n",
       "https://www.lamudi.co.id/disewakan-rumah-nyaman...           37.0  107.638060   \n",
       "https://www.lamudi.co.id/rumah-nyaman-full-furn...          200.0  107.621282   \n",
       "https://www.lamudi.co.id/disewa-rumah-siap-huni...          450.0  107.624440   \n",
       "https://www.lamudi.co.id/rumah-bagus-di-mekar-w...          400.0  107.610560   \n",
       "\n",
       "                                                    latitude  \n",
       "url                                                           \n",
       "https://www.lamudi.co.id/disewa-rumah-baru-mini... -6.821670  \n",
       "https://www.lamudi.co.id/disewakan-rumah-nyaman... -6.893330  \n",
       "https://www.lamudi.co.id/rumah-nyaman-full-furn... -6.954875  \n",
       "https://www.lamudi.co.id/disewa-rumah-siap-huni... -6.811670  \n",
       "https://www.lamudi.co.id/rumah-bagus-di-mekar-w... -6.957220  "
      ],
      "text/html": [
       "<div>\n",
       "<style scoped>\n",
       "    .dataframe tbody tr th:only-of-type {\n",
       "        vertical-align: middle;\n",
       "    }\n",
       "\n",
       "    .dataframe tbody tr th {\n",
       "        vertical-align: top;\n",
       "    }\n",
       "\n",
       "    .dataframe thead th {\n",
       "        text-align: right;\n",
       "    }\n",
       "</style>\n",
       "<table border=\"1\" class=\"dataframe\">\n",
       "  <thead>\n",
       "    <tr style=\"text-align: right;\">\n",
       "      <th></th>\n",
       "      <th>bedrooms</th>\n",
       "      <th>bathrooms</th>\n",
       "      <th>floors</th>\n",
       "      <th>land_area</th>\n",
       "      <th>building_area</th>\n",
       "      <th>longitude</th>\n",
       "      <th>latitude</th>\n",
       "    </tr>\n",
       "    <tr>\n",
       "      <th>url</th>\n",
       "      <th></th>\n",
       "      <th></th>\n",
       "      <th></th>\n",
       "      <th></th>\n",
       "      <th></th>\n",
       "      <th></th>\n",
       "      <th></th>\n",
       "    </tr>\n",
       "  </thead>\n",
       "  <tbody>\n",
       "    <tr>\n",
       "      <th>https://www.lamudi.co.id/disewa-rumah-baru-minimalis-di-taman-kopo-indah-5-170061569879.html</th>\n",
       "      <td>2.0</td>\n",
       "      <td>NaN</td>\n",
       "      <td>1.0</td>\n",
       "      <td>126.0</td>\n",
       "      <td>100.0</td>\n",
       "      <td>107.380280</td>\n",
       "      <td>-6.821670</td>\n",
       "    </tr>\n",
       "    <tr>\n",
       "      <th>https://www.lamudi.co.id/disewakan-rumah-nyaman-berdampingan-di-cikutra-169381583375.html</th>\n",
       "      <td>1.0</td>\n",
       "      <td>1.0</td>\n",
       "      <td>NaN</td>\n",
       "      <td>200.0</td>\n",
       "      <td>37.0</td>\n",
       "      <td>107.638060</td>\n",
       "      <td>-6.893330</td>\n",
       "    </tr>\n",
       "    <tr>\n",
       "      <th>https://www.lamudi.co.id/rumah-nyaman-full-furnish-di-cluster-setra-duta-ba-169382206322.html</th>\n",
       "      <td>4.0</td>\n",
       "      <td>4.0</td>\n",
       "      <td>1.0</td>\n",
       "      <td>144.0</td>\n",
       "      <td>200.0</td>\n",
       "      <td>107.621282</td>\n",
       "      <td>-6.954875</td>\n",
       "    </tr>\n",
       "    <tr>\n",
       "      <th>https://www.lamudi.co.id/disewa-rumah-siap-huni-terawat-strategis-di-buah-b-169621193557.html</th>\n",
       "      <td>8.0</td>\n",
       "      <td>4.0</td>\n",
       "      <td>1.0</td>\n",
       "      <td>350.0</td>\n",
       "      <td>450.0</td>\n",
       "      <td>107.624440</td>\n",
       "      <td>-6.811670</td>\n",
       "    </tr>\n",
       "    <tr>\n",
       "      <th>https://www.lamudi.co.id/rumah-bagus-di-mekar-wangi-di-bandung-bojong-loa-170037510330.html</th>\n",
       "      <td>4.0</td>\n",
       "      <td>4.0</td>\n",
       "      <td>1.0</td>\n",
       "      <td>300.0</td>\n",
       "      <td>400.0</td>\n",
       "      <td>107.610560</td>\n",
       "      <td>-6.957220</td>\n",
       "    </tr>\n",
       "  </tbody>\n",
       "</table>\n",
       "</div>"
      ]
     },
     "execution_count": 12,
     "metadata": {},
     "output_type": "execute_result"
    }
   ],
   "execution_count": 12
  },
  {
   "cell_type": "markdown",
   "metadata": {
    "id": "TSolzD9z_NOc"
   },
   "source": [
    "#### EDA before Preprocessing (JUST RUN THE CODE)\n",
    "---"
   ]
  },
  {
   "cell_type": "markdown",
   "metadata": {
    "id": "nt7Wtjmk_NOc"
   },
   "source": [
    "- Find the number of missing values"
   ]
  },
  {
   "cell_type": "code",
   "metadata": {
    "colab": {
     "base_uri": "https://localhost:8080/"
    },
    "id": "9TN_UpNwAmUD",
    "outputId": "374cf67f-e048-4055-f68d-54ff6b0a7e2a",
    "ExecuteTime": {
     "end_time": "2024-08-07T17:24:51.678413Z",
     "start_time": "2024-08-07T17:24:51.673405Z"
    }
   },
   "source": [
    "100 * (X_train.isna().sum(0) / len(X_train))"
   ],
   "outputs": [
    {
     "data": {
      "text/plain": [
       "bedrooms         4.194631\n",
       "bathrooms        4.446309\n",
       "floors           4.614094\n",
       "land_area        5.369128\n",
       "building_area    4.697987\n",
       "longitude        0.419463\n",
       "latitude         0.419463\n",
       "dtype: float64"
      ]
     },
     "execution_count": 13,
     "metadata": {},
     "output_type": "execute_result"
    }
   ],
   "execution_count": 13
  },
  {
   "cell_type": "markdown",
   "metadata": {
    "id": "3CmEIM19Aqnr"
   },
   "source": [
    "- We will impute all these variables if there is any missing value"
   ]
  },
  {
   "cell_type": "markdown",
   "metadata": {
    "id": "MBVeQTSaDtdO"
   },
   "source": [
    "- First, check the features distribution"
   ]
  },
  {
   "cell_type": "code",
   "metadata": {
    "id": "cDPzHlriAFck",
    "ExecuteTime": {
     "end_time": "2024-08-07T17:24:51.722303Z",
     "start_time": "2024-08-07T17:24:51.716437Z"
    }
   },
   "source": [
    "import matplotlib.pyplot as plt\n",
    "import seaborn as sns\n",
    "%matplotlib inline"
   ],
   "outputs": [],
   "execution_count": 14
  },
  {
   "cell_type": "code",
   "metadata": {
    "colab": {
     "base_uri": "https://localhost:8080/"
    },
    "id": "eOXpnmQc_NOc",
    "outputId": "85e1b5fb-d7d7-46ef-958f-89f385b86b52",
    "ExecuteTime": {
     "end_time": "2024-08-07T17:24:53.039454Z",
     "start_time": "2024-08-07T17:24:51.802580Z"
    }
   },
   "source": [
    "# Plot histogram\n",
    "fig, ax = plt.subplots(nrows=3, ncols=3, figsize=(12, 8))\n",
    "axes = ax.flatten()\n",
    "\n",
    "for i, col in enumerate(X_train.columns):\n",
    "    sns.kdeplot(X_train[col], ax=axes[i])\n",
    "    axes[i].set_title(f'Distribution of {col}')\n",
    "\n",
    "plt.tight_layout()\n",
    "plt.show()"
   ],
   "outputs": [
    {
     "data": {
      "text/plain": [
       "<Figure size 1200x800 with 9 Axes>"
      ],
      "image/png": "[encoded data removed]"
     },
     "metadata": {},
     "output_type": "display_data"
    }
   ],
   "execution_count": 15
  },
  {
   "cell_type": "markdown",
   "metadata": {
    "id": "dMH1g3-Nf9Mi"
   },
   "source": [
    "Summary:\n",
    "- Our data obviously have anomalies, e.g.\n",
    "  - there's no such thing of 50 `floors` for family-sized house, or\n",
    "  - 30 bathrooms, or\n",
    "  - (`longitude`, `latitude`) = (`0`, `0`) are not even in Indonesia.\n",
    "- We have to clean the data from this anomalies\n",
    "- We can assume that our numerical data have a skewed distribution, thus we'll use median to imput the missing values."
   ]
  },
  {
   "cell_type": "code",
   "metadata": {
    "colab": {
     "base_uri": "https://localhost:8080/"
    },
    "id": "3Zed-t-gp7IH",
    "outputId": "104b1c57-2201-47b5-9d82-a6c4a58270bf",
    "ExecuteTime": {
     "end_time": "2024-08-07T17:24:53.056203Z",
     "start_time": "2024-08-07T17:24:53.040766Z"
    }
   },
   "source": [
    "X_train.describe()"
   ],
   "outputs": [
    {
     "data": {
      "text/plain": [
       "          bedrooms    bathrooms       floors    land_area  building_area  \\\n",
       "count  1142.000000  1139.000000  1137.000000  1128.000000    1136.000000   \n",
       "mean      3.466725     2.396839     1.019349   186.466312     164.384683   \n",
       "std       2.005740     1.444531     0.274462   168.919119     122.173535   \n",
       "min       1.000000     1.000000     0.000000     0.000000       0.000000   \n",
       "25%       2.000000     2.000000     1.000000   105.000000      90.000000   \n",
       "50%       3.000000     2.000000     1.000000   136.500000     126.000000   \n",
       "75%       4.000000     3.000000     1.000000   200.000000     200.000000   \n",
       "max      54.000000    34.000000     3.000000  2216.000000    1200.000000   \n",
       "\n",
       "         longitude     latitude  \n",
       "count  1187.000000  1187.000000  \n",
       "mean    105.351897    -6.711368  \n",
       "std      15.629363     1.380850  \n",
       "min       1.000000    -7.561604  \n",
       "25%     107.580215    -6.948904  \n",
       "50%     107.619047    -6.917247  \n",
       "75%     107.640830    -6.863551  \n",
       "max     180.000000    20.000000  "
      ],
      "text/html": [
       "<div>\n",
       "<style scoped>\n",
       "    .dataframe tbody tr th:only-of-type {\n",
       "        vertical-align: middle;\n",
       "    }\n",
       "\n",
       "    .dataframe tbody tr th {\n",
       "        vertical-align: top;\n",
       "    }\n",
       "\n",
       "    .dataframe thead th {\n",
       "        text-align: right;\n",
       "    }\n",
       "</style>\n",
       "<table border=\"1\" class=\"dataframe\">\n",
       "  <thead>\n",
       "    <tr style=\"text-align: right;\">\n",
       "      <th></th>\n",
       "      <th>bedrooms</th>\n",
       "      <th>bathrooms</th>\n",
       "      <th>floors</th>\n",
       "      <th>land_area</th>\n",
       "      <th>building_area</th>\n",
       "      <th>longitude</th>\n",
       "      <th>latitude</th>\n",
       "    </tr>\n",
       "  </thead>\n",
       "  <tbody>\n",
       "    <tr>\n",
       "      <th>count</th>\n",
       "      <td>1142.000000</td>\n",
       "      <td>1139.000000</td>\n",
       "      <td>1137.000000</td>\n",
       "      <td>1128.000000</td>\n",
       "      <td>1136.000000</td>\n",
       "      <td>1187.000000</td>\n",
       "      <td>1187.000000</td>\n",
       "    </tr>\n",
       "    <tr>\n",
       "      <th>mean</th>\n",
       "      <td>3.466725</td>\n",
       "      <td>2.396839</td>\n",
       "      <td>1.019349</td>\n",
       "      <td>186.466312</td>\n",
       "      <td>164.384683</td>\n",
       "      <td>105.351897</td>\n",
       "      <td>-6.711368</td>\n",
       "    </tr>\n",
       "    <tr>\n",
       "      <th>std</th>\n",
       "      <td>2.005740</td>\n",
       "      <td>1.444531</td>\n",
       "      <td>0.274462</td>\n",
       "      <td>168.919119</td>\n",
       "      <td>122.173535</td>\n",
       "      <td>15.629363</td>\n",
       "      <td>1.380850</td>\n",
       "    </tr>\n",
       "    <tr>\n",
       "      <th>min</th>\n",
       "      <td>1.000000</td>\n",
       "      <td>1.000000</td>\n",
       "      <td>0.000000</td>\n",
       "      <td>0.000000</td>\n",
       "      <td>0.000000</td>\n",
       "      <td>1.000000</td>\n",
       "      <td>-7.561604</td>\n",
       "    </tr>\n",
       "    <tr>\n",
       "      <th>25%</th>\n",
       "      <td>2.000000</td>\n",
       "      <td>2.000000</td>\n",
       "      <td>1.000000</td>\n",
       "      <td>105.000000</td>\n",
       "      <td>90.000000</td>\n",
       "      <td>107.580215</td>\n",
       "      <td>-6.948904</td>\n",
       "    </tr>\n",
       "    <tr>\n",
       "      <th>50%</th>\n",
       "      <td>3.000000</td>\n",
       "      <td>2.000000</td>\n",
       "      <td>1.000000</td>\n",
       "      <td>136.500000</td>\n",
       "      <td>126.000000</td>\n",
       "      <td>107.619047</td>\n",
       "      <td>-6.917247</td>\n",
       "    </tr>\n",
       "    <tr>\n",
       "      <th>75%</th>\n",
       "      <td>4.000000</td>\n",
       "      <td>3.000000</td>\n",
       "      <td>1.000000</td>\n",
       "      <td>200.000000</td>\n",
       "      <td>200.000000</td>\n",
       "      <td>107.640830</td>\n",
       "      <td>-6.863551</td>\n",
       "    </tr>\n",
       "    <tr>\n",
       "      <th>max</th>\n",
       "      <td>54.000000</td>\n",
       "      <td>34.000000</td>\n",
       "      <td>3.000000</td>\n",
       "      <td>2216.000000</td>\n",
       "      <td>1200.000000</td>\n",
       "      <td>180.000000</td>\n",
       "      <td>20.000000</td>\n",
       "    </tr>\n",
       "  </tbody>\n",
       "</table>\n",
       "</div>"
      ]
     },
     "execution_count": 16,
     "metadata": {},
     "output_type": "execute_result"
    }
   ],
   "execution_count": 16
  },
  {
   "cell_type": "markdown",
   "metadata": {
    "id": "gicERfpBq9M9"
   },
   "source": [
    "- Let's find the cut-off value of each features"
   ]
  },
  {
   "cell_type": "code",
   "metadata": {
    "colab": {
     "base_uri": "https://localhost:8080/"
    },
    "id": "D89zvP1SrCEs",
    "outputId": "b5d3c134-9c15-428f-e60c-f9192fd0800b",
    "ExecuteTime": {
     "end_time": "2024-08-07T17:24:53.112248Z",
     "start_time": "2024-08-07T17:24:53.057461Z"
    }
   },
   "source": [
    "# this is the anomaly (check it by yourself)\n",
    "X_train[X_train['bedrooms']>11]"
   ],
   "outputs": [
    {
     "data": {
      "text/plain": [
       "                                                    bedrooms  bathrooms  \\\n",
       "url                                                                       \n",
       "https://www.lamudi.co.id/disewakan-rumah-siap-h...      54.0        4.0   \n",
       "\n",
       "                                                    floors  land_area  \\\n",
       "url                                                                     \n",
       "https://www.lamudi.co.id/disewakan-rumah-siap-h...     2.0      185.0   \n",
       "\n",
       "                                                    building_area  longitude  \\\n",
       "url                                                                            \n",
       "https://www.lamudi.co.id/disewakan-rumah-siap-h...          180.0  107.58247   \n",
       "\n",
       "                                                    latitude  \n",
       "url                                                           \n",
       "https://www.lamudi.co.id/disewakan-rumah-siap-h...  -6.86157  "
      ],
      "text/html": [
       "<div>\n",
       "<style scoped>\n",
       "    .dataframe tbody tr th:only-of-type {\n",
       "        vertical-align: middle;\n",
       "    }\n",
       "\n",
       "    .dataframe tbody tr th {\n",
       "        vertical-align: top;\n",
       "    }\n",
       "\n",
       "    .dataframe thead th {\n",
       "        text-align: right;\n",
       "    }\n",
       "</style>\n",
       "<table border=\"1\" class=\"dataframe\">\n",
       "  <thead>\n",
       "    <tr style=\"text-align: right;\">\n",
       "      <th></th>\n",
       "      <th>bedrooms</th>\n",
       "      <th>bathrooms</th>\n",
       "      <th>floors</th>\n",
       "      <th>land_area</th>\n",
       "      <th>building_area</th>\n",
       "      <th>longitude</th>\n",
       "      <th>latitude</th>\n",
       "    </tr>\n",
       "    <tr>\n",
       "      <th>url</th>\n",
       "      <th></th>\n",
       "      <th></th>\n",
       "      <th></th>\n",
       "      <th></th>\n",
       "      <th></th>\n",
       "      <th></th>\n",
       "      <th></th>\n",
       "    </tr>\n",
       "  </thead>\n",
       "  <tbody>\n",
       "    <tr>\n",
       "      <th>https://www.lamudi.co.id/disewakan-rumah-siap-huni-pondok-hijau-bandung-uta-168321463721.html</th>\n",
       "      <td>54.0</td>\n",
       "      <td>4.0</td>\n",
       "      <td>2.0</td>\n",
       "      <td>185.0</td>\n",
       "      <td>180.0</td>\n",
       "      <td>107.58247</td>\n",
       "      <td>-6.86157</td>\n",
       "    </tr>\n",
       "  </tbody>\n",
       "</table>\n",
       "</div>"
      ]
     },
     "execution_count": 17,
     "metadata": {},
     "output_type": "execute_result"
    }
   ],
   "execution_count": 17
  },
  {
   "cell_type": "code",
   "metadata": {
    "colab": {
     "base_uri": "https://localhost:8080/"
    },
    "id": "XY0JZViqrv_c",
    "outputId": "e0997565-a29f-4999-c730-9f9f429cbb06",
    "ExecuteTime": {
     "end_time": "2024-08-07T17:24:53.126760Z",
     "start_time": "2024-08-07T17:24:53.113977Z"
    }
   },
   "source": [
    "# this is the anomaly (check it by yourself)\n",
    "X_train[X_train['bathrooms']>8]"
   ],
   "outputs": [
    {
     "data": {
      "text/plain": [
       "                                                    bedrooms  bathrooms  \\\n",
       "url                                                                       \n",
       "https://www.lamudi.co.id/sewa-murah-rumah-moder...       4.0       34.0   \n",
       "\n",
       "                                                    floors  land_area  \\\n",
       "url                                                                     \n",
       "https://www.lamudi.co.id/sewa-murah-rumah-moder...     1.0      126.0   \n",
       "\n",
       "                                                    building_area   longitude  \\\n",
       "url                                                                             \n",
       "https://www.lamudi.co.id/sewa-murah-rumah-moder...          175.0  107.467209   \n",
       "\n",
       "                                                    latitude  \n",
       "url                                                           \n",
       "https://www.lamudi.co.id/sewa-murah-rumah-moder... -6.844347  "
      ],
      "text/html": [
       "<div>\n",
       "<style scoped>\n",
       "    .dataframe tbody tr th:only-of-type {\n",
       "        vertical-align: middle;\n",
       "    }\n",
       "\n",
       "    .dataframe tbody tr th {\n",
       "        vertical-align: top;\n",
       "    }\n",
       "\n",
       "    .dataframe thead th {\n",
       "        text-align: right;\n",
       "    }\n",
       "</style>\n",
       "<table border=\"1\" class=\"dataframe\">\n",
       "  <thead>\n",
       "    <tr style=\"text-align: right;\">\n",
       "      <th></th>\n",
       "      <th>bedrooms</th>\n",
       "      <th>bathrooms</th>\n",
       "      <th>floors</th>\n",
       "      <th>land_area</th>\n",
       "      <th>building_area</th>\n",
       "      <th>longitude</th>\n",
       "      <th>latitude</th>\n",
       "    </tr>\n",
       "    <tr>\n",
       "      <th>url</th>\n",
       "      <th></th>\n",
       "      <th></th>\n",
       "      <th></th>\n",
       "      <th></th>\n",
       "      <th></th>\n",
       "      <th></th>\n",
       "      <th></th>\n",
       "    </tr>\n",
       "  </thead>\n",
       "  <tbody>\n",
       "    <tr>\n",
       "      <th>https://www.lamudi.co.id/sewa-murah-rumah-modern-dlm-cluster-di-kota-baru-p-169927672061.html</th>\n",
       "      <td>4.0</td>\n",
       "      <td>34.0</td>\n",
       "      <td>1.0</td>\n",
       "      <td>126.0</td>\n",
       "      <td>175.0</td>\n",
       "      <td>107.467209</td>\n",
       "      <td>-6.844347</td>\n",
       "    </tr>\n",
       "  </tbody>\n",
       "</table>\n",
       "</div>"
      ]
     },
     "execution_count": 18,
     "metadata": {},
     "output_type": "execute_result"
    }
   ],
   "execution_count": 18
  },
  {
   "cell_type": "code",
   "metadata": {
    "colab": {
     "base_uri": "https://localhost:8080/"
    },
    "id": "qp0JDgNG8qc0",
    "outputId": "26595bba-0b04-428d-cd53-7bc3e5192661",
    "ExecuteTime": {
     "end_time": "2024-08-07T17:24:53.152729Z",
     "start_time": "2024-08-07T17:24:53.127758Z"
    }
   },
   "source": [
    "# This is anomalous\n",
    "# We can set this and replace it with 1\n",
    "X_train[X_train['floors']<1]"
   ],
   "outputs": [
    {
     "data": {
      "text/plain": [
       "                                                    bedrooms  bathrooms  \\\n",
       "url                                                                       \n",
       "https://www.lamudi.co.id/disewa-tki-v-dalam-clu...       2.0        1.0   \n",
       "https://www.lamudi.co.id/rumah-di-sayap-dago-ba...       1.0        1.0   \n",
       "https://www.lamudi.co.id/rumah-siap-pakai-di-ko...       4.0        3.0   \n",
       "https://www.lamudi.co.id/rumah-modern-full-reno...       2.0        1.0   \n",
       "https://www.lamudi.co.id/disewakan-rumah-tingga...       4.0        4.0   \n",
       "https://www.lamudi.co.id/rumah-taman-kopo-indah...       1.0        1.0   \n",
       "https://www.lamudi.co.id/sewa-rumah-minimalis-s...       4.0        2.0   \n",
       "https://www.lamudi.co.id/rumah-sangat-strategis...       3.0        3.0   \n",
       "https://www.lamudi.co.id/turun-harga-rumah-komp...       4.0        3.0   \n",
       "https://www.lamudi.co.id/disewa-rumah-3kt-full-...       3.0        3.0   \n",
       "https://www.lamudi.co.id/rumah-menarik-di-batun...       3.0        2.0   \n",
       "https://www.lamudi.co.id/disewa-murah-rumah-di-...       4.0        2.0   \n",
       "https://www.lamudi.co.id/disewa-rumah-siap-huni...       2.0        1.0   \n",
       "https://www.lamudi.co.id/disewa-rumah-baru-di-s...       2.0        2.0   \n",
       "https://www.lamudi.co.id/rumah-disewa-di-jln-sa...       5.0        3.0   \n",
       "https://www.lamudi.co.id/rumah-di-jln-babakan-j...       4.0        3.0   \n",
       "https://www.lamudi.co.id/rumah-nyaman-di-summar...       3.0        2.0   \n",
       "https://www.lamudi.co.id/disewa-rumah-di-sayap-...       8.0        2.0   \n",
       "https://www.lamudi.co.id/disewa-rumah-murah-di-...       3.0        1.0   \n",
       "https://www.lamudi.co.id/disewa-rumah-siap-huni...       2.0        1.0   \n",
       "https://www.lamudi.co.id/rumah-murah-siap-huni-...       4.0        3.0   \n",
       "https://www.lamudi.co.id/rumah-siap-huni-lingku...       5.0        4.0   \n",
       "https://www.lamudi.co.id/disewa-rumah-tki5-dala...       2.0        1.0   \n",
       "https://www.lamudi.co.id/disewa-rumah-siap-huni...       4.0        3.0   \n",
       "https://www.lamudi.co.id/rumah-asri-mainroad-jl...       1.0        1.0   \n",
       "https://www.lamudi.co.id/disewa-min-2-thn-rumah...       2.0        1.0   \n",
       "https://www.lamudi.co.id/rumah-jln-rontgen-1697...       4.0        3.0   \n",
       "https://www.lamudi.co.id/rumah-nyaman-aman-di-s...       3.0        3.0   \n",
       "https://www.lamudi.co.id/disewa-rumah-viila-dag...       NaN        NaN   \n",
       "https://www.lamudi.co.id/rumah-dikontrakkan-asr...       3.0        2.0   \n",
       "\n",
       "                                                    floors  land_area  \\\n",
       "url                                                                     \n",
       "https://www.lamudi.co.id/disewa-tki-v-dalam-clu...     0.0      114.0   \n",
       "https://www.lamudi.co.id/rumah-di-sayap-dago-ba...     0.0      450.0   \n",
       "https://www.lamudi.co.id/rumah-siap-pakai-di-ko...     0.0      306.0   \n",
       "https://www.lamudi.co.id/rumah-modern-full-reno...     0.0       96.0   \n",
       "https://www.lamudi.co.id/disewakan-rumah-tingga...     0.0      300.0   \n",
       "https://www.lamudi.co.id/rumah-taman-kopo-indah...     0.0      500.0   \n",
       "https://www.lamudi.co.id/sewa-rumah-minimalis-s...     0.0      110.0   \n",
       "https://www.lamudi.co.id/rumah-sangat-strategis...     0.0      300.0   \n",
       "https://www.lamudi.co.id/turun-harga-rumah-komp...     0.0      378.0   \n",
       "https://www.lamudi.co.id/disewa-rumah-3kt-full-...     0.0      140.0   \n",
       "https://www.lamudi.co.id/rumah-menarik-di-batun...     0.0      150.0   \n",
       "https://www.lamudi.co.id/disewa-murah-rumah-di-...     0.0      350.0   \n",
       "https://www.lamudi.co.id/disewa-rumah-siap-huni...     0.0       80.0   \n",
       "https://www.lamudi.co.id/disewa-rumah-baru-di-s...     0.0       66.0   \n",
       "https://www.lamudi.co.id/rumah-disewa-di-jln-sa...     0.0      220.0   \n",
       "https://www.lamudi.co.id/rumah-di-jln-babakan-j...     0.0      500.0   \n",
       "https://www.lamudi.co.id/rumah-nyaman-di-summar...     0.0      112.0   \n",
       "https://www.lamudi.co.id/disewa-rumah-di-sayap-...     0.0      208.0   \n",
       "https://www.lamudi.co.id/disewa-rumah-murah-di-...     0.0        NaN   \n",
       "https://www.lamudi.co.id/disewa-rumah-siap-huni...     0.0       90.0   \n",
       "https://www.lamudi.co.id/rumah-murah-siap-huni-...     0.0      135.0   \n",
       "https://www.lamudi.co.id/rumah-siap-huni-lingku...     0.0      526.0   \n",
       "https://www.lamudi.co.id/disewa-rumah-tki5-dala...     0.0      119.0   \n",
       "https://www.lamudi.co.id/disewa-rumah-siap-huni...     0.0      300.0   \n",
       "https://www.lamudi.co.id/rumah-asri-mainroad-jl...     0.0        NaN   \n",
       "https://www.lamudi.co.id/disewa-min-2-thn-rumah...     0.0       97.0   \n",
       "https://www.lamudi.co.id/rumah-jln-rontgen-1697...     0.0      526.0   \n",
       "https://www.lamudi.co.id/rumah-nyaman-aman-di-s...     0.0      200.0   \n",
       "https://www.lamudi.co.id/disewa-rumah-viila-dag...     0.0      136.0   \n",
       "https://www.lamudi.co.id/rumah-dikontrakkan-asr...     0.0      200.0   \n",
       "\n",
       "                                                    building_area   longitude  \\\n",
       "url                                                                             \n",
       "https://www.lamudi.co.id/disewa-tki-v-dalam-clu...           51.0  107.380280   \n",
       "https://www.lamudi.co.id/rumah-di-sayap-dago-ba...          300.0  107.623445   \n",
       "https://www.lamudi.co.id/rumah-siap-pakai-di-ko...          250.0  107.467209   \n",
       "https://www.lamudi.co.id/rumah-modern-full-reno...           70.0  107.380280   \n",
       "https://www.lamudi.co.id/disewakan-rumah-tingga...          275.0  107.601390   \n",
       "https://www.lamudi.co.id/rumah-taman-kopo-indah...          400.0  108.251589   \n",
       "https://www.lamudi.co.id/sewa-rumah-minimalis-s...            NaN  107.621282   \n",
       "https://www.lamudi.co.id/rumah-sangat-strategis...          350.0  107.603277   \n",
       "https://www.lamudi.co.id/turun-harga-rumah-komp...            NaN  107.467209   \n",
       "https://www.lamudi.co.id/disewa-rumah-3kt-full-...          120.0  107.380280   \n",
       "https://www.lamudi.co.id/rumah-menarik-di-batun...          120.0  107.636940   \n",
       "https://www.lamudi.co.id/disewa-murah-rumah-di-...          250.0  107.621282   \n",
       "https://www.lamudi.co.id/disewa-rumah-siap-huni...           65.0  107.593915   \n",
       "https://www.lamudi.co.id/disewa-rumah-baru-di-s...           54.0  107.687404   \n",
       "https://www.lamudi.co.id/rumah-disewa-di-jln-sa...          250.0  107.619047   \n",
       "https://www.lamudi.co.id/rumah-di-jln-babakan-j...            NaN  107.607608   \n",
       "https://www.lamudi.co.id/rumah-nyaman-di-summar...          132.0  107.687404   \n",
       "https://www.lamudi.co.id/disewa-rumah-di-sayap-...          110.0  107.619047   \n",
       "https://www.lamudi.co.id/disewa-rumah-murah-di-...          159.0  107.624440   \n",
       "https://www.lamudi.co.id/disewa-rumah-siap-huni...           70.0  107.585752   \n",
       "https://www.lamudi.co.id/rumah-murah-siap-huni-...          160.0  108.251589   \n",
       "https://www.lamudi.co.id/rumah-siap-huni-lingku...          450.0  107.610171   \n",
       "https://www.lamudi.co.id/disewa-rumah-tki5-dala...           85.0  107.380280   \n",
       "https://www.lamudi.co.id/disewa-rumah-siap-huni...          183.0  107.467209   \n",
       "https://www.lamudi.co.id/rumah-asri-mainroad-jl...          550.0  107.619047   \n",
       "https://www.lamudi.co.id/disewa-min-2-thn-rumah...           54.0  107.467209   \n",
       "https://www.lamudi.co.id/rumah-jln-rontgen-1697...          450.0  107.610171   \n",
       "https://www.lamudi.co.id/rumah-nyaman-aman-di-s...          130.0  107.603277   \n",
       "https://www.lamudi.co.id/disewa-rumah-viila-dag...          295.0  107.623445   \n",
       "https://www.lamudi.co.id/rumah-dikontrakkan-asr...          150.0  107.752780   \n",
       "\n",
       "                                                    latitude  \n",
       "url                                                           \n",
       "https://www.lamudi.co.id/disewa-tki-v-dalam-clu... -6.821670  \n",
       "https://www.lamudi.co.id/rumah-di-sayap-dago-ba... -6.876258  \n",
       "https://www.lamudi.co.id/rumah-siap-pakai-di-ko... -6.844347  \n",
       "https://www.lamudi.co.id/rumah-modern-full-reno... -6.821670  \n",
       "https://www.lamudi.co.id/disewakan-rumah-tingga... -6.881670  \n",
       "https://www.lamudi.co.id/rumah-taman-kopo-indah... -6.387806  \n",
       "https://www.lamudi.co.id/sewa-rumah-minimalis-s... -6.954875  \n",
       "https://www.lamudi.co.id/rumah-sangat-strategis... -6.951883  \n",
       "https://www.lamudi.co.id/turun-harga-rumah-komp... -6.844347  \n",
       "https://www.lamudi.co.id/disewa-rumah-3kt-full-... -6.821670  \n",
       "https://www.lamudi.co.id/rumah-menarik-di-batun... -6.954440  \n",
       "https://www.lamudi.co.id/disewa-murah-rumah-di-... -6.954875  \n",
       "https://www.lamudi.co.id/disewa-rumah-siap-huni... -6.950059  \n",
       "https://www.lamudi.co.id/disewa-rumah-baru-di-s... -6.948904  \n",
       "https://www.lamudi.co.id/rumah-disewa-di-jln-sa... -6.906026  \n",
       "https://www.lamudi.co.id/rumah-di-jln-babakan-j... -6.890485  \n",
       "https://www.lamudi.co.id/rumah-nyaman-di-summar... -6.948904  \n",
       "https://www.lamudi.co.id/disewa-rumah-di-sayap-... -6.906026  \n",
       "https://www.lamudi.co.id/disewa-rumah-murah-di-... -6.811670  \n",
       "https://www.lamudi.co.id/disewa-rumah-siap-huni... -6.955272  \n",
       "https://www.lamudi.co.id/rumah-murah-siap-huni-... -6.387806  \n",
       "https://www.lamudi.co.id/rumah-siap-huni-lingku... -6.906996  \n",
       "https://www.lamudi.co.id/disewa-rumah-tki5-dala... -6.821670  \n",
       "https://www.lamudi.co.id/disewa-rumah-siap-huni... -6.844347  \n",
       "https://www.lamudi.co.id/rumah-asri-mainroad-jl... -6.906026  \n",
       "https://www.lamudi.co.id/disewa-min-2-thn-rumah... -6.844347  \n",
       "https://www.lamudi.co.id/rumah-jln-rontgen-1697... -6.906996  \n",
       "https://www.lamudi.co.id/rumah-nyaman-aman-di-s... -6.951883  \n",
       "https://www.lamudi.co.id/disewa-rumah-viila-dag... -6.876258  \n",
       "https://www.lamudi.co.id/rumah-dikontrakkan-asr... -6.938890  "
      ],
      "text/html": [
       "<div>\n",
       "<style scoped>\n",
       "    .dataframe tbody tr th:only-of-type {\n",
       "        vertical-align: middle;\n",
       "    }\n",
       "\n",
       "    .dataframe tbody tr th {\n",
       "        vertical-align: top;\n",
       "    }\n",
       "\n",
       "    .dataframe thead th {\n",
       "        text-align: right;\n",
       "    }\n",
       "</style>\n",
       "<table border=\"1\" class=\"dataframe\">\n",
       "  <thead>\n",
       "    <tr style=\"text-align: right;\">\n",
       "      <th></th>\n",
       "      <th>bedrooms</th>\n",
       "      <th>bathrooms</th>\n",
       "      <th>floors</th>\n",
       "      <th>land_area</th>\n",
       "      <th>building_area</th>\n",
       "      <th>longitude</th>\n",
       "      <th>latitude</th>\n",
       "    </tr>\n",
       "    <tr>\n",
       "      <th>url</th>\n",
       "      <th></th>\n",
       "      <th></th>\n",
       "      <th></th>\n",
       "      <th></th>\n",
       "      <th></th>\n",
       "      <th></th>\n",
       "      <th></th>\n",
       "    </tr>\n",
       "  </thead>\n",
       "  <tbody>\n",
       "    <tr>\n",
       "      <th>https://www.lamudi.co.id/disewa-tki-v-dalam-cluster-siap-huni-169565454097.html</th>\n",
       "      <td>2.0</td>\n",
       "      <td>1.0</td>\n",
       "      <td>0.0</td>\n",
       "      <td>114.0</td>\n",
       "      <td>51.0</td>\n",
       "      <td>107.380280</td>\n",
       "      <td>-6.821670</td>\n",
       "    </tr>\n",
       "    <tr>\n",
       "      <th>https://www.lamudi.co.id/rumah-di-sayap-dago-bandung-utara-169769007720.html</th>\n",
       "      <td>1.0</td>\n",
       "      <td>1.0</td>\n",
       "      <td>0.0</td>\n",
       "      <td>450.0</td>\n",
       "      <td>300.0</td>\n",
       "      <td>107.623445</td>\n",
       "      <td>-6.876258</td>\n",
       "    </tr>\n",
       "    <tr>\n",
       "      <th>https://www.lamudi.co.id/rumah-siap-pakai-di-komplek-kota-baru-parahyangan-169769003065.html</th>\n",
       "      <td>4.0</td>\n",
       "      <td>3.0</td>\n",
       "      <td>0.0</td>\n",
       "      <td>306.0</td>\n",
       "      <td>250.0</td>\n",
       "      <td>107.467209</td>\n",
       "      <td>-6.844347</td>\n",
       "    </tr>\n",
       "    <tr>\n",
       "      <th>https://www.lamudi.co.id/rumah-modern-full-renov-daerah-tki-v.html</th>\n",
       "      <td>2.0</td>\n",
       "      <td>1.0</td>\n",
       "      <td>0.0</td>\n",
       "      <td>96.0</td>\n",
       "      <td>70.0</td>\n",
       "      <td>107.380280</td>\n",
       "      <td>-6.821670</td>\n",
       "    </tr>\n",
       "    <tr>\n",
       "      <th>https://www.lamudi.co.id/disewakan-rumah-tinggal-cantik-daerah-hegarmanah.html</th>\n",
       "      <td>4.0</td>\n",
       "      <td>4.0</td>\n",
       "      <td>0.0</td>\n",
       "      <td>300.0</td>\n",
       "      <td>275.0</td>\n",
       "      <td>107.601390</td>\n",
       "      <td>-6.881670</td>\n",
       "    </tr>\n",
       "    <tr>\n",
       "      <th>https://www.lamudi.co.id/rumah-taman-kopo-indah-3-169769001293.html</th>\n",
       "      <td>1.0</td>\n",
       "      <td>1.0</td>\n",
       "      <td>0.0</td>\n",
       "      <td>500.0</td>\n",
       "      <td>400.0</td>\n",
       "      <td>108.251589</td>\n",
       "      <td>-6.387806</td>\n",
       "    </tr>\n",
       "    <tr>\n",
       "      <th>https://www.lamudi.co.id/sewa-rumah-minimalis-siap-pakai-komplek-muara-saya-169769007831.html</th>\n",
       "      <td>4.0</td>\n",
       "      <td>2.0</td>\n",
       "      <td>0.0</td>\n",
       "      <td>110.0</td>\n",
       "      <td>NaN</td>\n",
       "      <td>107.621282</td>\n",
       "      <td>-6.954875</td>\n",
       "    </tr>\n",
       "    <tr>\n",
       "      <th>https://www.lamudi.co.id/rumah-sangat-strategis-di-mekar-wangi-mainroad.html</th>\n",
       "      <td>3.0</td>\n",
       "      <td>3.0</td>\n",
       "      <td>0.0</td>\n",
       "      <td>300.0</td>\n",
       "      <td>350.0</td>\n",
       "      <td>107.603277</td>\n",
       "      <td>-6.951883</td>\n",
       "    </tr>\n",
       "    <tr>\n",
       "      <th>https://www.lamudi.co.id/turun-harga-rumah-komplek-kamandaka-kota-baru-para-169571884645.html</th>\n",
       "      <td>4.0</td>\n",
       "      <td>3.0</td>\n",
       "      <td>0.0</td>\n",
       "      <td>378.0</td>\n",
       "      <td>NaN</td>\n",
       "      <td>107.467209</td>\n",
       "      <td>-6.844347</td>\n",
       "    </tr>\n",
       "    <tr>\n",
       "      <th>https://www.lamudi.co.id/disewa-rumah-3kt-full-renov-siap-huni-di-tki1-169563878684.html</th>\n",
       "      <td>3.0</td>\n",
       "      <td>3.0</td>\n",
       "      <td>0.0</td>\n",
       "      <td>140.0</td>\n",
       "      <td>120.0</td>\n",
       "      <td>107.380280</td>\n",
       "      <td>-6.821670</td>\n",
       "    </tr>\n",
       "    <tr>\n",
       "      <th>https://www.lamudi.co.id/rumah-menarik-di-batununggal.html</th>\n",
       "      <td>3.0</td>\n",
       "      <td>2.0</td>\n",
       "      <td>0.0</td>\n",
       "      <td>150.0</td>\n",
       "      <td>120.0</td>\n",
       "      <td>107.636940</td>\n",
       "      <td>-6.954440</td>\n",
       "    </tr>\n",
       "    <tr>\n",
       "      <th>https://www.lamudi.co.id/disewa-murah-rumah-di-sayap-suprtaman-169392220246.html</th>\n",
       "      <td>4.0</td>\n",
       "      <td>2.0</td>\n",
       "      <td>0.0</td>\n",
       "      <td>350.0</td>\n",
       "      <td>250.0</td>\n",
       "      <td>107.621282</td>\n",
       "      <td>-6.954875</td>\n",
       "    </tr>\n",
       "    <tr>\n",
       "      <th>https://www.lamudi.co.id/disewa-rumah-siap-huni-di-tci-bandung-169563884017.html</th>\n",
       "      <td>2.0</td>\n",
       "      <td>1.0</td>\n",
       "      <td>0.0</td>\n",
       "      <td>80.0</td>\n",
       "      <td>65.0</td>\n",
       "      <td>107.593915</td>\n",
       "      <td>-6.950059</td>\n",
       "    </tr>\n",
       "    <tr>\n",
       "      <th>https://www.lamudi.co.id/disewa-rumah-baru-di-summarecon-bandung-cluster-da-169563874496.html</th>\n",
       "      <td>2.0</td>\n",
       "      <td>2.0</td>\n",
       "      <td>0.0</td>\n",
       "      <td>66.0</td>\n",
       "      <td>54.0</td>\n",
       "      <td>107.687404</td>\n",
       "      <td>-6.948904</td>\n",
       "    </tr>\n",
       "    <tr>\n",
       "      <th>https://www.lamudi.co.id/rumah-disewa-di-jln-sayap-riau-169392221871.html</th>\n",
       "      <td>5.0</td>\n",
       "      <td>3.0</td>\n",
       "      <td>0.0</td>\n",
       "      <td>220.0</td>\n",
       "      <td>250.0</td>\n",
       "      <td>107.619047</td>\n",
       "      <td>-6.906026</td>\n",
       "    </tr>\n",
       "    <tr>\n",
       "      <th>https://www.lamudi.co.id/rumah-di-jln-babakan-jeruk-sayap-jl-pasteur-bandun-169769003357.html</th>\n",
       "      <td>4.0</td>\n",
       "      <td>3.0</td>\n",
       "      <td>0.0</td>\n",
       "      <td>500.0</td>\n",
       "      <td>NaN</td>\n",
       "      <td>107.607608</td>\n",
       "      <td>-6.890485</td>\n",
       "    </tr>\n",
       "    <tr>\n",
       "      <th>https://www.lamudi.co.id/rumah-nyaman-di-summarecon.html</th>\n",
       "      <td>3.0</td>\n",
       "      <td>2.0</td>\n",
       "      <td>0.0</td>\n",
       "      <td>112.0</td>\n",
       "      <td>132.0</td>\n",
       "      <td>107.687404</td>\n",
       "      <td>-6.948904</td>\n",
       "    </tr>\n",
       "    <tr>\n",
       "      <th>https://www.lamudi.co.id/disewa-rumah-di-sayap-riau-169392220794.html</th>\n",
       "      <td>8.0</td>\n",
       "      <td>2.0</td>\n",
       "      <td>0.0</td>\n",
       "      <td>208.0</td>\n",
       "      <td>110.0</td>\n",
       "      <td>107.619047</td>\n",
       "      <td>-6.906026</td>\n",
       "    </tr>\n",
       "    <tr>\n",
       "      <th>https://www.lamudi.co.id/disewa-rumah-murah-di-sayap-buah-batu-169392220430.html</th>\n",
       "      <td>3.0</td>\n",
       "      <td>1.0</td>\n",
       "      <td>0.0</td>\n",
       "      <td>NaN</td>\n",
       "      <td>159.0</td>\n",
       "      <td>107.624440</td>\n",
       "      <td>-6.811670</td>\n",
       "    </tr>\n",
       "    <tr>\n",
       "      <th>https://www.lamudi.co.id/disewa-rumah-siap-huni-di-tmaan-holis-indah-bandun-169563879337.html</th>\n",
       "      <td>2.0</td>\n",
       "      <td>1.0</td>\n",
       "      <td>0.0</td>\n",
       "      <td>90.0</td>\n",
       "      <td>70.0</td>\n",
       "      <td>107.585752</td>\n",
       "      <td>-6.955272</td>\n",
       "    </tr>\n",
       "    <tr>\n",
       "      <th>https://www.lamudi.co.id/rumah-murah-siap-huni-di-setraduta.html</th>\n",
       "      <td>4.0</td>\n",
       "      <td>3.0</td>\n",
       "      <td>0.0</td>\n",
       "      <td>135.0</td>\n",
       "      <td>160.0</td>\n",
       "      <td>108.251589</td>\n",
       "      <td>-6.387806</td>\n",
       "    </tr>\n",
       "    <tr>\n",
       "      <th>https://www.lamudi.co.id/rumah-siap-huni-lingkungan-aman-dan-sejuk-asri-di-169769001357.html</th>\n",
       "      <td>5.0</td>\n",
       "      <td>4.0</td>\n",
       "      <td>0.0</td>\n",
       "      <td>526.0</td>\n",
       "      <td>450.0</td>\n",
       "      <td>107.610171</td>\n",
       "      <td>-6.906996</td>\n",
       "    </tr>\n",
       "    <tr>\n",
       "      <th>https://www.lamudi.co.id/disewa-rumah-tki5-dalam-cluster-siap-huni-169563877474.html</th>\n",
       "      <td>2.0</td>\n",
       "      <td>1.0</td>\n",
       "      <td>0.0</td>\n",
       "      <td>119.0</td>\n",
       "      <td>85.0</td>\n",
       "      <td>107.380280</td>\n",
       "      <td>-6.821670</td>\n",
       "    </tr>\n",
       "    <tr>\n",
       "      <th>https://www.lamudi.co.id/disewa-rumah-siap-huni-di-kota-baru-parahyangan-cl-169563878021.html</th>\n",
       "      <td>4.0</td>\n",
       "      <td>3.0</td>\n",
       "      <td>0.0</td>\n",
       "      <td>300.0</td>\n",
       "      <td>183.0</td>\n",
       "      <td>107.467209</td>\n",
       "      <td>-6.844347</td>\n",
       "    </tr>\n",
       "    <tr>\n",
       "      <th>https://www.lamudi.co.id/rumah-asri-mainroad-jln-cisangkuy-sayap-jln-riau-b-16976900452.html</th>\n",
       "      <td>1.0</td>\n",
       "      <td>1.0</td>\n",
       "      <td>0.0</td>\n",
       "      <td>NaN</td>\n",
       "      <td>550.0</td>\n",
       "      <td>107.619047</td>\n",
       "      <td>-6.906026</td>\n",
       "    </tr>\n",
       "    <tr>\n",
       "      <th>https://www.lamudi.co.id/disewa-min-2-thn-rumah-baru-siap-huni-di-kbp-clust-169563883312.html</th>\n",
       "      <td>2.0</td>\n",
       "      <td>1.0</td>\n",
       "      <td>0.0</td>\n",
       "      <td>97.0</td>\n",
       "      <td>54.0</td>\n",
       "      <td>107.467209</td>\n",
       "      <td>-6.844347</td>\n",
       "    </tr>\n",
       "    <tr>\n",
       "      <th>https://www.lamudi.co.id/rumah-jln-rontgen-169769008064.html</th>\n",
       "      <td>4.0</td>\n",
       "      <td>3.0</td>\n",
       "      <td>0.0</td>\n",
       "      <td>526.0</td>\n",
       "      <td>450.0</td>\n",
       "      <td>107.610171</td>\n",
       "      <td>-6.906996</td>\n",
       "    </tr>\n",
       "    <tr>\n",
       "      <th>https://www.lamudi.co.id/rumah-nyaman-aman-di-singgasana-pradana.html</th>\n",
       "      <td>3.0</td>\n",
       "      <td>3.0</td>\n",
       "      <td>0.0</td>\n",
       "      <td>200.0</td>\n",
       "      <td>130.0</td>\n",
       "      <td>107.603277</td>\n",
       "      <td>-6.951883</td>\n",
       "    </tr>\n",
       "    <tr>\n",
       "      <th>https://www.lamudi.co.id/disewa-rumah-viila-dago-pramestha-nyaman-aman-dan-169572540723.html</th>\n",
       "      <td>NaN</td>\n",
       "      <td>NaN</td>\n",
       "      <td>0.0</td>\n",
       "      <td>136.0</td>\n",
       "      <td>295.0</td>\n",
       "      <td>107.623445</td>\n",
       "      <td>-6.876258</td>\n",
       "    </tr>\n",
       "    <tr>\n",
       "      <th>https://www.lamudi.co.id/rumah-dikontrakkan-asri-di-aria-graha-soekarno-hat-169805923819.html</th>\n",
       "      <td>3.0</td>\n",
       "      <td>2.0</td>\n",
       "      <td>0.0</td>\n",
       "      <td>200.0</td>\n",
       "      <td>150.0</td>\n",
       "      <td>107.752780</td>\n",
       "      <td>-6.938890</td>\n",
       "    </tr>\n",
       "  </tbody>\n",
       "</table>\n",
       "</div>"
      ]
     },
     "execution_count": 19,
     "metadata": {},
     "output_type": "execute_result"
    }
   ],
   "execution_count": 19
  },
  {
   "cell_type": "code",
   "metadata": {
    "colab": {
     "base_uri": "https://localhost:8080/"
    },
    "id": "KfcGAJACsWHk",
    "outputId": "24cfac22-b00d-4843-8d27-b18cbe938d40",
    "ExecuteTime": {
     "end_time": "2024-08-07T17:24:53.169916Z",
     "start_time": "2024-08-07T17:24:53.153838Z"
    }
   },
   "source": [
    "# this is the anomaly (check it by yourself)\n",
    "X_train[X_train['land_area']>1_700]"
   ],
   "outputs": [
    {
     "data": {
      "text/plain": [
       "                                                    bedrooms  bathrooms  \\\n",
       "url                                                                       \n",
       "https://www.lamudi.co.id/rumah-kembar-strategis...       5.0        3.0   \n",
       "https://www.lamudi.co.id/disewakan-jalan-gunung...       5.0        5.0   \n",
       "\n",
       "                                                    floors  land_area  \\\n",
       "url                                                                     \n",
       "https://www.lamudi.co.id/rumah-kembar-strategis...     1.0     2000.0   \n",
       "https://www.lamudi.co.id/disewakan-jalan-gunung...     1.0     2216.0   \n",
       "\n",
       "                                                    building_area   longitude  \\\n",
       "url                                                                             \n",
       "https://www.lamudi.co.id/rumah-kembar-strategis...          250.0  108.388860   \n",
       "https://www.lamudi.co.id/disewakan-jalan-gunung...          600.0  107.618573   \n",
       "\n",
       "                                                    latitude  \n",
       "url                                                           \n",
       "https://www.lamudi.co.id/rumah-kembar-strategis... -7.365351  \n",
       "https://www.lamudi.co.id/disewakan-jalan-gunung... -6.863551  "
      ],
      "text/html": [
       "<div>\n",
       "<style scoped>\n",
       "    .dataframe tbody tr th:only-of-type {\n",
       "        vertical-align: middle;\n",
       "    }\n",
       "\n",
       "    .dataframe tbody tr th {\n",
       "        vertical-align: top;\n",
       "    }\n",
       "\n",
       "    .dataframe thead th {\n",
       "        text-align: right;\n",
       "    }\n",
       "</style>\n",
       "<table border=\"1\" class=\"dataframe\">\n",
       "  <thead>\n",
       "    <tr style=\"text-align: right;\">\n",
       "      <th></th>\n",
       "      <th>bedrooms</th>\n",
       "      <th>bathrooms</th>\n",
       "      <th>floors</th>\n",
       "      <th>land_area</th>\n",
       "      <th>building_area</th>\n",
       "      <th>longitude</th>\n",
       "      <th>latitude</th>\n",
       "    </tr>\n",
       "    <tr>\n",
       "      <th>url</th>\n",
       "      <th></th>\n",
       "      <th></th>\n",
       "      <th></th>\n",
       "      <th></th>\n",
       "      <th></th>\n",
       "      <th></th>\n",
       "      <th></th>\n",
       "    </tr>\n",
       "  </thead>\n",
       "  <tbody>\n",
       "    <tr>\n",
       "      <th>https://www.lamudi.co.id/rumah-kembar-strategis-dekat-jalan-utama-bkr-bandu-169790695311.html</th>\n",
       "      <td>5.0</td>\n",
       "      <td>3.0</td>\n",
       "      <td>1.0</td>\n",
       "      <td>2000.0</td>\n",
       "      <td>250.0</td>\n",
       "      <td>108.388860</td>\n",
       "      <td>-7.365351</td>\n",
       "    </tr>\n",
       "    <tr>\n",
       "      <th>https://www.lamudi.co.id/disewakan-jalan-gunung-batu-169684717079.html</th>\n",
       "      <td>5.0</td>\n",
       "      <td>5.0</td>\n",
       "      <td>1.0</td>\n",
       "      <td>2216.0</td>\n",
       "      <td>600.0</td>\n",
       "      <td>107.618573</td>\n",
       "      <td>-6.863551</td>\n",
       "    </tr>\n",
       "  </tbody>\n",
       "</table>\n",
       "</div>"
      ]
     },
     "execution_count": 20,
     "metadata": {},
     "output_type": "execute_result"
    }
   ],
   "execution_count": 20
  },
  {
   "cell_type": "code",
   "metadata": {
    "colab": {
     "base_uri": "https://localhost:8080/"
    },
    "id": "PeERhzM9s6B5",
    "outputId": "94201dab-4eeb-49db-de27-0bd3801f4e38",
    "ExecuteTime": {
     "end_time": "2024-08-07T17:24:53.186959Z",
     "start_time": "2024-08-07T17:24:53.171055Z"
    }
   },
   "source": [
    "# this is the anomaly (check it by yourself)\n",
    "X_train[X_train['building_area']>1_000]"
   ],
   "outputs": [
    {
     "data": {
      "text/plain": [
       "                                                    bedrooms  bathrooms  \\\n",
       "url                                                                       \n",
       "https://www.lamudi.co.id/disewa-rumah-3-lantai-...       8.0        5.0   \n",
       "\n",
       "                                                    floors  land_area  \\\n",
       "url                                                                     \n",
       "https://www.lamudi.co.id/disewa-rumah-3-lantai-...     1.0      899.0   \n",
       "\n",
       "                                                    building_area   longitude  \\\n",
       "url                                                                             \n",
       "https://www.lamudi.co.id/disewa-rumah-3-lantai-...         1200.0  107.610171   \n",
       "\n",
       "                                                    latitude  \n",
       "url                                                           \n",
       "https://www.lamudi.co.id/disewa-rumah-3-lantai-... -6.906996  "
      ],
      "text/html": [
       "<div>\n",
       "<style scoped>\n",
       "    .dataframe tbody tr th:only-of-type {\n",
       "        vertical-align: middle;\n",
       "    }\n",
       "\n",
       "    .dataframe tbody tr th {\n",
       "        vertical-align: top;\n",
       "    }\n",
       "\n",
       "    .dataframe thead th {\n",
       "        text-align: right;\n",
       "    }\n",
       "</style>\n",
       "<table border=\"1\" class=\"dataframe\">\n",
       "  <thead>\n",
       "    <tr style=\"text-align: right;\">\n",
       "      <th></th>\n",
       "      <th>bedrooms</th>\n",
       "      <th>bathrooms</th>\n",
       "      <th>floors</th>\n",
       "      <th>land_area</th>\n",
       "      <th>building_area</th>\n",
       "      <th>longitude</th>\n",
       "      <th>latitude</th>\n",
       "    </tr>\n",
       "    <tr>\n",
       "      <th>url</th>\n",
       "      <th></th>\n",
       "      <th></th>\n",
       "      <th></th>\n",
       "      <th></th>\n",
       "      <th></th>\n",
       "      <th></th>\n",
       "      <th></th>\n",
       "    </tr>\n",
       "  </thead>\n",
       "  <tbody>\n",
       "    <tr>\n",
       "      <th>https://www.lamudi.co.id/disewa-rumah-3-lantai-terawat-nyaman-di-mainroad-d-169701353218.html</th>\n",
       "      <td>8.0</td>\n",
       "      <td>5.0</td>\n",
       "      <td>1.0</td>\n",
       "      <td>899.0</td>\n",
       "      <td>1200.0</td>\n",
       "      <td>107.610171</td>\n",
       "      <td>-6.906996</td>\n",
       "    </tr>\n",
       "  </tbody>\n",
       "</table>\n",
       "</div>"
      ]
     },
     "execution_count": 21,
     "metadata": {},
     "output_type": "execute_result"
    }
   ],
   "execution_count": 21
  },
  {
   "cell_type": "code",
   "metadata": {
    "colab": {
     "base_uri": "https://localhost:8080/"
    },
    "id": "7YOwbb7xtbs5",
    "outputId": "83fe1966-cebd-4a42-b8ee-b7a797ae6a9b",
    "ExecuteTime": {
     "end_time": "2024-08-07T17:24:53.208240Z",
     "start_time": "2024-08-07T17:24:53.188450Z"
    }
   },
   "source": [
    "# this is the anomaly (check it by yourself)\n",
    "X_train[X_train['longitude']<=1.0]"
   ],
   "outputs": [
    {
     "data": {
      "text/plain": [
       "                                                    bedrooms  bathrooms  \\\n",
       "url                                                                       \n",
       "https://www.lamudi.co.id/sewa-rumah-megaraya-sa...       3.0        2.0   \n",
       "https://www.lamudi.co.id/rumah-siap-huni-hoek-d...       3.0        2.0   \n",
       "https://www.lamudi.co.id/disewakan-rumah-singga...       5.0        3.0   \n",
       "https://www.lamudi.co.id/disewakan-rumah-cantik...       3.0        NaN   \n",
       "https://www.lamudi.co.id/disewakan-rumah-muara-...       NaN        NaN   \n",
       "https://www.lamudi.co.id/disewakan-rumah-lux-ci...       4.0        4.0   \n",
       "https://www.lamudi.co.id/disewakan-rumah-minima...       4.0        4.0   \n",
       "https://www.lamudi.co.id/disewa-rumah-di-komple...       4.0        2.0   \n",
       "https://www.lamudi.co.id/disewakan-rumah-minima...       4.0        4.0   \n",
       "https://www.lamudi.co.id/sewa-rumah-2-lantai-si...       4.0        4.0   \n",
       "https://www.lamudi.co.id/sewa-rumah-besar-kompl...       2.0        2.0   \n",
       "https://www.lamudi.co.id/rumah-mainroad-pajajar...       3.0        2.0   \n",
       "https://www.lamudi.co.id/disewakan-di-sayap-mer...       7.0        5.0   \n",
       "https://www.lamudi.co.id/disewa-rumah-modern-mi...       4.0        3.0   \n",
       "https://www.lamudi.co.id/rumah-asri-siap-huni-f...       2.0        1.0   \n",
       "https://www.lamudi.co.id/disewakan-rumah-bagus-...       5.0        4.0   \n",
       "https://www.lamudi.co.id/disewakan-rumah-minima...       2.0        1.0   \n",
       "https://www.lamudi.co.id/disewakan-rumah-taman-...       4.0        3.0   \n",
       "https://www.lamudi.co.id/rumah-mainroad-siap-hu...       NaN        3.0   \n",
       "https://www.lamudi.co.id/disewakan-rumah-baru-m...       5.0        3.0   \n",
       "https://www.lamudi.co.id/rumah-jarang-ada-sprin...       3.0        1.0   \n",
       "https://www.lamudi.co.id/di-sewakan-rumah-furni...       4.0        3.0   \n",
       "https://www.lamudi.co.id/rumah-pajajaran-bandun...       3.0        3.0   \n",
       "https://www.lamudi.co.id/disewakan-rumah-komple...       4.0        NaN   \n",
       "https://www.lamudi.co.id/disewakan-rumah-siap-h...       3.0        2.0   \n",
       "\n",
       "                                                    floors  land_area  \\\n",
       "url                                                                     \n",
       "https://www.lamudi.co.id/sewa-rumah-megaraya-sa...     1.0      265.0   \n",
       "https://www.lamudi.co.id/rumah-siap-huni-hoek-d...     1.0      285.0   \n",
       "https://www.lamudi.co.id/disewakan-rumah-singga...     1.0      198.0   \n",
       "https://www.lamudi.co.id/disewakan-rumah-cantik...     1.0      144.0   \n",
       "https://www.lamudi.co.id/disewakan-rumah-muara-...     1.0      114.0   \n",
       "https://www.lamudi.co.id/disewakan-rumah-lux-ci...     1.0      287.0   \n",
       "https://www.lamudi.co.id/disewakan-rumah-minima...     1.0      264.0   \n",
       "https://www.lamudi.co.id/disewa-rumah-di-komple...     1.0       98.0   \n",
       "https://www.lamudi.co.id/disewakan-rumah-minima...     1.0      264.0   \n",
       "https://www.lamudi.co.id/sewa-rumah-2-lantai-si...     1.0      240.0   \n",
       "https://www.lamudi.co.id/sewa-rumah-besar-kompl...     2.0      187.0   \n",
       "https://www.lamudi.co.id/rumah-mainroad-pajajar...     1.0      370.0   \n",
       "https://www.lamudi.co.id/disewakan-di-sayap-mer...     1.0      725.0   \n",
       "https://www.lamudi.co.id/disewa-rumah-modern-mi...     1.0      264.0   \n",
       "https://www.lamudi.co.id/rumah-asri-siap-huni-f...     1.0      135.0   \n",
       "https://www.lamudi.co.id/disewakan-rumah-bagus-...     2.0      170.0   \n",
       "https://www.lamudi.co.id/disewakan-rumah-minima...     1.0       36.0   \n",
       "https://www.lamudi.co.id/disewakan-rumah-taman-...     1.0      135.0   \n",
       "https://www.lamudi.co.id/rumah-mainroad-siap-hu...     1.0      140.0   \n",
       "https://www.lamudi.co.id/disewakan-rumah-baru-m...     2.0      126.0   \n",
       "https://www.lamudi.co.id/rumah-jarang-ada-sprin...     1.0      133.0   \n",
       "https://www.lamudi.co.id/di-sewakan-rumah-furni...     1.0      240.0   \n",
       "https://www.lamudi.co.id/rumah-pajajaran-bandun...     1.0      362.0   \n",
       "https://www.lamudi.co.id/disewakan-rumah-komple...     1.0        NaN   \n",
       "https://www.lamudi.co.id/disewakan-rumah-siap-h...     1.0      132.0   \n",
       "\n",
       "                                                    building_area  longitude  \\\n",
       "url                                                                            \n",
       "https://www.lamudi.co.id/sewa-rumah-megaraya-sa...           70.0        1.0   \n",
       "https://www.lamudi.co.id/rumah-siap-huni-hoek-d...          400.0        1.0   \n",
       "https://www.lamudi.co.id/disewakan-rumah-singga...          130.0        1.0   \n",
       "https://www.lamudi.co.id/disewakan-rumah-cantik...           74.0        1.0   \n",
       "https://www.lamudi.co.id/disewakan-rumah-muara-...          122.0        1.0   \n",
       "https://www.lamudi.co.id/disewakan-rumah-lux-ci...          300.0        1.0   \n",
       "https://www.lamudi.co.id/disewakan-rumah-minima...          244.0        1.0   \n",
       "https://www.lamudi.co.id/disewa-rumah-di-komple...          170.0        1.0   \n",
       "https://www.lamudi.co.id/disewakan-rumah-minima...          244.0        1.0   \n",
       "https://www.lamudi.co.id/sewa-rumah-2-lantai-si...          320.0        1.0   \n",
       "https://www.lamudi.co.id/sewa-rumah-besar-kompl...          420.0        1.0   \n",
       "https://www.lamudi.co.id/rumah-mainroad-pajajar...          240.0        1.0   \n",
       "https://www.lamudi.co.id/disewakan-di-sayap-mer...          750.0        1.0   \n",
       "https://www.lamudi.co.id/disewa-rumah-modern-mi...          244.0        1.0   \n",
       "https://www.lamudi.co.id/rumah-asri-siap-huni-f...          120.0        1.0   \n",
       "https://www.lamudi.co.id/disewakan-rumah-bagus-...          126.0        1.0   \n",
       "https://www.lamudi.co.id/disewakan-rumah-minima...           66.0        1.0   \n",
       "https://www.lamudi.co.id/disewakan-rumah-taman-...          165.0        1.0   \n",
       "https://www.lamudi.co.id/rumah-mainroad-siap-hu...            NaN        1.0   \n",
       "https://www.lamudi.co.id/disewakan-rumah-baru-m...          170.0        1.0   \n",
       "https://www.lamudi.co.id/rumah-jarang-ada-sprin...          100.0        1.0   \n",
       "https://www.lamudi.co.id/di-sewakan-rumah-furni...          300.0        1.0   \n",
       "https://www.lamudi.co.id/rumah-pajajaran-bandun...          300.0        1.0   \n",
       "https://www.lamudi.co.id/disewakan-rumah-komple...          100.0        1.0   \n",
       "https://www.lamudi.co.id/disewakan-rumah-siap-h...           85.0        1.0   \n",
       "\n",
       "                                                    latitude  \n",
       "url                                                           \n",
       "https://www.lamudi.co.id/sewa-rumah-megaraya-sa...       1.0  \n",
       "https://www.lamudi.co.id/rumah-siap-huni-hoek-d...       1.0  \n",
       "https://www.lamudi.co.id/disewakan-rumah-singga...       1.0  \n",
       "https://www.lamudi.co.id/disewakan-rumah-cantik...       1.0  \n",
       "https://www.lamudi.co.id/disewakan-rumah-muara-...       1.0  \n",
       "https://www.lamudi.co.id/disewakan-rumah-lux-ci...       1.0  \n",
       "https://www.lamudi.co.id/disewakan-rumah-minima...       1.0  \n",
       "https://www.lamudi.co.id/disewa-rumah-di-komple...       1.0  \n",
       "https://www.lamudi.co.id/disewakan-rumah-minima...       1.0  \n",
       "https://www.lamudi.co.id/sewa-rumah-2-lantai-si...       1.0  \n",
       "https://www.lamudi.co.id/sewa-rumah-besar-kompl...       1.0  \n",
       "https://www.lamudi.co.id/rumah-mainroad-pajajar...       1.0  \n",
       "https://www.lamudi.co.id/disewakan-di-sayap-mer...       1.0  \n",
       "https://www.lamudi.co.id/disewa-rumah-modern-mi...       1.0  \n",
       "https://www.lamudi.co.id/rumah-asri-siap-huni-f...       1.0  \n",
       "https://www.lamudi.co.id/disewakan-rumah-bagus-...       1.0  \n",
       "https://www.lamudi.co.id/disewakan-rumah-minima...       1.0  \n",
       "https://www.lamudi.co.id/disewakan-rumah-taman-...       1.0  \n",
       "https://www.lamudi.co.id/rumah-mainroad-siap-hu...       1.0  \n",
       "https://www.lamudi.co.id/disewakan-rumah-baru-m...       1.0  \n",
       "https://www.lamudi.co.id/rumah-jarang-ada-sprin...       1.0  \n",
       "https://www.lamudi.co.id/di-sewakan-rumah-furni...       1.0  \n",
       "https://www.lamudi.co.id/rumah-pajajaran-bandun...       1.0  \n",
       "https://www.lamudi.co.id/disewakan-rumah-komple...       1.0  \n",
       "https://www.lamudi.co.id/disewakan-rumah-siap-h...       1.0  "
      ],
      "text/html": [
       "<div>\n",
       "<style scoped>\n",
       "    .dataframe tbody tr th:only-of-type {\n",
       "        vertical-align: middle;\n",
       "    }\n",
       "\n",
       "    .dataframe tbody tr th {\n",
       "        vertical-align: top;\n",
       "    }\n",
       "\n",
       "    .dataframe thead th {\n",
       "        text-align: right;\n",
       "    }\n",
       "</style>\n",
       "<table border=\"1\" class=\"dataframe\">\n",
       "  <thead>\n",
       "    <tr style=\"text-align: right;\">\n",
       "      <th></th>\n",
       "      <th>bedrooms</th>\n",
       "      <th>bathrooms</th>\n",
       "      <th>floors</th>\n",
       "      <th>land_area</th>\n",
       "      <th>building_area</th>\n",
       "      <th>longitude</th>\n",
       "      <th>latitude</th>\n",
       "    </tr>\n",
       "    <tr>\n",
       "      <th>url</th>\n",
       "      <th></th>\n",
       "      <th></th>\n",
       "      <th></th>\n",
       "      <th></th>\n",
       "      <th></th>\n",
       "      <th></th>\n",
       "      <th></th>\n",
       "    </tr>\n",
       "  </thead>\n",
       "  <tbody>\n",
       "    <tr>\n",
       "      <th>https://www.lamudi.co.id/sewa-rumah-megaraya-sayap-pasteur-169873821723.html</th>\n",
       "      <td>3.0</td>\n",
       "      <td>2.0</td>\n",
       "      <td>1.0</td>\n",
       "      <td>265.0</td>\n",
       "      <td>70.0</td>\n",
       "      <td>1.0</td>\n",
       "      <td>1.0</td>\n",
       "    </tr>\n",
       "    <tr>\n",
       "      <th>https://www.lamudi.co.id/rumah-siap-huni-hoek-di-komplek-muara-bandung-170238251288.html</th>\n",
       "      <td>3.0</td>\n",
       "      <td>2.0</td>\n",
       "      <td>1.0</td>\n",
       "      <td>285.0</td>\n",
       "      <td>400.0</td>\n",
       "      <td>1.0</td>\n",
       "      <td>1.0</td>\n",
       "    </tr>\n",
       "    <tr>\n",
       "      <th>https://www.lamudi.co.id/disewakan-rumah-singgasana-pradana-bandung-170263850870.html</th>\n",
       "      <td>5.0</td>\n",
       "      <td>3.0</td>\n",
       "      <td>1.0</td>\n",
       "      <td>198.0</td>\n",
       "      <td>130.0</td>\n",
       "      <td>1.0</td>\n",
       "      <td>1.0</td>\n",
       "    </tr>\n",
       "    <tr>\n",
       "      <th>https://www.lamudi.co.id/disewakan-rumah-cantik-kbp-169873965115.html</th>\n",
       "      <td>3.0</td>\n",
       "      <td>NaN</td>\n",
       "      <td>1.0</td>\n",
       "      <td>144.0</td>\n",
       "      <td>74.0</td>\n",
       "      <td>1.0</td>\n",
       "      <td>1.0</td>\n",
       "    </tr>\n",
       "    <tr>\n",
       "      <th>https://www.lamudi.co.id/disewakan-rumah-muara-baru-kota-bandung-170238285332.html</th>\n",
       "      <td>NaN</td>\n",
       "      <td>NaN</td>\n",
       "      <td>1.0</td>\n",
       "      <td>114.0</td>\n",
       "      <td>122.0</td>\n",
       "      <td>1.0</td>\n",
       "      <td>1.0</td>\n",
       "    </tr>\n",
       "    <tr>\n",
       "      <th>https://www.lamudi.co.id/disewakan-rumah-lux-citra-antapani-169995077454.html</th>\n",
       "      <td>4.0</td>\n",
       "      <td>4.0</td>\n",
       "      <td>1.0</td>\n",
       "      <td>287.0</td>\n",
       "      <td>300.0</td>\n",
       "      <td>1.0</td>\n",
       "      <td>1.0</td>\n",
       "    </tr>\n",
       "    <tr>\n",
       "      <th>https://www.lamudi.co.id/disewakan-rumah-minimalis-modern-di-citra-green-da-170229570673.html</th>\n",
       "      <td>4.0</td>\n",
       "      <td>4.0</td>\n",
       "      <td>1.0</td>\n",
       "      <td>264.0</td>\n",
       "      <td>244.0</td>\n",
       "      <td>1.0</td>\n",
       "      <td>1.0</td>\n",
       "    </tr>\n",
       "    <tr>\n",
       "      <th>https://www.lamudi.co.id/disewa-rumah-di-komplek-perumahan-melong-asih-rege-169873971591.html</th>\n",
       "      <td>4.0</td>\n",
       "      <td>2.0</td>\n",
       "      <td>1.0</td>\n",
       "      <td>98.0</td>\n",
       "      <td>170.0</td>\n",
       "      <td>1.0</td>\n",
       "      <td>1.0</td>\n",
       "    </tr>\n",
       "    <tr>\n",
       "      <th>https://www.lamudi.co.id/disewakan-rumah-minimalis-modern-di-citra-green-da-17026384894.html</th>\n",
       "      <td>4.0</td>\n",
       "      <td>4.0</td>\n",
       "      <td>1.0</td>\n",
       "      <td>264.0</td>\n",
       "      <td>244.0</td>\n",
       "      <td>1.0</td>\n",
       "      <td>1.0</td>\n",
       "    </tr>\n",
       "    <tr>\n",
       "      <th>https://www.lamudi.co.id/sewa-rumah-2-lantai-siap-huni-pratista-tamana-saku-169874021926.html</th>\n",
       "      <td>4.0</td>\n",
       "      <td>4.0</td>\n",
       "      <td>1.0</td>\n",
       "      <td>240.0</td>\n",
       "      <td>320.0</td>\n",
       "      <td>1.0</td>\n",
       "      <td>1.0</td>\n",
       "    </tr>\n",
       "    <tr>\n",
       "      <th>https://www.lamudi.co.id/sewa-rumah-besar-komplek-pasadena-bandung-170238223620.html</th>\n",
       "      <td>2.0</td>\n",
       "      <td>2.0</td>\n",
       "      <td>2.0</td>\n",
       "      <td>187.0</td>\n",
       "      <td>420.0</td>\n",
       "      <td>1.0</td>\n",
       "      <td>1.0</td>\n",
       "    </tr>\n",
       "    <tr>\n",
       "      <th>https://www.lamudi.co.id/rumah-mainroad-pajajaran-bandung-170238251839.html</th>\n",
       "      <td>3.0</td>\n",
       "      <td>2.0</td>\n",
       "      <td>1.0</td>\n",
       "      <td>370.0</td>\n",
       "      <td>240.0</td>\n",
       "      <td>1.0</td>\n",
       "      <td>1.0</td>\n",
       "    </tr>\n",
       "    <tr>\n",
       "      <th>https://www.lamudi.co.id/disewakan-di-sayap-merdeka-dekat-balaikota-santa-a-169873818915.html</th>\n",
       "      <td>7.0</td>\n",
       "      <td>5.0</td>\n",
       "      <td>1.0</td>\n",
       "      <td>725.0</td>\n",
       "      <td>750.0</td>\n",
       "      <td>1.0</td>\n",
       "      <td>1.0</td>\n",
       "    </tr>\n",
       "    <tr>\n",
       "      <th>https://www.lamudi.co.id/disewa-rumah-modern-minimalis-siap-huni-di-dago-ba-169873666930.html</th>\n",
       "      <td>4.0</td>\n",
       "      <td>3.0</td>\n",
       "      <td>1.0</td>\n",
       "      <td>264.0</td>\n",
       "      <td>244.0</td>\n",
       "      <td>1.0</td>\n",
       "      <td>1.0</td>\n",
       "    </tr>\n",
       "    <tr>\n",
       "      <th>https://www.lamudi.co.id/rumah-asri-siap-huni-furnished-kopo-permai-2-170229702161.html</th>\n",
       "      <td>2.0</td>\n",
       "      <td>1.0</td>\n",
       "      <td>1.0</td>\n",
       "      <td>135.0</td>\n",
       "      <td>120.0</td>\n",
       "      <td>1.0</td>\n",
       "      <td>1.0</td>\n",
       "    </tr>\n",
       "    <tr>\n",
       "      <th>https://www.lamudi.co.id/disewakan-rumah-bagus-minimalis-siap-huni-di-turan-169873693116.html</th>\n",
       "      <td>5.0</td>\n",
       "      <td>4.0</td>\n",
       "      <td>2.0</td>\n",
       "      <td>170.0</td>\n",
       "      <td>126.0</td>\n",
       "      <td>1.0</td>\n",
       "      <td>1.0</td>\n",
       "    </tr>\n",
       "    <tr>\n",
       "      <th>https://www.lamudi.co.id/disewakan-rumah-minimalis-dekat-ikea-padalarang-169873716083.html</th>\n",
       "      <td>2.0</td>\n",
       "      <td>1.0</td>\n",
       "      <td>1.0</td>\n",
       "      <td>36.0</td>\n",
       "      <td>66.0</td>\n",
       "      <td>1.0</td>\n",
       "      <td>1.0</td>\n",
       "    </tr>\n",
       "    <tr>\n",
       "      <th>https://www.lamudi.co.id/disewakan-rumah-taman-puspa-indah-sanggar-hurip-169995076256.html</th>\n",
       "      <td>4.0</td>\n",
       "      <td>3.0</td>\n",
       "      <td>1.0</td>\n",
       "      <td>135.0</td>\n",
       "      <td>165.0</td>\n",
       "      <td>1.0</td>\n",
       "      <td>1.0</td>\n",
       "    </tr>\n",
       "    <tr>\n",
       "      <th>https://www.lamudi.co.id/rumah-mainroad-siap-huni-pasir-impun-bandung-170238221679.html</th>\n",
       "      <td>NaN</td>\n",
       "      <td>3.0</td>\n",
       "      <td>1.0</td>\n",
       "      <td>140.0</td>\n",
       "      <td>NaN</td>\n",
       "      <td>1.0</td>\n",
       "      <td>1.0</td>\n",
       "    </tr>\n",
       "    <tr>\n",
       "      <th>https://www.lamudi.co.id/disewakan-rumah-baru-minimalis-siap-huni-di-suryal-169873691933.html</th>\n",
       "      <td>5.0</td>\n",
       "      <td>3.0</td>\n",
       "      <td>2.0</td>\n",
       "      <td>126.0</td>\n",
       "      <td>170.0</td>\n",
       "      <td>1.0</td>\n",
       "      <td>1.0</td>\n",
       "    </tr>\n",
       "    <tr>\n",
       "      <th>https://www.lamudi.co.id/rumah-jarang-ada-springville-taman-kopo-indah-band-170238220741.html</th>\n",
       "      <td>3.0</td>\n",
       "      <td>1.0</td>\n",
       "      <td>1.0</td>\n",
       "      <td>133.0</td>\n",
       "      <td>100.0</td>\n",
       "      <td>1.0</td>\n",
       "      <td>1.0</td>\n",
       "    </tr>\n",
       "    <tr>\n",
       "      <th>https://www.lamudi.co.id/di-sewakan-rumah-furnished-siap-huni-jl-batunungga-169874018652.html</th>\n",
       "      <td>4.0</td>\n",
       "      <td>3.0</td>\n",
       "      <td>1.0</td>\n",
       "      <td>240.0</td>\n",
       "      <td>300.0</td>\n",
       "      <td>1.0</td>\n",
       "      <td>1.0</td>\n",
       "    </tr>\n",
       "    <tr>\n",
       "      <th>https://www.lamudi.co.id/rumah-pajajaran-bandung-169873823444.html</th>\n",
       "      <td>3.0</td>\n",
       "      <td>3.0</td>\n",
       "      <td>1.0</td>\n",
       "      <td>362.0</td>\n",
       "      <td>300.0</td>\n",
       "      <td>1.0</td>\n",
       "      <td>1.0</td>\n",
       "    </tr>\n",
       "    <tr>\n",
       "      <th>https://www.lamudi.co.id/disewakan-rumah-komplek-kopo-permai-2-170263849461.html</th>\n",
       "      <td>4.0</td>\n",
       "      <td>NaN</td>\n",
       "      <td>1.0</td>\n",
       "      <td>NaN</td>\n",
       "      <td>100.0</td>\n",
       "      <td>1.0</td>\n",
       "      <td>1.0</td>\n",
       "    </tr>\n",
       "    <tr>\n",
       "      <th>https://www.lamudi.co.id/disewakan-rumah-siap-huni-di-komplek-tanjungsari-a-169873679359.html</th>\n",
       "      <td>3.0</td>\n",
       "      <td>2.0</td>\n",
       "      <td>1.0</td>\n",
       "      <td>132.0</td>\n",
       "      <td>85.0</td>\n",
       "      <td>1.0</td>\n",
       "      <td>1.0</td>\n",
       "    </tr>\n",
       "  </tbody>\n",
       "</table>\n",
       "</div>"
      ]
     },
     "execution_count": 22,
     "metadata": {},
     "output_type": "execute_result"
    }
   ],
   "execution_count": 22
  },
  {
   "cell_type": "markdown",
   "metadata": {
    "id": "fABUT34s2jxL"
   },
   "source": [
    "- We know that the house is real, but the coordinate is not.\n",
    "- We can trait the non-Indonesian coordinate as missing values"
   ]
  },
  {
   "cell_type": "markdown",
   "metadata": {
    "id": "C7TnRAdkFWiT"
   },
   "source": [
    "- Next, explore the `price`"
   ]
  },
  {
   "cell_type": "code",
   "metadata": {
    "colab": {
     "base_uri": "https://localhost:8080/"
    },
    "id": "p8c9PHjaFUrv",
    "outputId": "673208f3-9cd2-4ae5-dc89-d6a99986080f",
    "ExecuteTime": {
     "end_time": "2024-08-07T17:24:53.422380Z",
     "start_time": "2024-08-07T17:24:53.209465Z"
    }
   },
   "source": [
    "sns.kdeplot(y_train)\n",
    "plt.title(f'Distribution of Price')\n",
    "plt.show()"
   ],
   "outputs": [
    {
     "data": {
      "text/plain": [
       "<Figure size 640x480 with 1 Axes>"
      ],
      "image/png": "[encoded data removed]"
     },
     "metadata": {},
     "output_type": "display_data"
    }
   ],
   "execution_count": 23
  },
  {
   "cell_type": "code",
   "metadata": {
    "colab": {
     "base_uri": "https://localhost:8080/"
    },
    "id": "9xyqofRYz8aq",
    "outputId": "c53a89e7-9658-4417-8f9e-8c1c5e009f68",
    "ExecuteTime": {
     "end_time": "2024-08-07T17:24:53.438048Z",
     "start_time": "2024-08-07T17:24:53.426106Z"
    }
   },
   "source": [
    "# Check for outliers\n",
    "cond = y_train > 600_000_000\n",
    "pd.concat((X_train[cond], y_train[cond]), axis=1)\n",
    "\n",
    "# We will exclude this, these houses are too expensive"
   ],
   "outputs": [
    {
     "data": {
      "text/plain": [
       "                                                    bedrooms  bathrooms  \\\n",
       "url                                                                       \n",
       "https://www.lamudi.co.id/disewa-rumah-3-lantai-...       8.0        5.0   \n",
       "https://www.lamudi.co.id/disewakan-jalan-gunung...       5.0        5.0   \n",
       "https://www.lamudi.co.id/sewa-dago-mainroad-169...       1.0        NaN   \n",
       "https://www.lamudi.co.id/mainroad-sukajadi-past...       5.0        4.0   \n",
       "\n",
       "                                                    floors  land_area  \\\n",
       "url                                                                     \n",
       "https://www.lamudi.co.id/disewa-rumah-3-lantai-...     1.0      899.0   \n",
       "https://www.lamudi.co.id/disewakan-jalan-gunung...     1.0     2216.0   \n",
       "https://www.lamudi.co.id/sewa-dago-mainroad-169...     1.0      960.0   \n",
       "https://www.lamudi.co.id/mainroad-sukajadi-past...     1.0      799.0   \n",
       "\n",
       "                                                    building_area   longitude  \\\n",
       "url                                                                             \n",
       "https://www.lamudi.co.id/disewa-rumah-3-lantai-...         1200.0  107.610171   \n",
       "https://www.lamudi.co.id/disewakan-jalan-gunung...          600.0  107.618573   \n",
       "https://www.lamudi.co.id/sewa-dago-mainroad-169...          400.0  107.678621   \n",
       "https://www.lamudi.co.id/mainroad-sukajadi-past...          400.0  107.586670   \n",
       "\n",
       "                                                    latitude         price  \n",
       "url                                                                         \n",
       "https://www.lamudi.co.id/disewa-rumah-3-lantai-... -6.906996  1.000000e+09  \n",
       "https://www.lamudi.co.id/disewakan-jalan-gunung... -6.863551  7.500000e+08  \n",
       "https://www.lamudi.co.id/sewa-dago-mainroad-169... -6.946481  9.500000e+08  \n",
       "https://www.lamudi.co.id/mainroad-sukajadi-past... -6.898330  6.750000e+08  "
      ],
      "text/html": [
       "<div>\n",
       "<style scoped>\n",
       "    .dataframe tbody tr th:only-of-type {\n",
       "        vertical-align: middle;\n",
       "    }\n",
       "\n",
       "    .dataframe tbody tr th {\n",
       "        vertical-align: top;\n",
       "    }\n",
       "\n",
       "    .dataframe thead th {\n",
       "        text-align: right;\n",
       "    }\n",
       "</style>\n",
       "<table border=\"1\" class=\"dataframe\">\n",
       "  <thead>\n",
       "    <tr style=\"text-align: right;\">\n",
       "      <th></th>\n",
       "      <th>bedrooms</th>\n",
       "      <th>bathrooms</th>\n",
       "      <th>floors</th>\n",
       "      <th>land_area</th>\n",
       "      <th>building_area</th>\n",
       "      <th>longitude</th>\n",
       "      <th>latitude</th>\n",
       "      <th>price</th>\n",
       "    </tr>\n",
       "    <tr>\n",
       "      <th>url</th>\n",
       "      <th></th>\n",
       "      <th></th>\n",
       "      <th></th>\n",
       "      <th></th>\n",
       "      <th></th>\n",
       "      <th></th>\n",
       "      <th></th>\n",
       "      <th></th>\n",
       "    </tr>\n",
       "  </thead>\n",
       "  <tbody>\n",
       "    <tr>\n",
       "      <th>https://www.lamudi.co.id/disewa-rumah-3-lantai-terawat-nyaman-di-mainroad-d-169701353218.html</th>\n",
       "      <td>8.0</td>\n",
       "      <td>5.0</td>\n",
       "      <td>1.0</td>\n",
       "      <td>899.0</td>\n",
       "      <td>1200.0</td>\n",
       "      <td>107.610171</td>\n",
       "      <td>-6.906996</td>\n",
       "      <td>1.000000e+09</td>\n",
       "    </tr>\n",
       "    <tr>\n",
       "      <th>https://www.lamudi.co.id/disewakan-jalan-gunung-batu-169684717079.html</th>\n",
       "      <td>5.0</td>\n",
       "      <td>5.0</td>\n",
       "      <td>1.0</td>\n",
       "      <td>2216.0</td>\n",
       "      <td>600.0</td>\n",
       "      <td>107.618573</td>\n",
       "      <td>-6.863551</td>\n",
       "      <td>7.500000e+08</td>\n",
       "    </tr>\n",
       "    <tr>\n",
       "      <th>https://www.lamudi.co.id/sewa-dago-mainroad-169693284441.html</th>\n",
       "      <td>1.0</td>\n",
       "      <td>NaN</td>\n",
       "      <td>1.0</td>\n",
       "      <td>960.0</td>\n",
       "      <td>400.0</td>\n",
       "      <td>107.678621</td>\n",
       "      <td>-6.946481</td>\n",
       "      <td>9.500000e+08</td>\n",
       "    </tr>\n",
       "    <tr>\n",
       "      <th>https://www.lamudi.co.id/mainroad-sukajadi-pasteur-sewa-rumah-di-bandung-ut-169458409481.html</th>\n",
       "      <td>5.0</td>\n",
       "      <td>4.0</td>\n",
       "      <td>1.0</td>\n",
       "      <td>799.0</td>\n",
       "      <td>400.0</td>\n",
       "      <td>107.586670</td>\n",
       "      <td>-6.898330</td>\n",
       "      <td>6.750000e+08</td>\n",
       "    </tr>\n",
       "  </tbody>\n",
       "</table>\n",
       "</div>"
      ]
     },
     "execution_count": 24,
     "metadata": {},
     "output_type": "execute_result"
    }
   ],
   "execution_count": 24
  },
  {
   "cell_type": "markdown",
   "metadata": {
    "id": "OX5MqqWjHEbg"
   },
   "source": [
    "- Explore the relation between features and `price`"
   ]
  },
  {
   "cell_type": "code",
   "metadata": {
    "colab": {
     "base_uri": "https://localhost:8080/"
    },
    "id": "xqg-kjr-GvYf",
    "outputId": "3263296f-bf74-466c-ae27-9f04d5ba2f09",
    "ExecuteTime": {
     "end_time": "2024-08-07T17:24:53.453585Z",
     "start_time": "2024-08-07T17:24:53.439441Z"
    }
   },
   "source": [
    "# Concat the data first\n",
    "train_data = pd.concat((X_train, y_train), axis=1)\n",
    "train_data.head()"
   ],
   "outputs": [
    {
     "data": {
      "text/plain": [
       "                                                    bedrooms  bathrooms  \\\n",
       "url                                                                       \n",
       "https://www.lamudi.co.id/disewa-rumah-baru-mini...       2.0        NaN   \n",
       "https://www.lamudi.co.id/disewakan-rumah-nyaman...       1.0        1.0   \n",
       "https://www.lamudi.co.id/rumah-nyaman-full-furn...       4.0        4.0   \n",
       "https://www.lamudi.co.id/disewa-rumah-siap-huni...       8.0        4.0   \n",
       "https://www.lamudi.co.id/rumah-bagus-di-mekar-w...       4.0        4.0   \n",
       "\n",
       "                                                    floors  land_area  \\\n",
       "url                                                                     \n",
       "https://www.lamudi.co.id/disewa-rumah-baru-mini...     1.0      126.0   \n",
       "https://www.lamudi.co.id/disewakan-rumah-nyaman...     NaN      200.0   \n",
       "https://www.lamudi.co.id/rumah-nyaman-full-furn...     1.0      144.0   \n",
       "https://www.lamudi.co.id/disewa-rumah-siap-huni...     1.0      350.0   \n",
       "https://www.lamudi.co.id/rumah-bagus-di-mekar-w...     1.0      300.0   \n",
       "\n",
       "                                                    building_area   longitude  \\\n",
       "url                                                                             \n",
       "https://www.lamudi.co.id/disewa-rumah-baru-mini...          100.0  107.380280   \n",
       "https://www.lamudi.co.id/disewakan-rumah-nyaman...           37.0  107.638060   \n",
       "https://www.lamudi.co.id/rumah-nyaman-full-furn...          200.0  107.621282   \n",
       "https://www.lamudi.co.id/disewa-rumah-siap-huni...          450.0  107.624440   \n",
       "https://www.lamudi.co.id/rumah-bagus-di-mekar-w...          400.0  107.610560   \n",
       "\n",
       "                                                    latitude        price  \n",
       "url                                                                        \n",
       "https://www.lamudi.co.id/disewa-rumah-baru-mini... -6.821670   47500000.0  \n",
       "https://www.lamudi.co.id/disewakan-rumah-nyaman... -6.893330   20000000.0  \n",
       "https://www.lamudi.co.id/rumah-nyaman-full-furn... -6.954875   79000000.0  \n",
       "https://www.lamudi.co.id/disewa-rumah-siap-huni... -6.811670  150000000.0  \n",
       "https://www.lamudi.co.id/rumah-bagus-di-mekar-w... -6.957220  135000000.0  "
      ],
      "text/html": [
       "<div>\n",
       "<style scoped>\n",
       "    .dataframe tbody tr th:only-of-type {\n",
       "        vertical-align: middle;\n",
       "    }\n",
       "\n",
       "    .dataframe tbody tr th {\n",
       "        vertical-align: top;\n",
       "    }\n",
       "\n",
       "    .dataframe thead th {\n",
       "        text-align: right;\n",
       "    }\n",
       "</style>\n",
       "<table border=\"1\" class=\"dataframe\">\n",
       "  <thead>\n",
       "    <tr style=\"text-align: right;\">\n",
       "      <th></th>\n",
       "      <th>bedrooms</th>\n",
       "      <th>bathrooms</th>\n",
       "      <th>floors</th>\n",
       "      <th>land_area</th>\n",
       "      <th>building_area</th>\n",
       "      <th>longitude</th>\n",
       "      <th>latitude</th>\n",
       "      <th>price</th>\n",
       "    </tr>\n",
       "    <tr>\n",
       "      <th>url</th>\n",
       "      <th></th>\n",
       "      <th></th>\n",
       "      <th></th>\n",
       "      <th></th>\n",
       "      <th></th>\n",
       "      <th></th>\n",
       "      <th></th>\n",
       "      <th></th>\n",
       "    </tr>\n",
       "  </thead>\n",
       "  <tbody>\n",
       "    <tr>\n",
       "      <th>https://www.lamudi.co.id/disewa-rumah-baru-minimalis-di-taman-kopo-indah-5-170061569879.html</th>\n",
       "      <td>2.0</td>\n",
       "      <td>NaN</td>\n",
       "      <td>1.0</td>\n",
       "      <td>126.0</td>\n",
       "      <td>100.0</td>\n",
       "      <td>107.380280</td>\n",
       "      <td>-6.821670</td>\n",
       "      <td>47500000.0</td>\n",
       "    </tr>\n",
       "    <tr>\n",
       "      <th>https://www.lamudi.co.id/disewakan-rumah-nyaman-berdampingan-di-cikutra-169381583375.html</th>\n",
       "      <td>1.0</td>\n",
       "      <td>1.0</td>\n",
       "      <td>NaN</td>\n",
       "      <td>200.0</td>\n",
       "      <td>37.0</td>\n",
       "      <td>107.638060</td>\n",
       "      <td>-6.893330</td>\n",
       "      <td>20000000.0</td>\n",
       "    </tr>\n",
       "    <tr>\n",
       "      <th>https://www.lamudi.co.id/rumah-nyaman-full-furnish-di-cluster-setra-duta-ba-169382206322.html</th>\n",
       "      <td>4.0</td>\n",
       "      <td>4.0</td>\n",
       "      <td>1.0</td>\n",
       "      <td>144.0</td>\n",
       "      <td>200.0</td>\n",
       "      <td>107.621282</td>\n",
       "      <td>-6.954875</td>\n",
       "      <td>79000000.0</td>\n",
       "    </tr>\n",
       "    <tr>\n",
       "      <th>https://www.lamudi.co.id/disewa-rumah-siap-huni-terawat-strategis-di-buah-b-169621193557.html</th>\n",
       "      <td>8.0</td>\n",
       "      <td>4.0</td>\n",
       "      <td>1.0</td>\n",
       "      <td>350.0</td>\n",
       "      <td>450.0</td>\n",
       "      <td>107.624440</td>\n",
       "      <td>-6.811670</td>\n",
       "      <td>150000000.0</td>\n",
       "    </tr>\n",
       "    <tr>\n",
       "      <th>https://www.lamudi.co.id/rumah-bagus-di-mekar-wangi-di-bandung-bojong-loa-170037510330.html</th>\n",
       "      <td>4.0</td>\n",
       "      <td>4.0</td>\n",
       "      <td>1.0</td>\n",
       "      <td>300.0</td>\n",
       "      <td>400.0</td>\n",
       "      <td>107.610560</td>\n",
       "      <td>-6.957220</td>\n",
       "      <td>135000000.0</td>\n",
       "    </tr>\n",
       "  </tbody>\n",
       "</table>\n",
       "</div>"
      ]
     },
     "execution_count": 25,
     "metadata": {},
     "output_type": "execute_result"
    }
   ],
   "execution_count": 25
  },
  {
   "cell_type": "code",
   "metadata": {
    "colab": {
     "base_uri": "https://localhost:8080/"
    },
    "id": "e0xMJc-oHO8m",
    "outputId": "8bb830d4-1839-46ec-fa70-d396b043cb23",
    "ExecuteTime": {
     "end_time": "2024-08-07T17:24:53.468177Z",
     "start_time": "2024-08-07T17:24:53.454891Z"
    }
   },
   "source": [
    "# Create a heatmap\n",
    "# Get the correlation matrix\n",
    "corr = train_data.corr()\n",
    "corr"
   ],
   "outputs": [
    {
     "data": {
      "text/plain": [
       "               bedrooms  bathrooms    floors  land_area  building_area  \\\n",
       "bedrooms       1.000000   0.358414  0.098568   0.210908       0.314938   \n",
       "bathrooms      0.358414   1.000000  0.052360   0.252649       0.411306   \n",
       "floors         0.098568   0.052360  1.000000  -0.007668       0.050838   \n",
       "land_area      0.210908   0.252649 -0.007668   1.000000       0.682693   \n",
       "building_area  0.314938   0.411306  0.050838   0.682693       1.000000   \n",
       "longitude     -0.018271  -0.031933 -0.053794  -0.040833      -0.070606   \n",
       "latitude       0.027856   0.015465  0.044919   0.061068       0.079159   \n",
       "price          0.213710   0.309334 -0.002645   0.693078       0.713262   \n",
       "\n",
       "               longitude  latitude     price  \n",
       "bedrooms       -0.018271  0.027856  0.213710  \n",
       "bathrooms      -0.031933  0.015465  0.309334  \n",
       "floors         -0.053794  0.044919 -0.002645  \n",
       "land_area      -0.040833  0.061068  0.693078  \n",
       "building_area  -0.070606  0.079159  0.713262  \n",
       "longitude       1.000000 -0.887063 -0.070362  \n",
       "latitude       -0.887063  1.000000  0.065045  \n",
       "price          -0.070362  0.065045  1.000000  "
      ],
      "text/html": [
       "<div>\n",
       "<style scoped>\n",
       "    .dataframe tbody tr th:only-of-type {\n",
       "        vertical-align: middle;\n",
       "    }\n",
       "\n",
       "    .dataframe tbody tr th {\n",
       "        vertical-align: top;\n",
       "    }\n",
       "\n",
       "    .dataframe thead th {\n",
       "        text-align: right;\n",
       "    }\n",
       "</style>\n",
       "<table border=\"1\" class=\"dataframe\">\n",
       "  <thead>\n",
       "    <tr style=\"text-align: right;\">\n",
       "      <th></th>\n",
       "      <th>bedrooms</th>\n",
       "      <th>bathrooms</th>\n",
       "      <th>floors</th>\n",
       "      <th>land_area</th>\n",
       "      <th>building_area</th>\n",
       "      <th>longitude</th>\n",
       "      <th>latitude</th>\n",
       "      <th>price</th>\n",
       "    </tr>\n",
       "  </thead>\n",
       "  <tbody>\n",
       "    <tr>\n",
       "      <th>bedrooms</th>\n",
       "      <td>1.000000</td>\n",
       "      <td>0.358414</td>\n",
       "      <td>0.098568</td>\n",
       "      <td>0.210908</td>\n",
       "      <td>0.314938</td>\n",
       "      <td>-0.018271</td>\n",
       "      <td>0.027856</td>\n",
       "      <td>0.213710</td>\n",
       "    </tr>\n",
       "    <tr>\n",
       "      <th>bathrooms</th>\n",
       "      <td>0.358414</td>\n",
       "      <td>1.000000</td>\n",
       "      <td>0.052360</td>\n",
       "      <td>0.252649</td>\n",
       "      <td>0.411306</td>\n",
       "      <td>-0.031933</td>\n",
       "      <td>0.015465</td>\n",
       "      <td>0.309334</td>\n",
       "    </tr>\n",
       "    <tr>\n",
       "      <th>floors</th>\n",
       "      <td>0.098568</td>\n",
       "      <td>0.052360</td>\n",
       "      <td>1.000000</td>\n",
       "      <td>-0.007668</td>\n",
       "      <td>0.050838</td>\n",
       "      <td>-0.053794</td>\n",
       "      <td>0.044919</td>\n",
       "      <td>-0.002645</td>\n",
       "    </tr>\n",
       "    <tr>\n",
       "      <th>land_area</th>\n",
       "      <td>0.210908</td>\n",
       "      <td>0.252649</td>\n",
       "      <td>-0.007668</td>\n",
       "      <td>1.000000</td>\n",
       "      <td>0.682693</td>\n",
       "      <td>-0.040833</td>\n",
       "      <td>0.061068</td>\n",
       "      <td>0.693078</td>\n",
       "    </tr>\n",
       "    <tr>\n",
       "      <th>building_area</th>\n",
       "      <td>0.314938</td>\n",
       "      <td>0.411306</td>\n",
       "      <td>0.050838</td>\n",
       "      <td>0.682693</td>\n",
       "      <td>1.000000</td>\n",
       "      <td>-0.070606</td>\n",
       "      <td>0.079159</td>\n",
       "      <td>0.713262</td>\n",
       "    </tr>\n",
       "    <tr>\n",
       "      <th>longitude</th>\n",
       "      <td>-0.018271</td>\n",
       "      <td>-0.031933</td>\n",
       "      <td>-0.053794</td>\n",
       "      <td>-0.040833</td>\n",
       "      <td>-0.070606</td>\n",
       "      <td>1.000000</td>\n",
       "      <td>-0.887063</td>\n",
       "      <td>-0.070362</td>\n",
       "    </tr>\n",
       "    <tr>\n",
       "      <th>latitude</th>\n",
       "      <td>0.027856</td>\n",
       "      <td>0.015465</td>\n",
       "      <td>0.044919</td>\n",
       "      <td>0.061068</td>\n",
       "      <td>0.079159</td>\n",
       "      <td>-0.887063</td>\n",
       "      <td>1.000000</td>\n",
       "      <td>0.065045</td>\n",
       "    </tr>\n",
       "    <tr>\n",
       "      <th>price</th>\n",
       "      <td>0.213710</td>\n",
       "      <td>0.309334</td>\n",
       "      <td>-0.002645</td>\n",
       "      <td>0.693078</td>\n",
       "      <td>0.713262</td>\n",
       "      <td>-0.070362</td>\n",
       "      <td>0.065045</td>\n",
       "      <td>1.000000</td>\n",
       "    </tr>\n",
       "  </tbody>\n",
       "</table>\n",
       "</div>"
      ]
     },
     "execution_count": 26,
     "metadata": {},
     "output_type": "execute_result"
    }
   ],
   "execution_count": 26
  },
  {
   "cell_type": "code",
   "metadata": {
    "colab": {
     "base_uri": "https://localhost:8080/"
    },
    "id": "YMpM_U_R1MQy",
    "outputId": "5a445b11-9830-44bb-e85d-56426c5b39c7",
    "ExecuteTime": {
     "end_time": "2024-08-07T17:24:53.732923Z",
     "start_time": "2024-08-07T17:24:53.469238Z"
    }
   },
   "source": [
    "# Plot the heatmap\n",
    "sns.heatmap(corr, annot=True)\n",
    "plt.show()"
   ],
   "outputs": [
    {
     "data": {
      "text/plain": [
       "<Figure size 640x480 with 2 Axes>"
      ],
      "image/png": "[encoded data removed]"
     },
     "metadata": {},
     "output_type": "display_data"
    }
   ],
   "execution_count": 27
  },
  {
   "cell_type": "markdown",
   "metadata": {
    "id": "FcqYxsDtHynL"
   },
   "source": [
    "- We can see, features `bedrooms`, `bathrooms`, `land_area`, and `building_area` have high correlation with `price`."
   ]
  },
  {
   "cell_type": "markdown",
   "metadata": {
    "id": "9vXXNcIuH86Y"
   },
   "source": [
    "**Conclusion for preprocessing**\n",
    "- First, remove the data from anomalous data\n",
    "- Then, generate imputer."
   ]
  },
  {
   "cell_type": "markdown",
   "metadata": {
    "id": "pMbkiZ4a3wDG"
   },
   "source": [
    "#### 2.3. Remove & Preprocess Anomalous Data (6 pts)\n",
    "---"
   ]
  },
  {
   "cell_type": "markdown",
   "metadata": {
    "id": "lc7yX7d73wDP"
   },
   "source": [
    "- Let's remove our data from anomalous.\n",
    "- Please see the EDA to help you remove the anomalous data"
   ]
  },
  {
   "cell_type": "code",
   "metadata": {
    "colab": {
     "base_uri": "https://localhost:8080/"
    },
    "id": "r0HRAFQx41pX",
    "outputId": "c5a971fc-669a-48fb-c8cc-46e575789603",
    "ExecuteTime": {
     "end_time": "2024-08-07T17:24:53.750144Z",
     "start_time": "2024-08-07T17:24:53.733848Z"
    }
   },
   "source": [
    "X_train.describe()"
   ],
   "outputs": [
    {
     "data": {
      "text/plain": [
       "          bedrooms    bathrooms       floors    land_area  building_area  \\\n",
       "count  1142.000000  1139.000000  1137.000000  1128.000000    1136.000000   \n",
       "mean      3.466725     2.396839     1.019349   186.466312     164.384683   \n",
       "std       2.005740     1.444531     0.274462   168.919119     122.173535   \n",
       "min       1.000000     1.000000     0.000000     0.000000       0.000000   \n",
       "25%       2.000000     2.000000     1.000000   105.000000      90.000000   \n",
       "50%       3.000000     2.000000     1.000000   136.500000     126.000000   \n",
       "75%       4.000000     3.000000     1.000000   200.000000     200.000000   \n",
       "max      54.000000    34.000000     3.000000  2216.000000    1200.000000   \n",
       "\n",
       "         longitude     latitude  \n",
       "count  1187.000000  1187.000000  \n",
       "mean    105.351897    -6.711368  \n",
       "std      15.629363     1.380850  \n",
       "min       1.000000    -7.561604  \n",
       "25%     107.580215    -6.948904  \n",
       "50%     107.619047    -6.917247  \n",
       "75%     107.640830    -6.863551  \n",
       "max     180.000000    20.000000  "
      ],
      "text/html": [
       "<div>\n",
       "<style scoped>\n",
       "    .dataframe tbody tr th:only-of-type {\n",
       "        vertical-align: middle;\n",
       "    }\n",
       "\n",
       "    .dataframe tbody tr th {\n",
       "        vertical-align: top;\n",
       "    }\n",
       "\n",
       "    .dataframe thead th {\n",
       "        text-align: right;\n",
       "    }\n",
       "</style>\n",
       "<table border=\"1\" class=\"dataframe\">\n",
       "  <thead>\n",
       "    <tr style=\"text-align: right;\">\n",
       "      <th></th>\n",
       "      <th>bedrooms</th>\n",
       "      <th>bathrooms</th>\n",
       "      <th>floors</th>\n",
       "      <th>land_area</th>\n",
       "      <th>building_area</th>\n",
       "      <th>longitude</th>\n",
       "      <th>latitude</th>\n",
       "    </tr>\n",
       "  </thead>\n",
       "  <tbody>\n",
       "    <tr>\n",
       "      <th>count</th>\n",
       "      <td>1142.000000</td>\n",
       "      <td>1139.000000</td>\n",
       "      <td>1137.000000</td>\n",
       "      <td>1128.000000</td>\n",
       "      <td>1136.000000</td>\n",
       "      <td>1187.000000</td>\n",
       "      <td>1187.000000</td>\n",
       "    </tr>\n",
       "    <tr>\n",
       "      <th>mean</th>\n",
       "      <td>3.466725</td>\n",
       "      <td>2.396839</td>\n",
       "      <td>1.019349</td>\n",
       "      <td>186.466312</td>\n",
       "      <td>164.384683</td>\n",
       "      <td>105.351897</td>\n",
       "      <td>-6.711368</td>\n",
       "    </tr>\n",
       "    <tr>\n",
       "      <th>std</th>\n",
       "      <td>2.005740</td>\n",
       "      <td>1.444531</td>\n",
       "      <td>0.274462</td>\n",
       "      <td>168.919119</td>\n",
       "      <td>122.173535</td>\n",
       "      <td>15.629363</td>\n",
       "      <td>1.380850</td>\n",
       "    </tr>\n",
       "    <tr>\n",
       "      <th>min</th>\n",
       "      <td>1.000000</td>\n",
       "      <td>1.000000</td>\n",
       "      <td>0.000000</td>\n",
       "      <td>0.000000</td>\n",
       "      <td>0.000000</td>\n",
       "      <td>1.000000</td>\n",
       "      <td>-7.561604</td>\n",
       "    </tr>\n",
       "    <tr>\n",
       "      <th>25%</th>\n",
       "      <td>2.000000</td>\n",
       "      <td>2.000000</td>\n",
       "      <td>1.000000</td>\n",
       "      <td>105.000000</td>\n",
       "      <td>90.000000</td>\n",
       "      <td>107.580215</td>\n",
       "      <td>-6.948904</td>\n",
       "    </tr>\n",
       "    <tr>\n",
       "      <th>50%</th>\n",
       "      <td>3.000000</td>\n",
       "      <td>2.000000</td>\n",
       "      <td>1.000000</td>\n",
       "      <td>136.500000</td>\n",
       "      <td>126.000000</td>\n",
       "      <td>107.619047</td>\n",
       "      <td>-6.917247</td>\n",
       "    </tr>\n",
       "    <tr>\n",
       "      <th>75%</th>\n",
       "      <td>4.000000</td>\n",
       "      <td>3.000000</td>\n",
       "      <td>1.000000</td>\n",
       "      <td>200.000000</td>\n",
       "      <td>200.000000</td>\n",
       "      <td>107.640830</td>\n",
       "      <td>-6.863551</td>\n",
       "    </tr>\n",
       "    <tr>\n",
       "      <th>max</th>\n",
       "      <td>54.000000</td>\n",
       "      <td>34.000000</td>\n",
       "      <td>3.000000</td>\n",
       "      <td>2216.000000</td>\n",
       "      <td>1200.000000</td>\n",
       "      <td>180.000000</td>\n",
       "      <td>20.000000</td>\n",
       "    </tr>\n",
       "  </tbody>\n",
       "</table>\n",
       "</div>"
      ]
     },
     "execution_count": 28,
     "metadata": {},
     "output_type": "execute_result"
    }
   ],
   "execution_count": 28
  },
  {
   "cell_type": "code",
   "metadata": {
    "id": "CCnni4591_iH",
    "ExecuteTime": {
     "end_time": "2024-08-07T17:24:53.758538Z",
     "start_time": "2024-08-07T17:24:53.751202Z"
    }
   },
   "source": [
    "######################################################################\n",
    "# Find the data index to drop\n",
    "# Remember to carefully read the EDA part\n",
    "# Save the dropped index to idx_to_drop (list of index)\n",
    "# Write your code here (2 pts)\n",
    "######################################################################\n",
    "x_train_idx_to_drop = set(X_train[\n",
    "    (X_train['bedrooms'] <= 0) | (X_train['bedrooms'] > 11) |\n",
    "    (X_train['bathrooms'] <= 0) | (X_train['bathrooms'] > 8) |\n",
    "    (X_train['land_area'] <= 0) | (X_train['land_area'] > 1_700) |\n",
    "    (X_train['building_area'] < 5) | (X_train['building_area'] > 1_000)\n",
    "].index)\n",
    "\n",
    "y_train_idx_to_drop = set(y_train[y_train > 600_000_000].index)\n",
    "idx_to_drop = list(x_train_idx_to_drop.union(y_train_idx_to_drop))"
   ],
   "outputs": [],
   "execution_count": 29
  },
  {
   "cell_type": "code",
   "metadata": {
    "colab": {
     "base_uri": "https://localhost:8080/"
    },
    "id": "QB-Qow_b31Pe",
    "outputId": "4e296e74-415c-4568-bcb2-5757e6d69893",
    "ExecuteTime": {
     "end_time": "2024-08-07T17:24:53.768422Z",
     "start_time": "2024-08-07T17:24:53.759785Z"
    }
   },
   "source": [
    "# Check the index (JUST RUN THE CODE)\n",
    "print(f'Number of index to drop:', len(idx_to_drop))\n",
    "idx_to_drop"
   ],
   "outputs": [
    {
     "name": "stdout",
     "output_type": "stream",
     "text": [
      "Number of index to drop: 10\n"
     ]
    },
    {
     "data": {
      "text/plain": [
       "['https://www.lamudi.co.id/sewa-dago-mainroad-169693284441.html',\n",
       " 'https://www.lamudi.co.id/disewa-rumah-3-lantai-terawat-nyaman-di-mainroad-d-169701353218.html',\n",
       " 'https://www.lamudi.co.id/mainroad-sukajadi-pasteur-sewa-rumah-di-bandung-ut-169458409481.html',\n",
       " 'https://www.lamudi.co.id/disewa-singgasana-pradana-jalan-besar-siap-huni-169563876727.html',\n",
       " 'https://www.lamudi.co.id/disewakan-rumah-siap-huni-pondok-hijau-bandung-uta-168321463721.html',\n",
       " 'https://www.lamudi.co.id/sewa-murah-rumah-modern-dlm-cluster-di-kota-baru-p-169927672061.html',\n",
       " 'https://www.lamudi.co.id/di-sewakan-rumah-baru-sayap-pasteur-jalan-sukawarn-169458447044.html',\n",
       " 'https://www.lamudi.co.id/rumah-kembar-strategis-dekat-jalan-utama-bkr-bandu-169790695311.html',\n",
       " 'https://www.lamudi.co.id/disewakan-rumah-nyaman-sayap-gatsu-bandung-minimal-16956390412.html',\n",
       " 'https://www.lamudi.co.id/disewakan-jalan-gunung-batu-169684717079.html']"
      ]
     },
     "execution_count": 30,
     "metadata": {},
     "output_type": "execute_result"
    }
   ],
   "execution_count": 30
  },
  {
   "cell_type": "markdown",
   "metadata": {
    "id": "J0LUfUDS4alb"
   },
   "source": [
    "- Now, lets drop the data for `X_train` and also `y_train`"
   ]
  },
  {
   "cell_type": "code",
   "metadata": {
    "id": "AygI7lCU4fJ2",
    "ExecuteTime": {
     "end_time": "2024-08-07T17:24:53.778645Z",
     "start_time": "2024-08-07T17:24:53.769296Z"
    }
   },
   "source": [
    "######################################################################\n",
    "# Drop the anomalous data\n",
    "# Save the dropped data into X_train_dropped and y_train_dropped\n",
    "# Write your code here (1 pts)\n",
    "######################################################################\n",
    "X_train_dropped = X_train.drop(index=idx_to_drop)\n",
    "y_train_dropped = y_train.drop(index=idx_to_drop)"
   ],
   "outputs": [],
   "execution_count": 31
  },
  {
   "cell_type": "code",
   "metadata": {
    "colab": {
     "base_uri": "https://localhost:8080/"
    },
    "id": "reK9oDBJ5T7-",
    "outputId": "c11170b1-fd6b-44c0-f1fe-77fbdc000ed8",
    "ExecuteTime": {
     "end_time": "2024-08-07T17:24:53.797926Z",
     "start_time": "2024-08-07T17:24:53.779789Z"
    }
   },
   "source": [
    "# Validate (JUST RUN THE CODE)\n",
    "print('Shape of X train after dropped:', X_train_dropped.shape)\n",
    "X_train_dropped.head()"
   ],
   "outputs": [
    {
     "name": "stdout",
     "output_type": "stream",
     "text": [
      "Shape of X train after dropped: (1182, 7)\n"
     ]
    },
    {
     "data": {
      "text/plain": [
       "                                                    bedrooms  bathrooms  \\\n",
       "url                                                                       \n",
       "https://www.lamudi.co.id/disewa-rumah-baru-mini...       2.0        NaN   \n",
       "https://www.lamudi.co.id/disewakan-rumah-nyaman...       1.0        1.0   \n",
       "https://www.lamudi.co.id/rumah-nyaman-full-furn...       4.0        4.0   \n",
       "https://www.lamudi.co.id/disewa-rumah-siap-huni...       8.0        4.0   \n",
       "https://www.lamudi.co.id/rumah-bagus-di-mekar-w...       4.0        4.0   \n",
       "\n",
       "                                                    floors  land_area  \\\n",
       "url                                                                     \n",
       "https://www.lamudi.co.id/disewa-rumah-baru-mini...     1.0      126.0   \n",
       "https://www.lamudi.co.id/disewakan-rumah-nyaman...     NaN      200.0   \n",
       "https://www.lamudi.co.id/rumah-nyaman-full-furn...     1.0      144.0   \n",
       "https://www.lamudi.co.id/disewa-rumah-siap-huni...     1.0      350.0   \n",
       "https://www.lamudi.co.id/rumah-bagus-di-mekar-w...     1.0      300.0   \n",
       "\n",
       "                                                    building_area   longitude  \\\n",
       "url                                                                             \n",
       "https://www.lamudi.co.id/disewa-rumah-baru-mini...          100.0  107.380280   \n",
       "https://www.lamudi.co.id/disewakan-rumah-nyaman...           37.0  107.638060   \n",
       "https://www.lamudi.co.id/rumah-nyaman-full-furn...          200.0  107.621282   \n",
       "https://www.lamudi.co.id/disewa-rumah-siap-huni...          450.0  107.624440   \n",
       "https://www.lamudi.co.id/rumah-bagus-di-mekar-w...          400.0  107.610560   \n",
       "\n",
       "                                                    latitude  \n",
       "url                                                           \n",
       "https://www.lamudi.co.id/disewa-rumah-baru-mini... -6.821670  \n",
       "https://www.lamudi.co.id/disewakan-rumah-nyaman... -6.893330  \n",
       "https://www.lamudi.co.id/rumah-nyaman-full-furn... -6.954875  \n",
       "https://www.lamudi.co.id/disewa-rumah-siap-huni... -6.811670  \n",
       "https://www.lamudi.co.id/rumah-bagus-di-mekar-w... -6.957220  "
      ],
      "text/html": [
       "<div>\n",
       "<style scoped>\n",
       "    .dataframe tbody tr th:only-of-type {\n",
       "        vertical-align: middle;\n",
       "    }\n",
       "\n",
       "    .dataframe tbody tr th {\n",
       "        vertical-align: top;\n",
       "    }\n",
       "\n",
       "    .dataframe thead th {\n",
       "        text-align: right;\n",
       "    }\n",
       "</style>\n",
       "<table border=\"1\" class=\"dataframe\">\n",
       "  <thead>\n",
       "    <tr style=\"text-align: right;\">\n",
       "      <th></th>\n",
       "      <th>bedrooms</th>\n",
       "      <th>bathrooms</th>\n",
       "      <th>floors</th>\n",
       "      <th>land_area</th>\n",
       "      <th>building_area</th>\n",
       "      <th>longitude</th>\n",
       "      <th>latitude</th>\n",
       "    </tr>\n",
       "    <tr>\n",
       "      <th>url</th>\n",
       "      <th></th>\n",
       "      <th></th>\n",
       "      <th></th>\n",
       "      <th></th>\n",
       "      <th></th>\n",
       "      <th></th>\n",
       "      <th></th>\n",
       "    </tr>\n",
       "  </thead>\n",
       "  <tbody>\n",
       "    <tr>\n",
       "      <th>https://www.lamudi.co.id/disewa-rumah-baru-minimalis-di-taman-kopo-indah-5-170061569879.html</th>\n",
       "      <td>2.0</td>\n",
       "      <td>NaN</td>\n",
       "      <td>1.0</td>\n",
       "      <td>126.0</td>\n",
       "      <td>100.0</td>\n",
       "      <td>107.380280</td>\n",
       "      <td>-6.821670</td>\n",
       "    </tr>\n",
       "    <tr>\n",
       "      <th>https://www.lamudi.co.id/disewakan-rumah-nyaman-berdampingan-di-cikutra-169381583375.html</th>\n",
       "      <td>1.0</td>\n",
       "      <td>1.0</td>\n",
       "      <td>NaN</td>\n",
       "      <td>200.0</td>\n",
       "      <td>37.0</td>\n",
       "      <td>107.638060</td>\n",
       "      <td>-6.893330</td>\n",
       "    </tr>\n",
       "    <tr>\n",
       "      <th>https://www.lamudi.co.id/rumah-nyaman-full-furnish-di-cluster-setra-duta-ba-169382206322.html</th>\n",
       "      <td>4.0</td>\n",
       "      <td>4.0</td>\n",
       "      <td>1.0</td>\n",
       "      <td>144.0</td>\n",
       "      <td>200.0</td>\n",
       "      <td>107.621282</td>\n",
       "      <td>-6.954875</td>\n",
       "    </tr>\n",
       "    <tr>\n",
       "      <th>https://www.lamudi.co.id/disewa-rumah-siap-huni-terawat-strategis-di-buah-b-169621193557.html</th>\n",
       "      <td>8.0</td>\n",
       "      <td>4.0</td>\n",
       "      <td>1.0</td>\n",
       "      <td>350.0</td>\n",
       "      <td>450.0</td>\n",
       "      <td>107.624440</td>\n",
       "      <td>-6.811670</td>\n",
       "    </tr>\n",
       "    <tr>\n",
       "      <th>https://www.lamudi.co.id/rumah-bagus-di-mekar-wangi-di-bandung-bojong-loa-170037510330.html</th>\n",
       "      <td>4.0</td>\n",
       "      <td>4.0</td>\n",
       "      <td>1.0</td>\n",
       "      <td>300.0</td>\n",
       "      <td>400.0</td>\n",
       "      <td>107.610560</td>\n",
       "      <td>-6.957220</td>\n",
       "    </tr>\n",
       "  </tbody>\n",
       "</table>\n",
       "</div>"
      ]
     },
     "execution_count": 32,
     "metadata": {},
     "output_type": "execute_result"
    }
   ],
   "execution_count": 32
  },
  {
   "cell_type": "code",
   "metadata": {
    "colab": {
     "base_uri": "https://localhost:8080/"
    },
    "id": "17Wl3Cwk44gO",
    "outputId": "078049e5-3e72-4605-82fd-4f6e32351a20",
    "ExecuteTime": {
     "end_time": "2024-08-07T17:24:53.808898Z",
     "start_time": "2024-08-07T17:24:53.799087Z"
    }
   },
   "source": [
    "# Validate (JUST RUN THE CODE)\n",
    "print('Shape of y train after dropped:', y_train_dropped.shape)\n",
    "y_train_dropped.head()"
   ],
   "outputs": [
    {
     "name": "stdout",
     "output_type": "stream",
     "text": [
      "Shape of y train after dropped: (1182,)\n"
     ]
    },
    {
     "data": {
      "text/plain": [
       "url\n",
       "https://www.lamudi.co.id/disewa-rumah-baru-minimalis-di-taman-kopo-indah-5-170061569879.html      47500000.0\n",
       "https://www.lamudi.co.id/disewakan-rumah-nyaman-berdampingan-di-cikutra-169381583375.html         20000000.0\n",
       "https://www.lamudi.co.id/rumah-nyaman-full-furnish-di-cluster-setra-duta-ba-169382206322.html     79000000.0\n",
       "https://www.lamudi.co.id/disewa-rumah-siap-huni-terawat-strategis-di-buah-b-169621193557.html    150000000.0\n",
       "https://www.lamudi.co.id/rumah-bagus-di-mekar-wangi-di-bandung-bojong-loa-170037510330.html      135000000.0\n",
       "Name: price, dtype: float64"
      ]
     },
     "execution_count": 33,
     "metadata": {},
     "output_type": "execute_result"
    }
   ],
   "execution_count": 33
  },
  {
   "cell_type": "markdown",
   "metadata": {
    "id": "XTCi8fDc576h"
   },
   "source": [
    "- Great!\n",
    "- Next, we replace the missing `longitude` and `latitude` to `np.nan`\n",
    "- Please recall the definition of missing `longitude` and `latitude` in the EDA section"
   ]
  },
  {
   "cell_type": "code",
   "metadata": {
    "id": "-mVCP54s6INN",
    "ExecuteTime": {
     "end_time": "2024-08-07T17:24:53.819914Z",
     "start_time": "2024-08-07T17:24:53.810006Z"
    }
   },
   "source": [
    "######################################################################\n",
    "# Replace the missing longitude and latitude to np.nan\n",
    "# Write your code here (2 pts)\n",
    "######################################################################\n",
    "min_longitude = 95.0\n",
    "max_longitude = 141.0\n",
    "min_latitude = -11.0\n",
    "max_latitude = -6.1\n",
    "\n",
    "is_valid_longitude = (X_train_dropped['longitude'] >= min_longitude) & (X_train_dropped['longitude'] <= max_longitude)\n",
    "is_valid_latitude = (X_train_dropped['latitude'] >= min_latitude) & (X_train_dropped['latitude'] <= max_latitude)\n",
    "\n",
    "X_train_dropped[\"longitude\"] = np.where(\n",
    "    is_valid_longitude,\n",
    "    X_train_dropped[\"longitude\"], np.nan,                        \n",
    ")\n",
    "\n",
    "X_train_dropped[\"latitude\"] = np.where(\n",
    "    is_valid_latitude,\n",
    "    X_train_dropped[\"latitude\"], np.nan,                         \n",
    ")"
   ],
   "outputs": [],
   "execution_count": 34
  },
  {
   "cell_type": "markdown",
   "metadata": {
    "id": "OyNfuPaH88ek"
   },
   "source": [
    "- Then, replace the `floors` of 0.0 to 1.0"
   ]
  },
  {
   "cell_type": "code",
   "metadata": {
    "id": "0z0dfzEI9FpT",
    "ExecuteTime": {
     "end_time": "2024-08-07T17:24:53.829776Z",
     "start_time": "2024-08-07T17:24:53.821340Z"
    }
   },
   "source": [
    "######################################################################\n",
    "# Replace the 0.0 floors to 1.0\n",
    "# Write your code here (1 pts)\n",
    "######################################################################\n",
    "X_train_dropped[\"floors\"] = np.where(X_train_dropped['floors'] < 1, 1, X_train_dropped['floors'])"
   ],
   "outputs": [],
   "execution_count": 35
  },
  {
   "cell_type": "code",
   "metadata": {
    "colab": {
     "base_uri": "https://localhost:8080/"
    },
    "id": "n6_m-xtS6FjG",
    "outputId": "3b9783d8-1883-438b-9a02-02ebef04847a",
    "ExecuteTime": {
     "end_time": "2024-08-07T17:24:53.852282Z",
     "start_time": "2024-08-07T17:24:53.830781Z"
    }
   },
   "source": [
    "# Validate (JUST RUN THE CODE)\n",
    "X_train_dropped.describe()"
   ],
   "outputs": [
    {
     "data": {
      "text/plain": [
       "          bedrooms    bathrooms       floors    land_area  building_area  \\\n",
       "count  1132.000000  1131.000000  1127.000000  1118.000000    1127.000000   \n",
       "mean      3.409011     2.355438     1.045253   181.546512     162.645075   \n",
       "std       1.320326     1.086976     0.216323   144.018231     117.421369   \n",
       "min       1.000000     1.000000     1.000000    30.000000      25.000000   \n",
       "25%       2.000000     2.000000     1.000000   105.000000      90.000000   \n",
       "50%       3.000000     2.000000     1.000000   136.000000     126.000000   \n",
       "75%       4.000000     3.000000     1.000000   200.000000     200.000000   \n",
       "max      11.000000     8.000000     3.000000  1600.000000    1000.000000   \n",
       "\n",
       "         longitude     latitude  \n",
       "count  1150.000000  1151.000000  \n",
       "mean    107.602525    -6.900030  \n",
       "std       0.195707     0.130380  \n",
       "min     106.904854    -7.561604  \n",
       "25%     107.584720    -6.948904  \n",
       "50%     107.621282    -6.919270  \n",
       "75%     107.643735    -6.870142  \n",
       "max     108.388860    -6.284746  "
      ],
      "text/html": [
       "<div>\n",
       "<style scoped>\n",
       "    .dataframe tbody tr th:only-of-type {\n",
       "        vertical-align: middle;\n",
       "    }\n",
       "\n",
       "    .dataframe tbody tr th {\n",
       "        vertical-align: top;\n",
       "    }\n",
       "\n",
       "    .dataframe thead th {\n",
       "        text-align: right;\n",
       "    }\n",
       "</style>\n",
       "<table border=\"1\" class=\"dataframe\">\n",
       "  <thead>\n",
       "    <tr style=\"text-align: right;\">\n",
       "      <th></th>\n",
       "      <th>bedrooms</th>\n",
       "      <th>bathrooms</th>\n",
       "      <th>floors</th>\n",
       "      <th>land_area</th>\n",
       "      <th>building_area</th>\n",
       "      <th>longitude</th>\n",
       "      <th>latitude</th>\n",
       "    </tr>\n",
       "  </thead>\n",
       "  <tbody>\n",
       "    <tr>\n",
       "      <th>count</th>\n",
       "      <td>1132.000000</td>\n",
       "      <td>1131.000000</td>\n",
       "      <td>1127.000000</td>\n",
       "      <td>1118.000000</td>\n",
       "      <td>1127.000000</td>\n",
       "      <td>1150.000000</td>\n",
       "      <td>1151.000000</td>\n",
       "    </tr>\n",
       "    <tr>\n",
       "      <th>mean</th>\n",
       "      <td>3.409011</td>\n",
       "      <td>2.355438</td>\n",
       "      <td>1.045253</td>\n",
       "      <td>181.546512</td>\n",
       "      <td>162.645075</td>\n",
       "      <td>107.602525</td>\n",
       "      <td>-6.900030</td>\n",
       "    </tr>\n",
       "    <tr>\n",
       "      <th>std</th>\n",
       "      <td>1.320326</td>\n",
       "      <td>1.086976</td>\n",
       "      <td>0.216323</td>\n",
       "      <td>144.018231</td>\n",
       "      <td>117.421369</td>\n",
       "      <td>0.195707</td>\n",
       "      <td>0.130380</td>\n",
       "    </tr>\n",
       "    <tr>\n",
       "      <th>min</th>\n",
       "      <td>1.000000</td>\n",
       "      <td>1.000000</td>\n",
       "      <td>1.000000</td>\n",
       "      <td>30.000000</td>\n",
       "      <td>25.000000</td>\n",
       "      <td>106.904854</td>\n",
       "      <td>-7.561604</td>\n",
       "    </tr>\n",
       "    <tr>\n",
       "      <th>25%</th>\n",
       "      <td>2.000000</td>\n",
       "      <td>2.000000</td>\n",
       "      <td>1.000000</td>\n",
       "      <td>105.000000</td>\n",
       "      <td>90.000000</td>\n",
       "      <td>107.584720</td>\n",
       "      <td>-6.948904</td>\n",
       "    </tr>\n",
       "    <tr>\n",
       "      <th>50%</th>\n",
       "      <td>3.000000</td>\n",
       "      <td>2.000000</td>\n",
       "      <td>1.000000</td>\n",
       "      <td>136.000000</td>\n",
       "      <td>126.000000</td>\n",
       "      <td>107.621282</td>\n",
       "      <td>-6.919270</td>\n",
       "    </tr>\n",
       "    <tr>\n",
       "      <th>75%</th>\n",
       "      <td>4.000000</td>\n",
       "      <td>3.000000</td>\n",
       "      <td>1.000000</td>\n",
       "      <td>200.000000</td>\n",
       "      <td>200.000000</td>\n",
       "      <td>107.643735</td>\n",
       "      <td>-6.870142</td>\n",
       "    </tr>\n",
       "    <tr>\n",
       "      <th>max</th>\n",
       "      <td>11.000000</td>\n",
       "      <td>8.000000</td>\n",
       "      <td>3.000000</td>\n",
       "      <td>1600.000000</td>\n",
       "      <td>1000.000000</td>\n",
       "      <td>108.388860</td>\n",
       "      <td>-6.284746</td>\n",
       "    </tr>\n",
       "  </tbody>\n",
       "</table>\n",
       "</div>"
      ]
     },
     "execution_count": 36,
     "metadata": {},
     "output_type": "execute_result"
    }
   ],
   "execution_count": 36
  },
  {
   "cell_type": "code",
   "metadata": {
    "colab": {
     "base_uri": "https://localhost:8080/"
    },
    "id": "r36uiszb6Ilc",
    "outputId": "19b0b7f8-48ad-46ca-c458-4d13552d5775",
    "ExecuteTime": {
     "end_time": "2024-08-07T17:24:55.279282Z",
     "start_time": "2024-08-07T17:24:53.853082Z"
    }
   },
   "source": [
    "# Plot histogram (JUST RUN THE CODE)\n",
    "fig, ax = plt.subplots(nrows=3, ncols=3, figsize=(12, 8))\n",
    "axes = ax.flatten()\n",
    "\n",
    "for i, col in enumerate(X_train_dropped.columns):\n",
    "    sns.kdeplot(X_train_dropped[col], ax=axes[i])\n",
    "    axes[i].set_title(f'Distribution of {col}')\n",
    "\n",
    "plt.tight_layout()\n",
    "plt.show()"
   ],
   "outputs": [
    {
     "data": {
      "text/plain": [
       "<Figure size 1200x800 with 9 Axes>"
      ],
      "image/png": "[encoded data removed]"
     },
     "metadata": {},
     "output_type": "display_data"
    }
   ],
   "execution_count": 37
  },
  {
   "cell_type": "code",
   "metadata": {
    "colab": {
     "base_uri": "https://localhost:8080/"
    },
    "id": "FmBfHyPI9tvW",
    "outputId": "dd8f0acd-4d74-4d34-ced1-084bd5a34067",
    "ExecuteTime": {
     "end_time": "2024-08-07T17:24:55.477828Z",
     "start_time": "2024-08-07T17:24:55.280111Z"
    }
   },
   "source": [
    "# Create a heatmap (JUST RUN THE CODE)\n",
    "corr = train_data.corr()\n",
    "sns.heatmap(corr, annot=True)\n",
    "plt.show()"
   ],
   "outputs": [
    {
     "data": {
      "text/plain": [
       "<Figure size 640x480 with 2 Axes>"
      ],
      "image/png": "[encoded data removed]"
     },
     "metadata": {},
     "output_type": "display_data"
    }
   ],
   "execution_count": 38
  },
  {
   "cell_type": "code",
   "metadata": {
    "colab": {
     "base_uri": "https://localhost:8080/"
    },
    "id": "ligx20lH_tns",
    "outputId": "78076952-8246-4363-a085-50c564f04652",
    "ExecuteTime": {
     "end_time": "2024-08-07T17:24:55.635066Z",
     "start_time": "2024-08-07T17:24:55.478655Z"
    }
   },
   "source": [
    "# Visualize price distribution (JUST RUN THE CODE)\n",
    "sns.kdeplot(y_train_dropped)\n",
    "plt.title(f'Distribution of Price')\n",
    "plt.show()"
   ],
   "outputs": [
    {
     "data": {
      "text/plain": [
       "<Figure size 640x480 with 1 Axes>"
      ],
      "image/png": "[encoded data removed]"
     },
     "metadata": {},
     "output_type": "display_data"
    }
   ],
   "execution_count": 39
  },
  {
   "cell_type": "markdown",
   "metadata": {
    "id": "tUARDkuwIm7D"
   },
   "source": [
    "#### 2.4. Create Imputation (3 pts)\n",
    "---"
   ]
  },
  {
   "cell_type": "markdown",
   "metadata": {
    "id": "squyrSVbJ5dc"
   },
   "source": [
    "- Now, let's perform a numerical imputation (because all features are numerical)\n",
    "- First check the missing value of the numerical data"
   ]
  },
  {
   "cell_type": "code",
   "metadata": {
    "colab": {
     "base_uri": "https://localhost:8080/"
    },
    "id": "cVMwSr35MyCf",
    "outputId": "e1cfb76e-6bbb-4c10-d8a6-95bd04d76f82",
    "ExecuteTime": {
     "end_time": "2024-08-07T17:24:55.640106Z",
     "start_time": "2024-08-07T17:24:55.635840Z"
    }
   },
   "source": [
    "# Check missing value (JUST RUN THE CODE)\n",
    "X_train_dropped.isna().sum(0)"
   ],
   "outputs": [
    {
     "data": {
      "text/plain": [
       "bedrooms         50\n",
       "bathrooms        51\n",
       "floors           55\n",
       "land_area        64\n",
       "building_area    55\n",
       "longitude        32\n",
       "latitude         31\n",
       "dtype: int64"
      ]
     },
     "execution_count": 40,
     "metadata": {},
     "output_type": "execute_result"
    }
   ],
   "execution_count": 40
  },
  {
   "cell_type": "markdown",
   "metadata": {
    "id": "qli0bc7TIm7H"
   },
   "source": [
    "- Create a function to fit a numerical features imputer"
   ]
  },
  {
   "cell_type": "code",
   "metadata": {
    "id": "S9xCqY1vIm7I",
    "ExecuteTime": {
     "end_time": "2024-08-07T17:24:55.714839Z",
     "start_time": "2024-08-07T17:24:55.641013Z"
    }
   },
   "source": [
    "####################################################\n",
    "# Create function to fit & transform numerical imputers\n",
    "# The fit function is called by num_imputer_fit\n",
    "# - it needs 1 input, the data (pd.DataFrame)\n",
    "# - the missing value is np.nan\n",
    "# - the imputation strategy is median\n",
    "# - it return the imputer\n",
    "#\n",
    "# The transform function is called by num_imputer_transform\n",
    "# - it needs 2 input, data (pd.DataFrame) and imputer (sklearn object)\n",
    "# - it return the imputed data in pd.DataFrame format\n",
    "#\n",
    "# Write your code here\n",
    "####################################################\n",
    "from sklearn.impute import SimpleImputer\n",
    "\n",
    "def num_imputer_fit(data):\n",
    "    imputer = SimpleImputer(missing_values=np.nan, strategy='median')\n",
    "    imputer.fit(data)\n",
    "    return imputer\n",
    "\n",
    "def imputer_transform(data, imputer):\n",
    "    imputed_data = imputer.transform(data)\n",
    "    imputed_data = pd.DataFrame(imputed_data, columns=data.columns, index=data.index)\n",
    "    return imputed_data"
   ],
   "outputs": [],
   "execution_count": 41
  },
  {
   "cell_type": "markdown",
   "metadata": {
    "id": "k3-99ZrM1-uU"
   },
   "source": [
    "- Perform imputation"
   ]
  },
  {
   "cell_type": "code",
   "metadata": {
    "id": "6M8Ea7ybH7B3",
    "ExecuteTime": {
     "end_time": "2024-08-07T17:24:55.721984Z",
     "start_time": "2024-08-07T17:24:55.717268Z"
    }
   },
   "source": [
    "# Get the numerical imputer\n",
    "num_imputer = num_imputer_fit(X_train_dropped) # Write your code here\n",
    "\n",
    "# Transform the data\n",
    "X_train_imputed = imputer_transform(X_train_dropped, num_imputer) # Write your code here"
   ],
   "outputs": [],
   "execution_count": 42
  },
  {
   "cell_type": "code",
   "metadata": {
    "colab": {
     "base_uri": "https://localhost:8080/"
    },
    "id": "xkI8me6a2GNN",
    "outputId": "48433ee2-7752-4431-f615-75007d37c94c",
    "ExecuteTime": {
     "end_time": "2024-08-07T17:24:55.730946Z",
     "start_time": "2024-08-07T17:24:55.723069Z"
    }
   },
   "source": [
    "# Validate (JUST RUN THE CODE)\n",
    "X_train_imputed.isna().sum(0)"
   ],
   "outputs": [
    {
     "data": {
      "text/plain": [
       "bedrooms         0\n",
       "bathrooms        0\n",
       "floors           0\n",
       "land_area        0\n",
       "building_area    0\n",
       "longitude        0\n",
       "latitude         0\n",
       "dtype: int64"
      ]
     },
     "execution_count": 43,
     "metadata": {},
     "output_type": "execute_result"
    }
   ],
   "execution_count": 43
  },
  {
   "cell_type": "markdown",
   "metadata": {
    "id": "qIqhlTq42cDa"
   },
   "source": [
    "Great!"
   ]
  },
  {
   "cell_type": "markdown",
   "metadata": {
    "id": "VD93lAeX8ktW"
   },
   "source": [
    "#### 2.5. Feature engineering the data (3 pts)\n",
    "---"
   ]
  },
  {
   "cell_type": "markdown",
   "metadata": {
    "id": "p5D3MxPmReOv"
   },
   "source": [
    "- We standardize the data so that it can perform well during model optimization (4 pts)"
   ]
  },
  {
   "cell_type": "code",
   "metadata": {
    "id": "s7Jq_KCcBMBu",
    "ExecuteTime": {
     "end_time": "2024-08-07T17:24:55.739944Z",
     "start_time": "2024-08-07T17:24:55.731829Z"
    }
   },
   "source": [
    "####################################################\n",
    "# Create two functions to perform scaling & transform scaling\n",
    "# The scaling is Standardization\n",
    "# The first function is to fit the scaler, called by fit_scaler\n",
    "# - You need an input, a data (pd.Dataframe)\n",
    "# - You create a standardization scaler (please use sklearn)\n",
    "# - Your output is the scaler\n",
    "#\n",
    "# The second function is to transform data using scaler, called by transform_scaler\n",
    "# - There are two inputs, a data (pd.Dataframe), a scaler (sklearn object)\n",
    "# - You scaled the data, then return the scaled data\n",
    "# Write your code here\n",
    "####################################################\n",
    "from sklearn.preprocessing import StandardScaler\n",
    "\n",
    "\n",
    "def fit_scaler(data):\n",
    "    scaler = StandardScaler()\n",
    "    scaler.fit(data)\n",
    "    return scaler\n",
    "\n",
    "\n",
    "def transform_scaler(data, scaler):\n",
    "    scaled_data_raw = scaler.transform(data)\n",
    "    scaled_dataframe = pd.DataFrame(scaled_data_raw, columns=data.columns, index=data.index)\n",
    "    return scaled_dataframe"
   ],
   "outputs": [],
   "execution_count": 44
  },
  {
   "cell_type": "code",
   "metadata": {
    "id": "H1ipNmwgB6V8",
    "ExecuteTime": {
     "end_time": "2024-08-07T17:24:55.751883Z",
     "start_time": "2024-08-07T17:24:55.740930Z"
    }
   },
   "source": [
    "# Fit the scaler\n",
    "scaler = fit_scaler(X_train_imputed) # Write your code here\n",
    "\n",
    "# Transform the scaler\n",
    "X_train_clean = transform_scaler(X_train_imputed, scaler) # Write your code here"
   ],
   "outputs": [],
   "execution_count": 45
  },
  {
   "cell_type": "code",
   "metadata": {
    "colab": {
     "base_uri": "https://localhost:8080/"
    },
    "id": "OLeIPoDGTIlc",
    "outputId": "87e7008c-4f86-44c9-e3c0-50b3db0c8e1e",
    "ExecuteTime": {
     "end_time": "2024-08-07T17:24:55.774231Z",
     "start_time": "2024-08-07T17:24:55.752736Z"
    }
   },
   "source": [
    "# Validate (JUST RUN THE CODE)\n",
    "X_train_clean.describe().round(4)"
   ],
   "outputs": [
    {
     "data": {
      "text/plain": [
       "        bedrooms  bathrooms     floors  land_area  building_area  longitude  \\\n",
       "count  1182.0000  1182.0000  1182.0000  1182.0000      1182.0000  1182.0000   \n",
       "mean      0.0000    -0.0000     0.0000     0.0000         0.0000     0.0000   \n",
       "std       1.0004     1.0004     1.0004     1.0004         1.0004     1.0004   \n",
       "min      -1.8481    -1.2580    -0.2041    -1.0620        -1.1835    -3.6179   \n",
       "25%      -1.0754    -0.3193    -0.2041    -0.5277        -0.6176    -0.0949   \n",
       "50%      -0.3027    -0.3193    -0.2041    -0.3069        -0.3042     0.0946   \n",
       "75%       0.4700     0.6195    -0.2041     0.1490         0.3400     0.1959   \n",
       "max       5.8790     5.3132     9.2587    10.1219         7.3047     4.0721   \n",
       "\n",
       "        latitude  \n",
       "count  1182.0000  \n",
       "mean     -0.0000  \n",
       "std       1.0004  \n",
       "min      -5.1389  \n",
       "25%      -0.3760  \n",
       "50%      -0.1456  \n",
       "75%       0.2235  \n",
       "max       4.7869  "
      ],
      "text/html": [
       "<div>\n",
       "<style scoped>\n",
       "    .dataframe tbody tr th:only-of-type {\n",
       "        vertical-align: middle;\n",
       "    }\n",
       "\n",
       "    .dataframe tbody tr th {\n",
       "        vertical-align: top;\n",
       "    }\n",
       "\n",
       "    .dataframe thead th {\n",
       "        text-align: right;\n",
       "    }\n",
       "</style>\n",
       "<table border=\"1\" class=\"dataframe\">\n",
       "  <thead>\n",
       "    <tr style=\"text-align: right;\">\n",
       "      <th></th>\n",
       "      <th>bedrooms</th>\n",
       "      <th>bathrooms</th>\n",
       "      <th>floors</th>\n",
       "      <th>land_area</th>\n",
       "      <th>building_area</th>\n",
       "      <th>longitude</th>\n",
       "      <th>latitude</th>\n",
       "    </tr>\n",
       "  </thead>\n",
       "  <tbody>\n",
       "    <tr>\n",
       "      <th>count</th>\n",
       "      <td>1182.0000</td>\n",
       "      <td>1182.0000</td>\n",
       "      <td>1182.0000</td>\n",
       "      <td>1182.0000</td>\n",
       "      <td>1182.0000</td>\n",
       "      <td>1182.0000</td>\n",
       "      <td>1182.0000</td>\n",
       "    </tr>\n",
       "    <tr>\n",
       "      <th>mean</th>\n",
       "      <td>0.0000</td>\n",
       "      <td>-0.0000</td>\n",
       "      <td>0.0000</td>\n",
       "      <td>0.0000</td>\n",
       "      <td>0.0000</td>\n",
       "      <td>0.0000</td>\n",
       "      <td>-0.0000</td>\n",
       "    </tr>\n",
       "    <tr>\n",
       "      <th>std</th>\n",
       "      <td>1.0004</td>\n",
       "      <td>1.0004</td>\n",
       "      <td>1.0004</td>\n",
       "      <td>1.0004</td>\n",
       "      <td>1.0004</td>\n",
       "      <td>1.0004</td>\n",
       "      <td>1.0004</td>\n",
       "    </tr>\n",
       "    <tr>\n",
       "      <th>min</th>\n",
       "      <td>-1.8481</td>\n",
       "      <td>-1.2580</td>\n",
       "      <td>-0.2041</td>\n",
       "      <td>-1.0620</td>\n",
       "      <td>-1.1835</td>\n",
       "      <td>-3.6179</td>\n",
       "      <td>-5.1389</td>\n",
       "    </tr>\n",
       "    <tr>\n",
       "      <th>25%</th>\n",
       "      <td>-1.0754</td>\n",
       "      <td>-0.3193</td>\n",
       "      <td>-0.2041</td>\n",
       "      <td>-0.5277</td>\n",
       "      <td>-0.6176</td>\n",
       "      <td>-0.0949</td>\n",
       "      <td>-0.3760</td>\n",
       "    </tr>\n",
       "    <tr>\n",
       "      <th>50%</th>\n",
       "      <td>-0.3027</td>\n",
       "      <td>-0.3193</td>\n",
       "      <td>-0.2041</td>\n",
       "      <td>-0.3069</td>\n",
       "      <td>-0.3042</td>\n",
       "      <td>0.0946</td>\n",
       "      <td>-0.1456</td>\n",
       "    </tr>\n",
       "    <tr>\n",
       "      <th>75%</th>\n",
       "      <td>0.4700</td>\n",
       "      <td>0.6195</td>\n",
       "      <td>-0.2041</td>\n",
       "      <td>0.1490</td>\n",
       "      <td>0.3400</td>\n",
       "      <td>0.1959</td>\n",
       "      <td>0.2235</td>\n",
       "    </tr>\n",
       "    <tr>\n",
       "      <th>max</th>\n",
       "      <td>5.8790</td>\n",
       "      <td>5.3132</td>\n",
       "      <td>9.2587</td>\n",
       "      <td>10.1219</td>\n",
       "      <td>7.3047</td>\n",
       "      <td>4.0721</td>\n",
       "      <td>4.7869</td>\n",
       "    </tr>\n",
       "  </tbody>\n",
       "</table>\n",
       "</div>"
      ]
     },
     "execution_count": 46,
     "metadata": {},
     "output_type": "execute_result"
    }
   ],
   "execution_count": 46
  },
  {
   "cell_type": "markdown",
   "metadata": {
    "id": "QiJ-dDJ98ktg"
   },
   "source": [
    "Great!"
   ]
  },
  {
   "cell_type": "markdown",
   "metadata": {
    "id": "3oQY9GhDTUpI"
   },
   "source": [
    "#### 2.6. Create the preprocess function (4 pts)\n",
    "---"
   ]
  },
  {
   "cell_type": "markdown",
   "metadata": {
    "id": "08Q3aT2KTUpW"
   },
   "source": [
    "- Now, let's create a function to preprocess other set of data (valid & test) so that we can predict that"
   ]
  },
  {
   "cell_type": "code",
   "metadata": {
    "id": "nle2MYzV2crW",
    "ExecuteTime": {
     "end_time": "2024-08-07T17:24:55.779058Z",
     "start_time": "2024-08-07T17:24:55.775697Z"
    }
   },
   "source": [
    "####################################################\n",
    "# Create a function to preprocess the dataset\n",
    "# You called the function preprocess_data\n",
    "# - It needs many input\n",
    "#   - data, pd.DataFrame\n",
    "#   - num_imputer, the numerical imputer, sklearn object\n",
    "#   - scaler, the data scaler, sklearn object\n",
    "# - You preprocess the data following step 2.4 - 2.5\n",
    "# - You return the clean data\n",
    "#\n",
    "# Write your code here\n",
    "####################################################\n",
    "def preprocess_data(data, num_imputer, scaler):\n",
    "    X_imputed = imputer_transform(data, num_imputer)\n",
    "    X_clean = transform_scaler(X_imputed, scaler)\n",
    "    return X_clean"
   ],
   "outputs": [],
   "execution_count": 47
  },
  {
   "cell_type": "code",
   "metadata": {
    "colab": {
     "base_uri": "https://localhost:8080/"
    },
    "id": "bQ-MKqkLFgOD",
    "outputId": "8467a4da-60fb-47f9-9027-a4fb3b376f5a",
    "ExecuteTime": {
     "end_time": "2024-08-07T17:24:55.844069Z",
     "start_time": "2024-08-07T17:24:55.780240Z"
    }
   },
   "source": [
    "# Preprocess the data training again\n",
    "X_train_clean = preprocess_data(X_train_dropped, num_imputer, scaler) # Write your code here"
   ],
   "outputs": [],
   "execution_count": 48
  },
  {
   "cell_type": "code",
   "metadata": {
    "colab": {
     "base_uri": "https://localhost:8080/"
    },
    "id": "6eSeFeQ5GDWb",
    "outputId": "a31dbeaf-042c-4d78-d071-3ba0b340fb41",
    "ExecuteTime": {
     "end_time": "2024-08-07T17:24:55.858021Z",
     "start_time": "2024-08-07T17:24:55.845175Z"
    }
   },
   "source": [
    "# Validate (JUST RUN THE CODE)\n",
    "X_train_clean.head()"
   ],
   "outputs": [
    {
     "data": {
      "text/plain": [
       "                                                    bedrooms  bathrooms  \\\n",
       "url                                                                       \n",
       "https://www.lamudi.co.id/disewa-rumah-baru-mini... -1.075386  -0.319270   \n",
       "https://www.lamudi.co.id/disewakan-rumah-nyaman... -1.848094  -1.258018   \n",
       "https://www.lamudi.co.id/rumah-nyaman-full-furn...  0.470032   1.558227   \n",
       "https://www.lamudi.co.id/disewa-rumah-siap-huni...  3.560866   1.558227   \n",
       "https://www.lamudi.co.id/rumah-bagus-di-mekar-w...  0.470032   1.558227   \n",
       "\n",
       "                                                      floors  land_area  \\\n",
       "url                                                                       \n",
       "https://www.lamudi.co.id/disewa-rumah-baru-mini... -0.204149  -0.378116   \n",
       "https://www.lamudi.co.id/disewakan-rumah-nyaman... -0.204149   0.149020   \n",
       "https://www.lamudi.co.id/rumah-nyaman-full-furn... -0.204149  -0.249894   \n",
       "https://www.lamudi.co.id/disewa-rumah-siap-huni... -0.204149   1.217539   \n",
       "https://www.lamudi.co.id/rumah-bagus-di-mekar-w... -0.204149   0.861366   \n",
       "\n",
       "                                                    building_area  longitude  \\\n",
       "url                                                                            \n",
       "https://www.lamudi.co.id/disewa-rumah-baru-mini...      -0.530532  -1.154281   \n",
       "https://www.lamudi.co.id/disewakan-rumah-nyaman...      -1.078999   0.181508   \n",
       "https://www.lamudi.co.id/rumah-nyaman-full-furn...       0.340050   0.094564   \n",
       "https://www.lamudi.co.id/disewa-rumah-siap-huni...       2.516505   0.110930   \n",
       "https://www.lamudi.co.id/rumah-bagus-di-mekar-w...       2.081214   0.039005   \n",
       "\n",
       "                                                    latitude  \n",
       "url                                                           \n",
       "https://www.lamudi.co.id/disewa-rumah-baru-mini...  0.613066  \n",
       "https://www.lamudi.co.id/disewakan-rumah-nyaman...  0.056006  \n",
       "https://www.lamudi.co.id/rumah-nyaman-full-furn... -0.422420  \n",
       "https://www.lamudi.co.id/disewa-rumah-siap-huni...  0.690802  \n",
       "https://www.lamudi.co.id/rumah-bagus-di-mekar-w... -0.440653  "
      ],
      "text/html": [
       "<div>\n",
       "<style scoped>\n",
       "    .dataframe tbody tr th:only-of-type {\n",
       "        vertical-align: middle;\n",
       "    }\n",
       "\n",
       "    .dataframe tbody tr th {\n",
       "        vertical-align: top;\n",
       "    }\n",
       "\n",
       "    .dataframe thead th {\n",
       "        text-align: right;\n",
       "    }\n",
       "</style>\n",
       "<table border=\"1\" class=\"dataframe\">\n",
       "  <thead>\n",
       "    <tr style=\"text-align: right;\">\n",
       "      <th></th>\n",
       "      <th>bedrooms</th>\n",
       "      <th>bathrooms</th>\n",
       "      <th>floors</th>\n",
       "      <th>land_area</th>\n",
       "      <th>building_area</th>\n",
       "      <th>longitude</th>\n",
       "      <th>latitude</th>\n",
       "    </tr>\n",
       "    <tr>\n",
       "      <th>url</th>\n",
       "      <th></th>\n",
       "      <th></th>\n",
       "      <th></th>\n",
       "      <th></th>\n",
       "      <th></th>\n",
       "      <th></th>\n",
       "      <th></th>\n",
       "    </tr>\n",
       "  </thead>\n",
       "  <tbody>\n",
       "    <tr>\n",
       "      <th>https://www.lamudi.co.id/disewa-rumah-baru-minimalis-di-taman-kopo-indah-5-170061569879.html</th>\n",
       "      <td>-1.075386</td>\n",
       "      <td>-0.319270</td>\n",
       "      <td>-0.204149</td>\n",
       "      <td>-0.378116</td>\n",
       "      <td>-0.530532</td>\n",
       "      <td>-1.154281</td>\n",
       "      <td>0.613066</td>\n",
       "    </tr>\n",
       "    <tr>\n",
       "      <th>https://www.lamudi.co.id/disewakan-rumah-nyaman-berdampingan-di-cikutra-169381583375.html</th>\n",
       "      <td>-1.848094</td>\n",
       "      <td>-1.258018</td>\n",
       "      <td>-0.204149</td>\n",
       "      <td>0.149020</td>\n",
       "      <td>-1.078999</td>\n",
       "      <td>0.181508</td>\n",
       "      <td>0.056006</td>\n",
       "    </tr>\n",
       "    <tr>\n",
       "      <th>https://www.lamudi.co.id/rumah-nyaman-full-furnish-di-cluster-setra-duta-ba-169382206322.html</th>\n",
       "      <td>0.470032</td>\n",
       "      <td>1.558227</td>\n",
       "      <td>-0.204149</td>\n",
       "      <td>-0.249894</td>\n",
       "      <td>0.340050</td>\n",
       "      <td>0.094564</td>\n",
       "      <td>-0.422420</td>\n",
       "    </tr>\n",
       "    <tr>\n",
       "      <th>https://www.lamudi.co.id/disewa-rumah-siap-huni-terawat-strategis-di-buah-b-169621193557.html</th>\n",
       "      <td>3.560866</td>\n",
       "      <td>1.558227</td>\n",
       "      <td>-0.204149</td>\n",
       "      <td>1.217539</td>\n",
       "      <td>2.516505</td>\n",
       "      <td>0.110930</td>\n",
       "      <td>0.690802</td>\n",
       "    </tr>\n",
       "    <tr>\n",
       "      <th>https://www.lamudi.co.id/rumah-bagus-di-mekar-wangi-di-bandung-bojong-loa-170037510330.html</th>\n",
       "      <td>0.470032</td>\n",
       "      <td>1.558227</td>\n",
       "      <td>-0.204149</td>\n",
       "      <td>0.861366</td>\n",
       "      <td>2.081214</td>\n",
       "      <td>0.039005</td>\n",
       "      <td>-0.440653</td>\n",
       "    </tr>\n",
       "  </tbody>\n",
       "</table>\n",
       "</div>"
      ]
     },
     "execution_count": 49,
     "metadata": {},
     "output_type": "execute_result"
    }
   ],
   "execution_count": 49
  },
  {
   "cell_type": "code",
   "metadata": {
    "colab": {
     "base_uri": "https://localhost:8080/"
    },
    "id": "7_FpyWgVU5GH",
    "outputId": "c46aa6db-7279-4caf-b878-e6e0f3247184",
    "ExecuteTime": {
     "end_time": "2024-08-07T17:24:55.872571Z",
     "start_time": "2024-08-07T17:24:55.859074Z"
    }
   },
   "source": [
    "# Transform other set of data\n",
    "X_valid_clean = preprocess_data(X_valid, num_imputer, scaler) # Write your code here\n",
    "\n",
    "X_test_clean = preprocess_data(X_test, num_imputer, scaler) # Write your code here"
   ],
   "outputs": [],
   "execution_count": 50
  },
  {
   "cell_type": "markdown",
   "metadata": {
    "id": "9urW_teAVgRu"
   },
   "source": [
    "### 3. Training Machine Learning Models (43 pts)\n",
    "---"
   ]
  },
  {
   "cell_type": "markdown",
   "metadata": {
    "id": "ZQBCdRAVVgRv"
   },
   "source": [
    "```\n",
    "3.1 Prepare model evaluation function\n",
    "3.2 Train & evaluate several models\n",
    "3.3 Choose the best model\n",
    "```"
   ]
  },
  {
   "cell_type": "markdown",
   "metadata": {
    "id": "Oh66SXYnWcYo"
   },
   "source": [
    "#### 3.1. Preprare model evaluation function (10 pts)\n",
    "---"
   ]
  },
  {
   "cell_type": "markdown",
   "metadata": {
    "id": "ZSqSP6iyWiYf"
   },
   "source": [
    "- Before modeling, let's prepare two functions\n",
    "  - `extract_cv_results`: to return the score and best param from hyperparameter search\n",
    "  - `evaluate_model`: to return the RMSE of a model"
   ]
  },
  {
   "cell_type": "code",
   "metadata": {
    "id": "PXun1F0IWfjf",
    "ExecuteTime": {
     "end_time": "2024-08-07T17:24:55.882114Z",
     "start_time": "2024-08-07T17:24:55.873918Z"
    }
   },
   "source": [
    "####################################################\n",
    "# First, create a function to extract the CV results\n",
    "# - The function name is extract_cv_results\n",
    "# - It needs one input, called by `cv_obj` (a GridSearchCV sklearn object)\n",
    "# - It returns three output:\n",
    "#   1. the CV score on train set (float)\n",
    "#   2. the CV score on valid set (float)\n",
    "#   3. The best params (dictionary)\n",
    "#\n",
    "#\n",
    "# Next, create a function to evaluate model called `rmse`\n",
    "# - It needs 2 input\n",
    "#   - y_actual, the actual output (pd.DataFrame or numpy array)\n",
    "#   - y_pred, the predicted output (pd.DataFrame or numpy array)\n",
    "# - You calculate the model performance using root mean squared error metrics\n",
    "# - Then return the rmse\n",
    "#\n",
    "# Write your code here\n",
    "####################################################\n",
    "from sklearn.metrics import accuracy_score\n",
    "from sklearn.metrics import mean_squared_error\n",
    "\n",
    "def extract_cv_results(cv_obj):\n",
    "    train_score = cv_obj.score(X_train_clean, y_train_dropped)\n",
    "    valid_score = cv_obj.score(X_valid_clean, y_valid)\n",
    "    return train_score, valid_score, cv_obj.best_params_\n",
    "\n",
    "def rmse(y_actual, y_pred):\n",
    "    return np.sqrt(mean_squared_error(y_actual, y_pred))"
   ],
   "outputs": [],
   "execution_count": 51
  },
  {
   "cell_type": "markdown",
   "metadata": {
    "id": "eBXTMmkaZHfo"
   },
   "source": [
    "#### 3.2. Train and Cross Validate Several Models (23 pts)\n",
    "---"
   ]
  },
  {
   "cell_type": "markdown",
   "metadata": {
    "id": "rwv-WpIvZHfp"
   },
   "source": [
    "- Now, let's train & evaluate several models\n",
    "- You should check, which one of the following model is the best model\n",
    "\n",
    "  1. Baseline model (**3 pts**)\n",
    "  2. k-NN (**3 pts**)\n",
    "  3. Linear Regression (**4 pts**)\n",
    "  4. Decision Tree (**4 pts**)\n",
    "  5. Ridge (**4 pts**)\n",
    "  6. Lasso (**4 pts**)\n",
    "\n",
    "- We're going to perform a `GridSearchCV`, with\n",
    "  - number of CV = 10\n",
    "  - scoring = root mean squared error\n",
    "  - return the train score"
   ]
  },
  {
   "cell_type": "code",
   "metadata": {
    "id": "eZELHor_ZHfp",
    "ExecuteTime": {
     "end_time": "2024-08-07T17:25:00.291452Z",
     "start_time": "2024-08-07T17:25:00.283803Z"
    }
   },
   "source": [
    "####################################################\n",
    "# Import sklearn library of those six models + gridsearchcv\n",
    "# Write your code here\n",
    "# This is 1 pts\n",
    "####################################################\n",
    "from sklearn.dummy import DummyRegressor\n",
    "from sklearn.linear_model import LinearRegression, Lasso, Ridge\n",
    "from sklearn.neighbors import KNeighborsRegressor\n",
    "from sklearn.tree import DecisionTreeRegressor\n",
    "from sklearn.model_selection import GridSearchCV\n",
    "from sklearn.metrics import make_scorer"
   ],
   "outputs": [],
   "execution_count": 52
  },
  {
   "cell_type": "markdown",
   "metadata": {
    "id": "xzazP3o1AkF_"
   },
   "source": [
    "---\n",
    "##### Perform CV for baseline model (3 pts)\n",
    "- Return as `reg_base`"
   ]
  },
  {
   "cell_type": "code",
   "metadata": {
    "colab": {
     "base_uri": "https://localhost:8080/"
    },
    "id": "Lx1VGATKCFee",
    "outputId": "834492ba-25f8-4a90-b56c-2aa497b985ba",
    "ExecuteTime": {
     "end_time": "2024-08-07T17:25:02.508456Z",
     "start_time": "2024-08-07T17:25:02.481686Z"
    }
   },
   "source": [
    "####################################################\n",
    "# Perform GridSearchCV for Baseline model\n",
    "# return the results as reg_base\n",
    "# Write your code here\n",
    "####################################################\n",
    "reg_base = GridSearchCV(\n",
    "    cv=10, estimator=DummyRegressor(), param_grid={},\n",
    "    return_train_score=True, scoring=make_scorer(rmse)\n",
    ")\n",
    "reg_base.fit(X_train_clean, y_train_dropped)"
   ],
   "outputs": [
    {
     "data": {
      "text/plain": [
       "GridSearchCV(cv=10, estimator=DummyRegressor(), param_grid={},\n",
       "             return_train_score=True,\n",
       "             scoring=make_scorer(rmse, response_method='predict'))"
      ],
      "text/html": [
       "<style>#sk-container-id-1 {\n",
       "  /* Definition of color scheme common for light and dark mode */\n",
       "  --sklearn-color-text: black;\n",
       "  --sklearn-color-line: gray;\n",
       "  /* Definition of color scheme for unfitted estimators */\n",
       "  --sklearn-color-unfitted-level-0: #fff5e6;\n",
       "  --sklearn-color-unfitted-level-1: #f6e4d2;\n",
       "  --sklearn-color-unfitted-level-2: #ffe0b3;\n",
       "  --sklearn-color-unfitted-level-3: chocolate;\n",
       "  /* Definition of color scheme for fitted estimators */\n",
       "  --sklearn-color-fitted-level-0: #f0f8ff;\n",
       "  --sklearn-color-fitted-level-1: #d4ebff;\n",
       "  --sklearn-color-fitted-level-2: #b3dbfd;\n",
       "  --sklearn-color-fitted-level-3: cornflowerblue;\n",
       "\n",
       "  /* Specific color for light theme */\n",
       "  --sklearn-color-text-on-default-background: var(--sg-text-color, var(--theme-code-foreground, var(--jp-content-font-color1, black)));\n",
       "  --sklearn-color-background: var(--sg-background-color, var(--theme-background, var(--jp-layout-color0, white)));\n",
       "  --sklearn-color-border-box: var(--sg-text-color, var(--theme-code-foreground, var(--jp-content-font-color1, black)));\n",
       "  --sklearn-color-icon: #696969;\n",
       "\n",
       "  @media (prefers-color-scheme: dark) {\n",
       "    /* Redefinition of color scheme for dark theme */\n",
       "    --sklearn-color-text-on-default-background: var(--sg-text-color, var(--theme-code-foreground, var(--jp-content-font-color1, white)));\n",
       "    --sklearn-color-background: var(--sg-background-color, var(--theme-background, var(--jp-layout-color0, #111)));\n",
       "    --sklearn-color-border-box: var(--sg-text-color, var(--theme-code-foreground, var(--jp-content-font-color1, white)));\n",
       "    --sklearn-color-icon: #878787;\n",
       "  }\n",
       "}\n",
       "\n",
       "#sk-container-id-1 {\n",
       "  color: var(--sklearn-color-text);\n",
       "}\n",
       "\n",
       "#sk-container-id-1 pre {\n",
       "  padding: 0;\n",
       "}\n",
       "\n",
       "#sk-container-id-1 input.sk-hidden--visually {\n",
       "  border: 0;\n",
       "  clip: rect(1px 1px 1px 1px);\n",
       "  clip: rect(1px, 1px, 1px, 1px);\n",
       "  height: 1px;\n",
       "  margin: -1px;\n",
       "  overflow: hidden;\n",
       "  padding: 0;\n",
       "  position: absolute;\n",
       "  width: 1px;\n",
       "}\n",
       "\n",
       "#sk-container-id-1 div.sk-dashed-wrapped {\n",
       "  border: 1px dashed var(--sklearn-color-line);\n",
       "  margin: 0 0.4em 0.5em 0.4em;\n",
       "  box-sizing: border-box;\n",
       "  padding-bottom: 0.4em;\n",
       "  background-color: var(--sklearn-color-background);\n",
       "}\n",
       "\n",
       "#sk-container-id-1 div.sk-container {\n",
       "  /* jupyter's `normalize.less` sets `[hidden] { display: none; }`\n",
       "     but bootstrap.min.css set `[hidden] { display: none !important; }`\n",
       "     so we also need the `!important` here to be able to override the\n",
       "     default hidden behavior on the sphinx rendered scikit-learn.org.\n",
       "     See: https://github.com/scikit-learn/scikit-learn/issues/21755 */\n",
       "  display: inline-block !important;\n",
       "  position: relative;\n",
       "}\n",
       "\n",
       "#sk-container-id-1 div.sk-text-repr-fallback {\n",
       "  display: none;\n",
       "}\n",
       "\n",
       "div.sk-parallel-item,\n",
       "div.sk-serial,\n",
       "div.sk-item {\n",
       "  /* draw centered vertical line to link estimators */\n",
       "  background-image: linear-gradient(var(--sklearn-color-text-on-default-background), var(--sklearn-color-text-on-default-background));\n",
       "  background-size: 2px 100%;\n",
       "  background-repeat: no-repeat;\n",
       "  background-position: center center;\n",
       "}\n",
       "\n",
       "/* Parallel-specific style estimator block */\n",
       "\n",
       "#sk-container-id-1 div.sk-parallel-item::after {\n",
       "  content: \"\";\n",
       "  width: 100%;\n",
       "  border-bottom: 2px solid var(--sklearn-color-text-on-default-background);\n",
       "  flex-grow: 1;\n",
       "}\n",
       "\n",
       "#sk-container-id-1 div.sk-parallel {\n",
       "  display: flex;\n",
       "  align-items: stretch;\n",
       "  justify-content: center;\n",
       "  background-color: var(--sklearn-color-background);\n",
       "  position: relative;\n",
       "}\n",
       "\n",
       "#sk-container-id-1 div.sk-parallel-item {\n",
       "  display: flex;\n",
       "  flex-direction: column;\n",
       "}\n",
       "\n",
       "#sk-container-id-1 div.sk-parallel-item:first-child::after {\n",
       "  align-self: flex-end;\n",
       "  width: 50%;\n",
       "}\n",
       "\n",
       "#sk-container-id-1 div.sk-parallel-item:last-child::after {\n",
       "  align-self: flex-start;\n",
       "  width: 50%;\n",
       "}\n",
       "\n",
       "#sk-container-id-1 div.sk-parallel-item:only-child::after {\n",
       "  width: 0;\n",
       "}\n",
       "\n",
       "/* Serial-specific style estimator block */\n",
       "\n",
       "#sk-container-id-1 div.sk-serial {\n",
       "  display: flex;\n",
       "  flex-direction: column;\n",
       "  align-items: center;\n",
       "  background-color: var(--sklearn-color-background);\n",
       "  padding-right: 1em;\n",
       "  padding-left: 1em;\n",
       "}\n",
       "\n",
       "\n",
       "/* Toggleable style: style used for estimator/Pipeline/ColumnTransformer box that is\n",
       "clickable and can be expanded/collapsed.\n",
       "- Pipeline and ColumnTransformer use this feature and define the default style\n",
       "- Estimators will overwrite some part of the style using the `sk-estimator` class\n",
       "*/\n",
       "\n",
       "/* Pipeline and ColumnTransformer style (default) */\n",
       "\n",
       "#sk-container-id-1 div.sk-toggleable {\n",
       "  /* Default theme specific background. It is overwritten whether we have a\n",
       "  specific estimator or a Pipeline/ColumnTransformer */\n",
       "  background-color: var(--sklearn-color-background);\n",
       "}\n",
       "\n",
       "/* Toggleable label */\n",
       "#sk-container-id-1 label.sk-toggleable__label {\n",
       "  cursor: pointer;\n",
       "  display: block;\n",
       "  width: 100%;\n",
       "  margin-bottom: 0;\n",
       "  padding: 0.5em;\n",
       "  box-sizing: border-box;\n",
       "  text-align: center;\n",
       "}\n",
       "\n",
       "#sk-container-id-1 label.sk-toggleable__label-arrow:before {\n",
       "  /* Arrow on the left of the label */\n",
       "  content: \"▸\";\n",
       "  float: left;\n",
       "  margin-right: 0.25em;\n",
       "  color: var(--sklearn-color-icon);\n",
       "}\n",
       "\n",
       "#sk-container-id-1 label.sk-toggleable__label-arrow:hover:before {\n",
       "  color: var(--sklearn-color-text);\n",
       "}\n",
       "\n",
       "/* Toggleable content - dropdown */\n",
       "\n",
       "#sk-container-id-1 div.sk-toggleable__content {\n",
       "  max-height: 0;\n",
       "  max-width: 0;\n",
       "  overflow: hidden;\n",
       "  text-align: left;\n",
       "  /* unfitted */\n",
       "  background-color: var(--sklearn-color-unfitted-level-0);\n",
       "}\n",
       "\n",
       "#sk-container-id-1 div.sk-toggleable__content.fitted {\n",
       "  /* fitted */\n",
       "  background-color: var(--sklearn-color-fitted-level-0);\n",
       "}\n",
       "\n",
       "#sk-container-id-1 div.sk-toggleable__content pre {\n",
       "  margin: 0.2em;\n",
       "  border-radius: 0.25em;\n",
       "  color: var(--sklearn-color-text);\n",
       "  /* unfitted */\n",
       "  background-color: var(--sklearn-color-unfitted-level-0);\n",
       "}\n",
       "\n",
       "#sk-container-id-1 div.sk-toggleable__content.fitted pre {\n",
       "  /* unfitted */\n",
       "  background-color: var(--sklearn-color-fitted-level-0);\n",
       "}\n",
       "\n",
       "#sk-container-id-1 input.sk-toggleable__control:checked~div.sk-toggleable__content {\n",
       "  /* Expand drop-down */\n",
       "  max-height: 200px;\n",
       "  max-width: 100%;\n",
       "  overflow: auto;\n",
       "}\n",
       "\n",
       "#sk-container-id-1 input.sk-toggleable__control:checked~label.sk-toggleable__label-arrow:before {\n",
       "  content: \"▾\";\n",
       "}\n",
       "\n",
       "/* Pipeline/ColumnTransformer-specific style */\n",
       "\n",
       "#sk-container-id-1 div.sk-label input.sk-toggleable__control:checked~label.sk-toggleable__label {\n",
       "  color: var(--sklearn-color-text);\n",
       "  background-color: var(--sklearn-color-unfitted-level-2);\n",
       "}\n",
       "\n",
       "#sk-container-id-1 div.sk-label.fitted input.sk-toggleable__control:checked~label.sk-toggleable__label {\n",
       "  background-color: var(--sklearn-color-fitted-level-2);\n",
       "}\n",
       "\n",
       "/* Estimator-specific style */\n",
       "\n",
       "/* Colorize estimator box */\n",
       "#sk-container-id-1 div.sk-estimator input.sk-toggleable__control:checked~label.sk-toggleable__label {\n",
       "  /* unfitted */\n",
       "  background-color: var(--sklearn-color-unfitted-level-2);\n",
       "}\n",
       "\n",
       "#sk-container-id-1 div.sk-estimator.fitted input.sk-toggleable__control:checked~label.sk-toggleable__label {\n",
       "  /* fitted */\n",
       "  background-color: var(--sklearn-color-fitted-level-2);\n",
       "}\n",
       "\n",
       "#sk-container-id-1 div.sk-label label.sk-toggleable__label,\n",
       "#sk-container-id-1 div.sk-label label {\n",
       "  /* The background is the default theme color */\n",
       "  color: var(--sklearn-color-text-on-default-background);\n",
       "}\n",
       "\n",
       "/* On hover, darken the color of the background */\n",
       "#sk-container-id-1 div.sk-label:hover label.sk-toggleable__label {\n",
       "  color: var(--sklearn-color-text);\n",
       "  background-color: var(--sklearn-color-unfitted-level-2);\n",
       "}\n",
       "\n",
       "/* Label box, darken color on hover, fitted */\n",
       "#sk-container-id-1 div.sk-label.fitted:hover label.sk-toggleable__label.fitted {\n",
       "  color: var(--sklearn-color-text);\n",
       "  background-color: var(--sklearn-color-fitted-level-2);\n",
       "}\n",
       "\n",
       "/* Estimator label */\n",
       "\n",
       "#sk-container-id-1 div.sk-label label {\n",
       "  font-family: monospace;\n",
       "  font-weight: bold;\n",
       "  display: inline-block;\n",
       "  line-height: 1.2em;\n",
       "}\n",
       "\n",
       "#sk-container-id-1 div.sk-label-container {\n",
       "  text-align: center;\n",
       "}\n",
       "\n",
       "/* Estimator-specific */\n",
       "#sk-container-id-1 div.sk-estimator {\n",
       "  font-family: monospace;\n",
       "  border: 1px dotted var(--sklearn-color-border-box);\n",
       "  border-radius: 0.25em;\n",
       "  box-sizing: border-box;\n",
       "  margin-bottom: 0.5em;\n",
       "  /* unfitted */\n",
       "  background-color: var(--sklearn-color-unfitted-level-0);\n",
       "}\n",
       "\n",
       "#sk-container-id-1 div.sk-estimator.fitted {\n",
       "  /* fitted */\n",
       "  background-color: var(--sklearn-color-fitted-level-0);\n",
       "}\n",
       "\n",
       "/* on hover */\n",
       "#sk-container-id-1 div.sk-estimator:hover {\n",
       "  /* unfitted */\n",
       "  background-color: var(--sklearn-color-unfitted-level-2);\n",
       "}\n",
       "\n",
       "#sk-container-id-1 div.sk-estimator.fitted:hover {\n",
       "  /* fitted */\n",
       "  background-color: var(--sklearn-color-fitted-level-2);\n",
       "}\n",
       "\n",
       "/* Specification for estimator info (e.g. \"i\" and \"?\") */\n",
       "\n",
       "/* Common style for \"i\" and \"?\" */\n",
       "\n",
       ".sk-estimator-doc-link,\n",
       "a:link.sk-estimator-doc-link,\n",
       "a:visited.sk-estimator-doc-link {\n",
       "  float: right;\n",
       "  font-size: smaller;\n",
       "  line-height: 1em;\n",
       "  font-family: monospace;\n",
       "  background-color: var(--sklearn-color-background);\n",
       "  border-radius: 1em;\n",
       "  height: 1em;\n",
       "  width: 1em;\n",
       "  text-decoration: none !important;\n",
       "  margin-left: 1ex;\n",
       "  /* unfitted */\n",
       "  border: var(--sklearn-color-unfitted-level-1) 1pt solid;\n",
       "  color: var(--sklearn-color-unfitted-level-1);\n",
       "}\n",
       "\n",
       ".sk-estimator-doc-link.fitted,\n",
       "a:link.sk-estimator-doc-link.fitted,\n",
       "a:visited.sk-estimator-doc-link.fitted {\n",
       "  /* fitted */\n",
       "  border: var(--sklearn-color-fitted-level-1) 1pt solid;\n",
       "  color: var(--sklearn-color-fitted-level-1);\n",
       "}\n",
       "\n",
       "/* On hover */\n",
       "div.sk-estimator:hover .sk-estimator-doc-link:hover,\n",
       ".sk-estimator-doc-link:hover,\n",
       "div.sk-label-container:hover .sk-estimator-doc-link:hover,\n",
       ".sk-estimator-doc-link:hover {\n",
       "  /* unfitted */\n",
       "  background-color: var(--sklearn-color-unfitted-level-3);\n",
       "  color: var(--sklearn-color-background);\n",
       "  text-decoration: none;\n",
       "}\n",
       "\n",
       "div.sk-estimator.fitted:hover .sk-estimator-doc-link.fitted:hover,\n",
       ".sk-estimator-doc-link.fitted:hover,\n",
       "div.sk-label-container:hover .sk-estimator-doc-link.fitted:hover,\n",
       ".sk-estimator-doc-link.fitted:hover {\n",
       "  /* fitted */\n",
       "  background-color: var(--sklearn-color-fitted-level-3);\n",
       "  color: var(--sklearn-color-background);\n",
       "  text-decoration: none;\n",
       "}\n",
       "\n",
       "/* Span, style for the box shown on hovering the info icon */\n",
       ".sk-estimator-doc-link span {\n",
       "  display: none;\n",
       "  z-index: 9999;\n",
       "  position: relative;\n",
       "  font-weight: normal;\n",
       "  right: .2ex;\n",
       "  padding: .5ex;\n",
       "  margin: .5ex;\n",
       "  width: min-content;\n",
       "  min-width: 20ex;\n",
       "  max-width: 50ex;\n",
       "  color: var(--sklearn-color-text);\n",
       "  box-shadow: 2pt 2pt 4pt #999;\n",
       "  /* unfitted */\n",
       "  background: var(--sklearn-color-unfitted-level-0);\n",
       "  border: .5pt solid var(--sklearn-color-unfitted-level-3);\n",
       "}\n",
       "\n",
       ".sk-estimator-doc-link.fitted span {\n",
       "  /* fitted */\n",
       "  background: var(--sklearn-color-fitted-level-0);\n",
       "  border: var(--sklearn-color-fitted-level-3);\n",
       "}\n",
       "\n",
       ".sk-estimator-doc-link:hover span {\n",
       "  display: block;\n",
       "}\n",
       "\n",
       "/* \"?\"-specific style due to the `<a>` HTML tag */\n",
       "\n",
       "#sk-container-id-1 a.estimator_doc_link {\n",
       "  float: right;\n",
       "  font-size: 1rem;\n",
       "  line-height: 1em;\n",
       "  font-family: monospace;\n",
       "  background-color: var(--sklearn-color-background);\n",
       "  border-radius: 1rem;\n",
       "  height: 1rem;\n",
       "  width: 1rem;\n",
       "  text-decoration: none;\n",
       "  /* unfitted */\n",
       "  color: var(--sklearn-color-unfitted-level-1);\n",
       "  border: var(--sklearn-color-unfitted-level-1) 1pt solid;\n",
       "}\n",
       "\n",
       "#sk-container-id-1 a.estimator_doc_link.fitted {\n",
       "  /* fitted */\n",
       "  border: var(--sklearn-color-fitted-level-1) 1pt solid;\n",
       "  color: var(--sklearn-color-fitted-level-1);\n",
       "}\n",
       "\n",
       "/* On hover */\n",
       "#sk-container-id-1 a.estimator_doc_link:hover {\n",
       "  /* unfitted */\n",
       "  background-color: var(--sklearn-color-unfitted-level-3);\n",
       "  color: var(--sklearn-color-background);\n",
       "  text-decoration: none;\n",
       "}\n",
       "\n",
       "#sk-container-id-1 a.estimator_doc_link.fitted:hover {\n",
       "  /* fitted */\n",
       "  background-color: var(--sklearn-color-fitted-level-3);\n",
       "}\n",
       "</style><div id=\"sk-container-id-1\" class=\"sk-top-container\"><div class=\"sk-text-repr-fallback\"><pre>GridSearchCV(cv=10, estimator=DummyRegressor(), param_grid={},\n",
       "             return_train_score=True,\n",
       "             scoring=make_scorer(rmse, response_method=&#x27;predict&#x27;))</pre><b>In a Jupyter environment, please rerun this cell to show the HTML representation or trust the notebook. <br />On GitHub, the HTML representation is unable to render, please try loading this page with nbviewer.org.</b></div><div class=\"sk-container\" hidden><div class=\"sk-item sk-dashed-wrapped\"><div class=\"sk-label-container\"><div class=\"sk-label fitted sk-toggleable\"><input class=\"sk-toggleable__control sk-hidden--visually\" id=\"sk-estimator-id-1\" type=\"checkbox\" ><label for=\"sk-estimator-id-1\" class=\"sk-toggleable__label fitted sk-toggleable__label-arrow fitted\">&nbsp;&nbsp;GridSearchCV<a class=\"sk-estimator-doc-link fitted\" rel=\"noreferrer\" target=\"_blank\" href=\"https://scikit-learn.org/1.5/modules/generated/sklearn.model_selection.GridSearchCV.html\">?<span>Documentation for GridSearchCV</span></a><span class=\"sk-estimator-doc-link fitted\">i<span>Fitted</span></span></label><div class=\"sk-toggleable__content fitted\"><pre>GridSearchCV(cv=10, estimator=DummyRegressor(), param_grid={},\n",
       "             return_train_score=True,\n",
       "             scoring=make_scorer(rmse, response_method=&#x27;predict&#x27;))</pre></div> </div></div><div class=\"sk-parallel\"><div class=\"sk-parallel-item\"><div class=\"sk-item\"><div class=\"sk-label-container\"><div class=\"sk-label fitted sk-toggleable\"><input class=\"sk-toggleable__control sk-hidden--visually\" id=\"sk-estimator-id-2\" type=\"checkbox\" ><label for=\"sk-estimator-id-2\" class=\"sk-toggleable__label fitted sk-toggleable__label-arrow fitted\">best_estimator_: DummyRegressor</label><div class=\"sk-toggleable__content fitted\"><pre>DummyRegressor()</pre></div> </div></div><div class=\"sk-serial\"><div class=\"sk-item\"><div class=\"sk-estimator fitted sk-toggleable\"><input class=\"sk-toggleable__control sk-hidden--visually\" id=\"sk-estimator-id-3\" type=\"checkbox\" ><label for=\"sk-estimator-id-3\" class=\"sk-toggleable__label fitted sk-toggleable__label-arrow fitted\">&nbsp;DummyRegressor<a class=\"sk-estimator-doc-link fitted\" rel=\"noreferrer\" target=\"_blank\" href=\"https://scikit-learn.org/1.5/modules/generated/sklearn.dummy.DummyRegressor.html\">?<span>Documentation for DummyRegressor</span></a></label><div class=\"sk-toggleable__content fitted\"><pre>DummyRegressor()</pre></div> </div></div></div></div></div></div></div></div></div>"
      ]
     },
     "execution_count": 53,
     "metadata": {},
     "output_type": "execute_result"
    }
   ],
   "execution_count": 53
  },
  {
   "cell_type": "code",
   "metadata": {
    "colab": {
     "base_uri": "https://localhost:8080/"
    },
    "id": "m2JxXBC_Cy_M",
    "outputId": "b2a77d28-f896-40f6-ca85-0ff289e6de90",
    "ExecuteTime": {
     "end_time": "2024-08-07T17:25:04.866434Z",
     "start_time": "2024-08-07T17:25:04.861898Z"
    }
   },
   "source": [
    "# Validate the CV Score (JUST RUN THE CODE)\n",
    "train_base, valid_base, best_param_base = extract_cv_results(reg_base)\n",
    "\n",
    "print(f'Train score - Baseline model: {train_base/(10**6):.2f} Juta')\n",
    "print(f'Valid score - Baseline model: {valid_base/(10**6):.2f} Juta')\n",
    "print(f'Best Params - Baseline model: {best_param_base}')"
   ],
   "outputs": [
    {
     "name": "stdout",
     "output_type": "stream",
     "text": [
      "Train score - Baseline model: 73.74 Juta\n",
      "Valid score - Baseline model: 55.11 Juta\n",
      "Best Params - Baseline model: {}\n"
     ]
    }
   ],
   "execution_count": 54
  },
  {
   "cell_type": "markdown",
   "metadata": {
    "id": "FusmsYKNDSsp"
   },
   "source": [
    "---\n",
    "##### Perform CV for k-NN Model (3 pts)\n",
    "- Do a parameter search for `k = {1, 10, 25, 50, 100, 150, 200, 250}`\n",
    "- Return as `reg_knn`"
   ]
  },
  {
   "cell_type": "code",
   "metadata": {
    "colab": {
     "base_uri": "https://localhost:8080/"
    },
    "id": "JIHEHtAbDSsx",
    "outputId": "f10fc597-a67d-44dd-eb75-a0f0dbe315da",
    "ExecuteTime": {
     "end_time": "2024-08-07T17:27:39.341097Z",
     "start_time": "2024-08-07T17:27:37.150760Z"
    }
   },
   "source": [
    "####################################################\n",
    "# Perform GridSearchCV for kNN model\n",
    "# return the results as reg_knn\n",
    "# Write your code here\n",
    "####################################################\n",
    "reg_knn = GridSearchCV(\n",
    "    cv=10, estimator=KNeighborsRegressor(), \n",
    "    param_grid={'n_neighbors': [1, 10, 25, 50, 100, 150, 200, 250]}, \n",
    "    return_train_score=True, scoring='neg_root_mean_squared_error'\n",
    ")\n",
    "\n",
    "reg_knn.fit(X_train_clean, y_train_dropped)"
   ],
   "outputs": [
    {
     "data": {
      "text/plain": [
       "GridSearchCV(cv=10, estimator=KNeighborsRegressor(),\n",
       "             param_grid={'n_neighbors': [1, 10, 25, 50, 100, 150, 200, 250]},\n",
       "             return_train_score=True, scoring='neg_root_mean_squared_error')"
      ],
      "text/html": [
       "<style>#sk-container-id-2 {\n",
       "  /* Definition of color scheme common for light and dark mode */\n",
       "  --sklearn-color-text: black;\n",
       "  --sklearn-color-line: gray;\n",
       "  /* Definition of color scheme for unfitted estimators */\n",
       "  --sklearn-color-unfitted-level-0: #fff5e6;\n",
       "  --sklearn-color-unfitted-level-1: #f6e4d2;\n",
       "  --sklearn-color-unfitted-level-2: #ffe0b3;\n",
       "  --sklearn-color-unfitted-level-3: chocolate;\n",
       "  /* Definition of color scheme for fitted estimators */\n",
       "  --sklearn-color-fitted-level-0: #f0f8ff;\n",
       "  --sklearn-color-fitted-level-1: #d4ebff;\n",
       "  --sklearn-color-fitted-level-2: #b3dbfd;\n",
       "  --sklearn-color-fitted-level-3: cornflowerblue;\n",
       "\n",
       "  /* Specific color for light theme */\n",
       "  --sklearn-color-text-on-default-background: var(--sg-text-color, var(--theme-code-foreground, var(--jp-content-font-color1, black)));\n",
       "  --sklearn-color-background: var(--sg-background-color, var(--theme-background, var(--jp-layout-color0, white)));\n",
       "  --sklearn-color-border-box: var(--sg-text-color, var(--theme-code-foreground, var(--jp-content-font-color1, black)));\n",
       "  --sklearn-color-icon: #696969;\n",
       "\n",
       "  @media (prefers-color-scheme: dark) {\n",
       "    /* Redefinition of color scheme for dark theme */\n",
       "    --sklearn-color-text-on-default-background: var(--sg-text-color, var(--theme-code-foreground, var(--jp-content-font-color1, white)));\n",
       "    --sklearn-color-background: var(--sg-background-color, var(--theme-background, var(--jp-layout-color0, #111)));\n",
       "    --sklearn-color-border-box: var(--sg-text-color, var(--theme-code-foreground, var(--jp-content-font-color1, white)));\n",
       "    --sklearn-color-icon: #878787;\n",
       "  }\n",
       "}\n",
       "\n",
       "#sk-container-id-2 {\n",
       "  color: var(--sklearn-color-text);\n",
       "}\n",
       "\n",
       "#sk-container-id-2 pre {\n",
       "  padding: 0;\n",
       "}\n",
       "\n",
       "#sk-container-id-2 input.sk-hidden--visually {\n",
       "  border: 0;\n",
       "  clip: rect(1px 1px 1px 1px);\n",
       "  clip: rect(1px, 1px, 1px, 1px);\n",
       "  height: 1px;\n",
       "  margin: -1px;\n",
       "  overflow: hidden;\n",
       "  padding: 0;\n",
       "  position: absolute;\n",
       "  width: 1px;\n",
       "}\n",
       "\n",
       "#sk-container-id-2 div.sk-dashed-wrapped {\n",
       "  border: 1px dashed var(--sklearn-color-line);\n",
       "  margin: 0 0.4em 0.5em 0.4em;\n",
       "  box-sizing: border-box;\n",
       "  padding-bottom: 0.4em;\n",
       "  background-color: var(--sklearn-color-background);\n",
       "}\n",
       "\n",
       "#sk-container-id-2 div.sk-container {\n",
       "  /* jupyter's `normalize.less` sets `[hidden] { display: none; }`\n",
       "     but bootstrap.min.css set `[hidden] { display: none !important; }`\n",
       "     so we also need the `!important` here to be able to override the\n",
       "     default hidden behavior on the sphinx rendered scikit-learn.org.\n",
       "     See: https://github.com/scikit-learn/scikit-learn/issues/21755 */\n",
       "  display: inline-block !important;\n",
       "  position: relative;\n",
       "}\n",
       "\n",
       "#sk-container-id-2 div.sk-text-repr-fallback {\n",
       "  display: none;\n",
       "}\n",
       "\n",
       "div.sk-parallel-item,\n",
       "div.sk-serial,\n",
       "div.sk-item {\n",
       "  /* draw centered vertical line to link estimators */\n",
       "  background-image: linear-gradient(var(--sklearn-color-text-on-default-background), var(--sklearn-color-text-on-default-background));\n",
       "  background-size: 2px 100%;\n",
       "  background-repeat: no-repeat;\n",
       "  background-position: center center;\n",
       "}\n",
       "\n",
       "/* Parallel-specific style estimator block */\n",
       "\n",
       "#sk-container-id-2 div.sk-parallel-item::after {\n",
       "  content: \"\";\n",
       "  width: 100%;\n",
       "  border-bottom: 2px solid var(--sklearn-color-text-on-default-background);\n",
       "  flex-grow: 1;\n",
       "}\n",
       "\n",
       "#sk-container-id-2 div.sk-parallel {\n",
       "  display: flex;\n",
       "  align-items: stretch;\n",
       "  justify-content: center;\n",
       "  background-color: var(--sklearn-color-background);\n",
       "  position: relative;\n",
       "}\n",
       "\n",
       "#sk-container-id-2 div.sk-parallel-item {\n",
       "  display: flex;\n",
       "  flex-direction: column;\n",
       "}\n",
       "\n",
       "#sk-container-id-2 div.sk-parallel-item:first-child::after {\n",
       "  align-self: flex-end;\n",
       "  width: 50%;\n",
       "}\n",
       "\n",
       "#sk-container-id-2 div.sk-parallel-item:last-child::after {\n",
       "  align-self: flex-start;\n",
       "  width: 50%;\n",
       "}\n",
       "\n",
       "#sk-container-id-2 div.sk-parallel-item:only-child::after {\n",
       "  width: 0;\n",
       "}\n",
       "\n",
       "/* Serial-specific style estimator block */\n",
       "\n",
       "#sk-container-id-2 div.sk-serial {\n",
       "  display: flex;\n",
       "  flex-direction: column;\n",
       "  align-items: center;\n",
       "  background-color: var(--sklearn-color-background);\n",
       "  padding-right: 1em;\n",
       "  padding-left: 1em;\n",
       "}\n",
       "\n",
       "\n",
       "/* Toggleable style: style used for estimator/Pipeline/ColumnTransformer box that is\n",
       "clickable and can be expanded/collapsed.\n",
       "- Pipeline and ColumnTransformer use this feature and define the default style\n",
       "- Estimators will overwrite some part of the style using the `sk-estimator` class\n",
       "*/\n",
       "\n",
       "/* Pipeline and ColumnTransformer style (default) */\n",
       "\n",
       "#sk-container-id-2 div.sk-toggleable {\n",
       "  /* Default theme specific background. It is overwritten whether we have a\n",
       "  specific estimator or a Pipeline/ColumnTransformer */\n",
       "  background-color: var(--sklearn-color-background);\n",
       "}\n",
       "\n",
       "/* Toggleable label */\n",
       "#sk-container-id-2 label.sk-toggleable__label {\n",
       "  cursor: pointer;\n",
       "  display: block;\n",
       "  width: 100%;\n",
       "  margin-bottom: 0;\n",
       "  padding: 0.5em;\n",
       "  box-sizing: border-box;\n",
       "  text-align: center;\n",
       "}\n",
       "\n",
       "#sk-container-id-2 label.sk-toggleable__label-arrow:before {\n",
       "  /* Arrow on the left of the label */\n",
       "  content: \"▸\";\n",
       "  float: left;\n",
       "  margin-right: 0.25em;\n",
       "  color: var(--sklearn-color-icon);\n",
       "}\n",
       "\n",
       "#sk-container-id-2 label.sk-toggleable__label-arrow:hover:before {\n",
       "  color: var(--sklearn-color-text);\n",
       "}\n",
       "\n",
       "/* Toggleable content - dropdown */\n",
       "\n",
       "#sk-container-id-2 div.sk-toggleable__content {\n",
       "  max-height: 0;\n",
       "  max-width: 0;\n",
       "  overflow: hidden;\n",
       "  text-align: left;\n",
       "  /* unfitted */\n",
       "  background-color: var(--sklearn-color-unfitted-level-0);\n",
       "}\n",
       "\n",
       "#sk-container-id-2 div.sk-toggleable__content.fitted {\n",
       "  /* fitted */\n",
       "  background-color: var(--sklearn-color-fitted-level-0);\n",
       "}\n",
       "\n",
       "#sk-container-id-2 div.sk-toggleable__content pre {\n",
       "  margin: 0.2em;\n",
       "  border-radius: 0.25em;\n",
       "  color: var(--sklearn-color-text);\n",
       "  /* unfitted */\n",
       "  background-color: var(--sklearn-color-unfitted-level-0);\n",
       "}\n",
       "\n",
       "#sk-container-id-2 div.sk-toggleable__content.fitted pre {\n",
       "  /* unfitted */\n",
       "  background-color: var(--sklearn-color-fitted-level-0);\n",
       "}\n",
       "\n",
       "#sk-container-id-2 input.sk-toggleable__control:checked~div.sk-toggleable__content {\n",
       "  /* Expand drop-down */\n",
       "  max-height: 200px;\n",
       "  max-width: 100%;\n",
       "  overflow: auto;\n",
       "}\n",
       "\n",
       "#sk-container-id-2 input.sk-toggleable__control:checked~label.sk-toggleable__label-arrow:before {\n",
       "  content: \"▾\";\n",
       "}\n",
       "\n",
       "/* Pipeline/ColumnTransformer-specific style */\n",
       "\n",
       "#sk-container-id-2 div.sk-label input.sk-toggleable__control:checked~label.sk-toggleable__label {\n",
       "  color: var(--sklearn-color-text);\n",
       "  background-color: var(--sklearn-color-unfitted-level-2);\n",
       "}\n",
       "\n",
       "#sk-container-id-2 div.sk-label.fitted input.sk-toggleable__control:checked~label.sk-toggleable__label {\n",
       "  background-color: var(--sklearn-color-fitted-level-2);\n",
       "}\n",
       "\n",
       "/* Estimator-specific style */\n",
       "\n",
       "/* Colorize estimator box */\n",
       "#sk-container-id-2 div.sk-estimator input.sk-toggleable__control:checked~label.sk-toggleable__label {\n",
       "  /* unfitted */\n",
       "  background-color: var(--sklearn-color-unfitted-level-2);\n",
       "}\n",
       "\n",
       "#sk-container-id-2 div.sk-estimator.fitted input.sk-toggleable__control:checked~label.sk-toggleable__label {\n",
       "  /* fitted */\n",
       "  background-color: var(--sklearn-color-fitted-level-2);\n",
       "}\n",
       "\n",
       "#sk-container-id-2 div.sk-label label.sk-toggleable__label,\n",
       "#sk-container-id-2 div.sk-label label {\n",
       "  /* The background is the default theme color */\n",
       "  color: var(--sklearn-color-text-on-default-background);\n",
       "}\n",
       "\n",
       "/* On hover, darken the color of the background */\n",
       "#sk-container-id-2 div.sk-label:hover label.sk-toggleable__label {\n",
       "  color: var(--sklearn-color-text);\n",
       "  background-color: var(--sklearn-color-unfitted-level-2);\n",
       "}\n",
       "\n",
       "/* Label box, darken color on hover, fitted */\n",
       "#sk-container-id-2 div.sk-label.fitted:hover label.sk-toggleable__label.fitted {\n",
       "  color: var(--sklearn-color-text);\n",
       "  background-color: var(--sklearn-color-fitted-level-2);\n",
       "}\n",
       "\n",
       "/* Estimator label */\n",
       "\n",
       "#sk-container-id-2 div.sk-label label {\n",
       "  font-family: monospace;\n",
       "  font-weight: bold;\n",
       "  display: inline-block;\n",
       "  line-height: 1.2em;\n",
       "}\n",
       "\n",
       "#sk-container-id-2 div.sk-label-container {\n",
       "  text-align: center;\n",
       "}\n",
       "\n",
       "/* Estimator-specific */\n",
       "#sk-container-id-2 div.sk-estimator {\n",
       "  font-family: monospace;\n",
       "  border: 1px dotted var(--sklearn-color-border-box);\n",
       "  border-radius: 0.25em;\n",
       "  box-sizing: border-box;\n",
       "  margin-bottom: 0.5em;\n",
       "  /* unfitted */\n",
       "  background-color: var(--sklearn-color-unfitted-level-0);\n",
       "}\n",
       "\n",
       "#sk-container-id-2 div.sk-estimator.fitted {\n",
       "  /* fitted */\n",
       "  background-color: var(--sklearn-color-fitted-level-0);\n",
       "}\n",
       "\n",
       "/* on hover */\n",
       "#sk-container-id-2 div.sk-estimator:hover {\n",
       "  /* unfitted */\n",
       "  background-color: var(--sklearn-color-unfitted-level-2);\n",
       "}\n",
       "\n",
       "#sk-container-id-2 div.sk-estimator.fitted:hover {\n",
       "  /* fitted */\n",
       "  background-color: var(--sklearn-color-fitted-level-2);\n",
       "}\n",
       "\n",
       "/* Specification for estimator info (e.g. \"i\" and \"?\") */\n",
       "\n",
       "/* Common style for \"i\" and \"?\" */\n",
       "\n",
       ".sk-estimator-doc-link,\n",
       "a:link.sk-estimator-doc-link,\n",
       "a:visited.sk-estimator-doc-link {\n",
       "  float: right;\n",
       "  font-size: smaller;\n",
       "  line-height: 1em;\n",
       "  font-family: monospace;\n",
       "  background-color: var(--sklearn-color-background);\n",
       "  border-radius: 1em;\n",
       "  height: 1em;\n",
       "  width: 1em;\n",
       "  text-decoration: none !important;\n",
       "  margin-left: 1ex;\n",
       "  /* unfitted */\n",
       "  border: var(--sklearn-color-unfitted-level-1) 1pt solid;\n",
       "  color: var(--sklearn-color-unfitted-level-1);\n",
       "}\n",
       "\n",
       ".sk-estimator-doc-link.fitted,\n",
       "a:link.sk-estimator-doc-link.fitted,\n",
       "a:visited.sk-estimator-doc-link.fitted {\n",
       "  /* fitted */\n",
       "  border: var(--sklearn-color-fitted-level-1) 1pt solid;\n",
       "  color: var(--sklearn-color-fitted-level-1);\n",
       "}\n",
       "\n",
       "/* On hover */\n",
       "div.sk-estimator:hover .sk-estimator-doc-link:hover,\n",
       ".sk-estimator-doc-link:hover,\n",
       "div.sk-label-container:hover .sk-estimator-doc-link:hover,\n",
       ".sk-estimator-doc-link:hover {\n",
       "  /* unfitted */\n",
       "  background-color: var(--sklearn-color-unfitted-level-3);\n",
       "  color: var(--sklearn-color-background);\n",
       "  text-decoration: none;\n",
       "}\n",
       "\n",
       "div.sk-estimator.fitted:hover .sk-estimator-doc-link.fitted:hover,\n",
       ".sk-estimator-doc-link.fitted:hover,\n",
       "div.sk-label-container:hover .sk-estimator-doc-link.fitted:hover,\n",
       ".sk-estimator-doc-link.fitted:hover {\n",
       "  /* fitted */\n",
       "  background-color: var(--sklearn-color-fitted-level-3);\n",
       "  color: var(--sklearn-color-background);\n",
       "  text-decoration: none;\n",
       "}\n",
       "\n",
       "/* Span, style for the box shown on hovering the info icon */\n",
       ".sk-estimator-doc-link span {\n",
       "  display: none;\n",
       "  z-index: 9999;\n",
       "  position: relative;\n",
       "  font-weight: normal;\n",
       "  right: .2ex;\n",
       "  padding: .5ex;\n",
       "  margin: .5ex;\n",
       "  width: min-content;\n",
       "  min-width: 20ex;\n",
       "  max-width: 50ex;\n",
       "  color: var(--sklearn-color-text);\n",
       "  box-shadow: 2pt 2pt 4pt #999;\n",
       "  /* unfitted */\n",
       "  background: var(--sklearn-color-unfitted-level-0);\n",
       "  border: .5pt solid var(--sklearn-color-unfitted-level-3);\n",
       "}\n",
       "\n",
       ".sk-estimator-doc-link.fitted span {\n",
       "  /* fitted */\n",
       "  background: var(--sklearn-color-fitted-level-0);\n",
       "  border: var(--sklearn-color-fitted-level-3);\n",
       "}\n",
       "\n",
       ".sk-estimator-doc-link:hover span {\n",
       "  display: block;\n",
       "}\n",
       "\n",
       "/* \"?\"-specific style due to the `<a>` HTML tag */\n",
       "\n",
       "#sk-container-id-2 a.estimator_doc_link {\n",
       "  float: right;\n",
       "  font-size: 1rem;\n",
       "  line-height: 1em;\n",
       "  font-family: monospace;\n",
       "  background-color: var(--sklearn-color-background);\n",
       "  border-radius: 1rem;\n",
       "  height: 1rem;\n",
       "  width: 1rem;\n",
       "  text-decoration: none;\n",
       "  /* unfitted */\n",
       "  color: var(--sklearn-color-unfitted-level-1);\n",
       "  border: var(--sklearn-color-unfitted-level-1) 1pt solid;\n",
       "}\n",
       "\n",
       "#sk-container-id-2 a.estimator_doc_link.fitted {\n",
       "  /* fitted */\n",
       "  border: var(--sklearn-color-fitted-level-1) 1pt solid;\n",
       "  color: var(--sklearn-color-fitted-level-1);\n",
       "}\n",
       "\n",
       "/* On hover */\n",
       "#sk-container-id-2 a.estimator_doc_link:hover {\n",
       "  /* unfitted */\n",
       "  background-color: var(--sklearn-color-unfitted-level-3);\n",
       "  color: var(--sklearn-color-background);\n",
       "  text-decoration: none;\n",
       "}\n",
       "\n",
       "#sk-container-id-2 a.estimator_doc_link.fitted:hover {\n",
       "  /* fitted */\n",
       "  background-color: var(--sklearn-color-fitted-level-3);\n",
       "}\n",
       "</style><div id=\"sk-container-id-2\" class=\"sk-top-container\"><div class=\"sk-text-repr-fallback\"><pre>GridSearchCV(cv=10, estimator=KNeighborsRegressor(),\n",
       "             param_grid={&#x27;n_neighbors&#x27;: [1, 10, 25, 50, 100, 150, 200, 250]},\n",
       "             return_train_score=True, scoring=&#x27;neg_root_mean_squared_error&#x27;)</pre><b>In a Jupyter environment, please rerun this cell to show the HTML representation or trust the notebook. <br />On GitHub, the HTML representation is unable to render, please try loading this page with nbviewer.org.</b></div><div class=\"sk-container\" hidden><div class=\"sk-item sk-dashed-wrapped\"><div class=\"sk-label-container\"><div class=\"sk-label fitted sk-toggleable\"><input class=\"sk-toggleable__control sk-hidden--visually\" id=\"sk-estimator-id-4\" type=\"checkbox\" ><label for=\"sk-estimator-id-4\" class=\"sk-toggleable__label fitted sk-toggleable__label-arrow fitted\">&nbsp;&nbsp;GridSearchCV<a class=\"sk-estimator-doc-link fitted\" rel=\"noreferrer\" target=\"_blank\" href=\"https://scikit-learn.org/1.5/modules/generated/sklearn.model_selection.GridSearchCV.html\">?<span>Documentation for GridSearchCV</span></a><span class=\"sk-estimator-doc-link fitted\">i<span>Fitted</span></span></label><div class=\"sk-toggleable__content fitted\"><pre>GridSearchCV(cv=10, estimator=KNeighborsRegressor(),\n",
       "             param_grid={&#x27;n_neighbors&#x27;: [1, 10, 25, 50, 100, 150, 200, 250]},\n",
       "             return_train_score=True, scoring=&#x27;neg_root_mean_squared_error&#x27;)</pre></div> </div></div><div class=\"sk-parallel\"><div class=\"sk-parallel-item\"><div class=\"sk-item\"><div class=\"sk-label-container\"><div class=\"sk-label fitted sk-toggleable\"><input class=\"sk-toggleable__control sk-hidden--visually\" id=\"sk-estimator-id-5\" type=\"checkbox\" ><label for=\"sk-estimator-id-5\" class=\"sk-toggleable__label fitted sk-toggleable__label-arrow fitted\">best_estimator_: KNeighborsRegressor</label><div class=\"sk-toggleable__content fitted\"><pre>KNeighborsRegressor(n_neighbors=25)</pre></div> </div></div><div class=\"sk-serial\"><div class=\"sk-item\"><div class=\"sk-estimator fitted sk-toggleable\"><input class=\"sk-toggleable__control sk-hidden--visually\" id=\"sk-estimator-id-6\" type=\"checkbox\" ><label for=\"sk-estimator-id-6\" class=\"sk-toggleable__label fitted sk-toggleable__label-arrow fitted\">&nbsp;KNeighborsRegressor<a class=\"sk-estimator-doc-link fitted\" rel=\"noreferrer\" target=\"_blank\" href=\"https://scikit-learn.org/1.5/modules/generated/sklearn.neighbors.KNeighborsRegressor.html\">?<span>Documentation for KNeighborsRegressor</span></a></label><div class=\"sk-toggleable__content fitted\"><pre>KNeighborsRegressor(n_neighbors=25)</pre></div> </div></div></div></div></div></div></div></div></div>"
      ]
     },
     "execution_count": 55,
     "metadata": {},
     "output_type": "execute_result"
    }
   ],
   "execution_count": 55
  },
  {
   "cell_type": "code",
   "metadata": {
    "colab": {
     "base_uri": "https://localhost:8080/"
    },
    "id": "61a003oSDSsx",
    "outputId": "e0dc971c-6a7d-4c10-f670-d1ed2aec84f3",
    "ExecuteTime": {
     "end_time": "2024-08-07T17:27:41.680103Z",
     "start_time": "2024-08-07T17:27:41.650617Z"
    }
   },
   "source": [
    "# Validate the CV Score (JUST RUN THE CODE)\n",
    "train_knn, valid_knn, best_param_knn = extract_cv_results(reg_knn)\n",
    "\n",
    "print(f'Train score - kNN model: {train_knn/(10**6):.2f} Juta')\n",
    "print(f'Valid score - kNN model: {valid_knn/(10**6):.2f} Juta')\n",
    "print(f'Best Params - kNN model: {best_param_knn}')"
   ],
   "outputs": [
    {
     "name": "stdout",
     "output_type": "stream",
     "text": [
      "Train score - kNN model: -50.13 Juta\n",
      "Valid score - kNN model: -35.46 Juta\n",
      "Best Params - kNN model: {'n_neighbors': 25}\n"
     ]
    }
   ],
   "execution_count": 56
  },
  {
   "cell_type": "markdown",
   "metadata": {
    "id": "d7RQ11ulEZTK"
   },
   "source": [
    "---\n",
    "##### Perform CV for Linear Regression Model (4 pts)\n",
    "- Return as `reg_lr`"
   ]
  },
  {
   "cell_type": "code",
   "metadata": {
    "colab": {
     "base_uri": "https://localhost:8080/"
    },
    "id": "__cSqvUTEZTW",
    "outputId": "d4fb2f15-6ad0-451b-ca92-d419f973cfc4"
   },
   "source": [
    "####################################################\n",
    "# Perform GridSearchCV for Linear Regression model\n",
    "# return the results as reg_lr\n",
    "# Write your code here\n",
    "####################################################\n",
    "reg_lr = GridSearchCV(\n",
    "    cv=10, estimator=LinearRegression(), \n",
    "    param_grid={}, \n",
    "    return_train_score=True, scoring='neg_root_mean_squared_error'\n",
    ")\n",
    "reg_lr.fit(X_train_clean, y_train_dropped)"
   ],
   "outputs": [],
   "execution_count": null
  },
  {
   "cell_type": "code",
   "metadata": {
    "colab": {
     "base_uri": "https://localhost:8080/"
    },
    "id": "XLmbeaDFEZTW",
    "outputId": "280f8ed4-caad-4c6e-b702-75793f494ad8"
   },
   "source": [
    "# Validate the CV Score (JUST RUN THE CODE)\n",
    "train_lr, valid_lr, best_param_lr = extract_cv_results(reg_lr)\n",
    "\n",
    "print(f'Train score - LinReg model: {train_lr/(10**6):.2f} Juta')\n",
    "print(f'Valid score - LinReg model: {valid_lr/(10**6):.2f} Juta')\n",
    "print(f'Best Params - LinReg model: {best_param_lr}')"
   ],
   "outputs": [],
   "execution_count": null
  },
  {
   "cell_type": "markdown",
   "metadata": {
    "id": "aIvXUSW5FVx3"
   },
   "source": [
    "---\n",
    "##### Perform CV for Decision Tree Model (4 pts)\n",
    "- You search the best hyperparameter from\n",
    "  - maximum depth : 2, 10, 30, 100, None\n",
    "  - minimum samples required to split : 2, 25, 50, 100, 150\n",
    "  - minimum samples at leaf : 2, 5, 10, 20\n",
    "- Return as `reg_dt`"
   ]
  },
  {
   "cell_type": "code",
   "metadata": {
    "colab": {
     "base_uri": "https://localhost:8080/"
    },
    "id": "ALChL3JiFVyD",
    "outputId": "248e2702-46a3-4d8b-f674-9764d471acc8"
   },
   "source": [
    "####################################################\n",
    "# Perform GridSearchCV for Decision Tree model\n",
    "# return the results as reg_dt\n",
    "# Write your code here\n",
    "####################################################\n",
    "reg_dt = GridSearchCV(\n",
    "    cv=10, estimator=DecisionTreeRegressor(), \n",
    "    param_grid={\n",
    "        'max_depth': [2, 10, 30, 100, None],\n",
    "        'min_samples_leaf': [2, 5, 10, 20],\n",
    "        'min_samples_split': [2, 25, 50, 100, 150]\n",
    "    }, \n",
    "    return_train_score=True, scoring='neg_root_mean_squared_error'\n",
    ")\n",
    "reg_dt.fit(X_train_clean, y_train_dropped)"
   ],
   "outputs": [],
   "execution_count": null
  },
  {
   "cell_type": "code",
   "metadata": {
    "colab": {
     "base_uri": "https://localhost:8080/"
    },
    "id": "usowkpKXFVyD",
    "outputId": "9e8b4a47-d4c8-4cad-cc05-ed3f133aad73"
   },
   "source": [
    "# Validate the CV Score (JUST RUN THE CODE)\n",
    "train_dt, valid_dt, best_param_dt = extract_cv_results(reg_dt)\n",
    "\n",
    "print(f'Train score - Decision Tree model: {train_dt/(10**6):.2f} Juta')\n",
    "print(f'Valid score - Decision Tree model: {valid_dt/(10**6):.2f} Juta')\n",
    "print(f'Best Params - Decision Tree model: {best_param_dt}')"
   ],
   "outputs": [],
   "execution_count": null
  },
  {
   "cell_type": "markdown",
   "metadata": {
    "id": "5nQY2GYIKvjT"
   },
   "source": [
    "---\n",
    "##### Perform CV for Ridge Model (4 pts)\n",
    "- You search the best hyperparameter from\n",
    "  - regularization strength: [$10^{-6}$, ..., $10^{10}$],\n",
    "- Return as `reg_ridge`"
   ]
  },
  {
   "cell_type": "code",
   "metadata": {
    "colab": {
     "base_uri": "https://localhost:8080/"
    },
    "id": "YaBxFp5zKvjT",
    "outputId": "b7b9a138-9ca4-40c8-a13f-cd03839bea6d"
   },
   "source": [
    "####################################################\n",
    "# Perform GridSearchCV for Ridge model\n",
    "# return the results as reg_ridge\n",
    "# Write your code here\n",
    "####################################################\n",
    "reg_ridge = GridSearchCV(\n",
    "    cv=10, estimator=Ridge(),\n",
    "    param_grid={\n",
    "        'alpha': np.array([1.00000000e-06, 6.30957344e-06, 3.98107171e-05, 2.51188643e-04,\n",
    "       1.58489319e-03, 1.00000000e-02, 6.30957344e-02, 3.98107171e-01,\n",
    "       2.51188643e+00, 1.58489319e+01, 1.00000000e+02, 6.30957344e+02,\n",
    "       3.98107171e+03, 2.51188643e+04, 1.58489319e+05, 1.00000000e+06,\n",
    "       6.30957344e+06, 3.98107171e+07, 2.51188643e+08, 1.58489319e+09,\n",
    "       1.00000000e+10])},\n",
    "    return_train_score=True, scoring='neg_root_mean_squared_error')\n",
    "\n",
    "reg_ridge.fit(X_train_clean, y_train_dropped)"
   ],
   "outputs": [],
   "execution_count": null
  },
  {
   "cell_type": "code",
   "metadata": {
    "colab": {
     "base_uri": "https://localhost:8080/"
    },
    "id": "1iqgEzW9KvjU",
    "outputId": "e888c7c4-a199-4696-e8fe-06654511336f"
   },
   "source": [
    "# Validate the CV Score (JUST RUN THE CODE)\n",
    "train_ridge, valid_ridge, best_param_ridge = extract_cv_results(reg_ridge)\n",
    "\n",
    "print(f'Train score - Ridge model: {train_ridge/(10**6):.2f} Juta')\n",
    "print(f'Valid score - Ridge model: {valid_ridge/(10**6):.2f} Juta')\n",
    "print(f'Best Params - Ridge model: {best_param_ridge}')"
   ],
   "outputs": [],
   "execution_count": null
  },
  {
   "cell_type": "markdown",
   "metadata": {
    "id": "XXtzuEhwOjVJ"
   },
   "source": [
    "---\n",
    "##### Perform CV for Lasso Model (4 pts)\n",
    "- You search the best hyperparameter from\n",
    "  - regularization strength: [$10^{-6}$, ..., $10^{10}$]\n",
    "- Return as `reg_lasso`"
   ]
  },
  {
   "cell_type": "code",
   "metadata": {
    "colab": {
     "base_uri": "https://localhost:8080/"
    },
    "id": "DSPalRQAOjVK",
    "outputId": "59b1b2fe-a839-4635-96e9-33b0b3af2dc1"
   },
   "source": [
    "####################################################\n",
    "# Perform GridSearchCV for Lasso model\n",
    "# return the results as reg_lasso\n",
    "# Write your code here\n",
    "####################################################\n",
    "reg_lasso = GridSearchCV(cv=10, estimator=Lasso(),\n",
    "             param_grid={'alpha': np.array([1.00000000e-06, 6.30957344e-06, 3.98107171e-05, 2.51188643e-04,\n",
    "       1.58489319e-03, 1.00000000e-02, 6.30957344e-02, 3.98107171e-01,\n",
    "       2.51188643e+00, 1.58489319e+01, 1.00000000e+02, 6.30957344e+02,\n",
    "       3.98107171e+03, 2.51188643e+04, 1.58489319e+05, 1.00000000e+06,\n",
    "       6.30957344e+06, 3.98107171e+07, 2.51188643e+08, 1.58489319e+09,\n",
    "       1.00000000e+10])},\n",
    "             return_train_score=True, scoring='neg_root_mean_squared_error')\n",
    "\n",
    "reg_lasso.fit(X_train_clean, y_train_dropped)"
   ],
   "outputs": [],
   "execution_count": null
  },
  {
   "cell_type": "code",
   "metadata": {
    "colab": {
     "base_uri": "https://localhost:8080/"
    },
    "id": "dOysI3HPOjVK",
    "outputId": "4b507888-eee1-4a4f-be8d-0cf040a06f18"
   },
   "source": [
    "# Validate the CV Score (JUST RUN THE CODE)\n",
    "train_lasso, valid_lasso, best_param_lasso = extract_cv_results(reg_lasso)\n",
    "\n",
    "print(f'Train score - Lasso model: {train_lasso/(10**6):.2f} Juta')\n",
    "print(f'Valid score - Lasso model: {valid_lasso/(10**6):.2f} Juta')\n",
    "print(f'Best Params - Lasso model: {best_param_lasso}')"
   ],
   "outputs": [],
   "execution_count": null
  },
  {
   "cell_type": "markdown",
   "metadata": {
    "id": "ER-CnCxlePhg"
   },
   "source": [
    "#### 3.3. Choose the best model (10 pts)\n",
    "---"
   ]
  },
  {
   "cell_type": "markdown",
   "metadata": {
    "id": "AtIxxClbQXC4"
   },
   "source": [
    "Lets summarize the model"
   ]
  },
  {
   "cell_type": "code",
   "metadata": {
    "colab": {
     "base_uri": "https://localhost:8080/"
    },
    "id": "xwBfyroAQYvF",
    "outputId": "dd9a5b89-ac66-41d0-f13b-e70598051906"
   },
   "source": [
    "# Summarize (JUST RUN THE CODE)\n",
    "summary_df = pd.DataFrame(\n",
    "    data={\n",
    "        'model': ['Baseline', 'kNN', 'Linear Regression', 'Decision Tree', 'Ridge', 'Lasso'],\n",
    "        'train_score': [train_base, train_knn, train_lr, train_dt, train_ridge, train_lasso],\n",
    "        'valid_score': [valid_base, valid_knn, valid_lr, valid_dt, valid_ridge, valid_lasso],\n",
    "        'best_params': [best_param_base, best_param_knn, best_param_lr, best_param_dt, best_param_ridge, best_param_lasso]\n",
    "    }\n",
    ")\n",
    "\n",
    "summary_df['train_score'] /= 10**6\n",
    "summary_df['valid_score'] /= 10**6\n",
    "summary_df"
   ],
   "outputs": [],
   "execution_count": null
  },
  {
   "cell_type": "markdown",
   "metadata": {
    "id": "neVBHKi3ePhh"
   },
   "source": [
    "From the previous results, which one is the best model? (3 pts)"
   ]
  },
  {
   "cell_type": "markdown",
   "metadata": {
    "id": "bpOAgKZDeZzp"
   },
   "source": [
    "```\n",
    "Answer in this section (you can use bahasa)\n",
    "\n",
    "```"
   ]
  },
  {
   "cell_type": "markdown",
   "metadata": {
    "id": "IzZAZgtpegYd"
   },
   "source": [
    "Why do you choose that model? (3 pts)"
   ]
  },
  {
   "cell_type": "markdown",
   "metadata": {
    "id": "GtWV7CLhejjV"
   },
   "source": [
    "```\n",
    "Explain your answer in here (you can use bahasa)\n",
    "\n",
    "```"
   ]
  },
  {
   "cell_type": "markdown",
   "metadata": {
    "id": "wVZMoBjVetmx"
   },
   "source": [
    "And, create a `reg_best` to store the best model"
   ]
  },
  {
   "cell_type": "code",
   "metadata": {
    "colab": {
     "base_uri": "https://localhost:8080/"
    },
    "id": "IFGiLMXPs4nV",
    "outputId": "e98cfc64-7aed-482a-d5d0-7e1bc8cbb21f"
   },
   "source": [
    "#####################################################################\n",
    "# Recreate or retrain your best regression model\n",
    "# Set is as reg_best\n",
    "# Write your code in here (4 pts)\n",
    "#####################################################################\n"
   ],
   "outputs": [],
   "execution_count": null
  },
  {
   "cell_type": "markdown",
   "metadata": {
    "id": "cq6iq5FwesuD"
   },
   "source": [
    "### 4. Predictions & Evaluations (JUST RUN THE CODE)\n",
    "---"
   ]
  },
  {
   "cell_type": "markdown",
   "metadata": {
    "id": "So1UmURDesuD"
   },
   "source": [
    "```\n",
    "4.1 Predict & Evaluate on the Train Data\n",
    "4.2 Predict & Evaluate on the Test Data\n",
    "```"
   ]
  },
  {
   "cell_type": "markdown",
   "metadata": {
    "id": "u_qdHfkefA9I"
   },
   "source": [
    "#### 4.1. Predict & evaluate on train & valid data\n",
    "---"
   ]
  },
  {
   "cell_type": "code",
   "metadata": {
    "id": "W_Tkv1IifKZd"
   },
   "source": [
    "# Predict (JUST RUN THE CODE)\n",
    "y_train_pred = reg_best.predict(X_train_clean)"
   ],
   "outputs": [],
   "execution_count": null
  },
  {
   "cell_type": "code",
   "metadata": {
    "colab": {
     "base_uri": "https://localhost:8080/"
    },
    "id": "YchjMtsF0ii0",
    "outputId": "60fd1792-43a6-474b-fe09-f2339bb8d96b"
   },
   "source": [
    "# Find error (JUST RUN THE CODE)\n",
    "train_error = rmse(y_train_dropped, y_train_pred)\n",
    "print(f'RMSE on Train data: {train_error/10**6:.2f} Juta')"
   ],
   "outputs": [],
   "execution_count": null
  },
  {
   "cell_type": "code",
   "metadata": {
    "colab": {
     "base_uri": "https://localhost:8080/"
    },
    "id": "Xd-YpUxnfRAL",
    "outputId": "0687c9e5-a9a1-4c3a-92b1-7ea28fe55687"
   },
   "source": [
    "# Visualize & compare the prediction (JUST RUN THE CODE)\n",
    "plt.scatter(y_train_dropped/1e6, y_train_pred/1e6)\n",
    "\n",
    "plt.plot([0, 600], [0, 600], c='red')\n",
    "plt.xlim(0, 600); plt.ylim(0, 600)\n",
    "plt.xlabel('y actual [Juta Rupiah]'); plt.ylabel('y predicted [Juta Rupiah]')\n",
    "plt.title('Comparison of y actual vs y predicted on Train Data')\n",
    "plt.show()"
   ],
   "outputs": [],
   "execution_count": null
  },
  {
   "cell_type": "code",
   "metadata": {
    "id": "SoOsDBZV1184"
   },
   "source": [
    "# Predict (JUST RUN THE CODE)\n",
    "y_valid_pred = reg_best.predict(X_valid_clean)"
   ],
   "outputs": [],
   "execution_count": null
  },
  {
   "cell_type": "code",
   "metadata": {
    "colab": {
     "base_uri": "https://localhost:8080/"
    },
    "id": "wIiSInwW1185",
    "outputId": "6ab555aa-c344-48c8-9340-d575e9d6f987"
   },
   "source": [
    "# Find error (JUST RUN THE CODE)\n",
    "valid_error = rmse(y_valid, y_valid_pred)\n",
    "print(f'RMSE on Valid data: {valid_error/10**6:.2f} Juta')"
   ],
   "outputs": [],
   "execution_count": null
  },
  {
   "cell_type": "code",
   "metadata": {
    "colab": {
     "base_uri": "https://localhost:8080/"
    },
    "id": "dXTjgCcy1185",
    "outputId": "a3be1272-44b2-4e0e-a692-4d2aac8576f2"
   },
   "source": [
    "# Visualize & compare the prediction (JUST RUN THE CODE)\n",
    "plt.scatter(y_valid/1e6, y_valid_pred/1e6)\n",
    "\n",
    "plt.plot([0, 600], [0, 600], c='red')\n",
    "plt.xlim(0, 600); plt.ylim(0, 600)\n",
    "plt.xlabel('y actual [Juta Rupiah]'); plt.ylabel('y predicted [Juta Rupiah]')\n",
    "plt.title('Comparison of y actual vs y predicted on Valid Data')\n",
    "plt.show()"
   ],
   "outputs": [],
   "execution_count": null
  },
  {
   "cell_type": "markdown",
   "metadata": {
    "id": "Q4V7-VcNfz02"
   },
   "source": [
    "#### 4.2. Predict & evaluate on test data\n",
    "---"
   ]
  },
  {
   "cell_type": "code",
   "metadata": {
    "id": "mNlcNnQIfz03"
   },
   "source": [
    "# Predict (JUST RUN THE CODE)\n",
    "y_test_pred = reg_best.predict(X_test_clean)"
   ],
   "outputs": [],
   "execution_count": null
  },
  {
   "cell_type": "code",
   "metadata": {
    "colab": {
     "base_uri": "https://localhost:8080/"
    },
    "id": "pGsmg2O2Tu5e",
    "outputId": "9a1466c9-a59f-43d6-a3b3-ad035a2d2cb6"
   },
   "source": [
    "# Final generalization\n",
    "test_error = rmse(y_test, y_test_pred)\n",
    "print(f'RMSE on Test data: {test_error/10**6:.2f} Juta')"
   ],
   "outputs": [],
   "execution_count": null
  },
  {
   "cell_type": "code",
   "metadata": {
    "colab": {
     "base_uri": "https://localhost:8080/"
    },
    "id": "l3QE1IeTfz03",
    "outputId": "54456349-4592-4531-c8a7-e0e8b8942330"
   },
   "source": [
    "# Visualize & compare the prediction (JUST RUN THE CODE)\n",
    "plt.scatter(y_test/1e6, y_test_pred/1e6)\n",
    "\n",
    "plt.plot([0, 600], [0, 600], c='red')\n",
    "plt.xlim(0, 600); plt.ylim(0, 600)\n",
    "plt.xlabel('y actual [Juta Rupiah]'); plt.ylabel('y predicted [Juta Rupiah]')\n",
    "plt.title('Comparison of y actual vs y predicted on Test Data')\n",
    "plt.show()"
   ],
   "outputs": [],
   "execution_count": null
  },
  {
   "cell_type": "markdown",
   "metadata": {
    "id": "SDWydw1CuLBI"
   },
   "source": [
    "### 5. Explore and generate a better model! (30)\n",
    "---"
   ]
  },
  {
   "cell_type": "markdown",
   "metadata": {
    "id": "fWpJo3LNuqOs"
   },
   "source": [
    "- Please explore by yourself!\n",
    "- Your **task** is to create a better model from the previous results."
   ]
  },
  {
   "cell_type": "code",
   "metadata": {
    "id": "dqrh1aK9vLbk"
   },
   "source": [
    "#########################################\n",
    "# Write your code here\n",
    "# Feel free to explore\n",
    "#########################################"
   ],
   "outputs": [],
   "execution_count": null
  }
 ],
 "metadata": {
  "colab": {
   "provenance": []
  },
  "kernelspec": {
   "display_name": "Python 3 (ipykernel)",
   "language": "python",
   "name": "python3"
  },
  "language_info": {
   "codemirror_mode": {
    "name": "ipython",
    "version": 3
   },
   "file_extension": ".py",
   "mimetype": "text/x-python",
   "name": "python",
   "nbconvert_exporter": "python",
   "pygments_lexer": "ipython3",
   "version": "3.10.12"
  }
 },
 "nbformat": 4,
 "nbformat_minor": 4
}
