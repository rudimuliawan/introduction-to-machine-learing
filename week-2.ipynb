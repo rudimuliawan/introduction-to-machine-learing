{
 "cells": [
  {
   "cell_type": "code",
   "id": "initial_id",
   "metadata": {
    "collapsed": true,
    "ExecuteTime": {
     "end_time": "2024-08-02T12:45:23.559487Z",
     "start_time": "2024-08-02T12:45:23.555178Z"
    }
   },
   "source": [
    "import warnings\n",
    "warnings.simplefilter(action='ignore', category=FutureWarning)\n",
    "\n",
    "import pandas as pd\n",
    "import numpy as np\n",
    "import matplotlib.pyplot as plt\n",
    "import seaborn as sns"
   ],
   "outputs": [],
   "execution_count": 2
  },
  {
   "metadata": {
    "ExecuteTime": {
     "end_time": "2024-08-02T12:45:23.589492Z",
     "start_time": "2024-08-02T12:45:23.567202Z"
    }
   },
   "cell_type": "code",
   "source": [
    "data_train = pd.read_csv('data_train.csv')\n",
    "data_train.head()"
   ],
   "id": "f5ac8aec6b05ba3d",
   "outputs": [
    {
     "data": {
      "text/plain": [
       "        x_1        x_2  y\n",
       "0  0.189645 -27.017739  0\n",
       "1  0.692067  -9.033156  0\n",
       "2 -1.003673 -30.560446  0\n",
       "3  0.149332 -51.732407  0\n",
       "4  0.132216 -13.741323  0"
      ],
      "text/html": [
       "<div>\n",
       "<style scoped>\n",
       "    .dataframe tbody tr th:only-of-type {\n",
       "        vertical-align: middle;\n",
       "    }\n",
       "\n",
       "    .dataframe tbody tr th {\n",
       "        vertical-align: top;\n",
       "    }\n",
       "\n",
       "    .dataframe thead th {\n",
       "        text-align: right;\n",
       "    }\n",
       "</style>\n",
       "<table border=\"1\" class=\"dataframe\">\n",
       "  <thead>\n",
       "    <tr style=\"text-align: right;\">\n",
       "      <th></th>\n",
       "      <th>x_1</th>\n",
       "      <th>x_2</th>\n",
       "      <th>y</th>\n",
       "    </tr>\n",
       "  </thead>\n",
       "  <tbody>\n",
       "    <tr>\n",
       "      <th>0</th>\n",
       "      <td>0.189645</td>\n",
       "      <td>-27.017739</td>\n",
       "      <td>0</td>\n",
       "    </tr>\n",
       "    <tr>\n",
       "      <th>1</th>\n",
       "      <td>0.692067</td>\n",
       "      <td>-9.033156</td>\n",
       "      <td>0</td>\n",
       "    </tr>\n",
       "    <tr>\n",
       "      <th>2</th>\n",
       "      <td>-1.003673</td>\n",
       "      <td>-30.560446</td>\n",
       "      <td>0</td>\n",
       "    </tr>\n",
       "    <tr>\n",
       "      <th>3</th>\n",
       "      <td>0.149332</td>\n",
       "      <td>-51.732407</td>\n",
       "      <td>0</td>\n",
       "    </tr>\n",
       "    <tr>\n",
       "      <th>4</th>\n",
       "      <td>0.132216</td>\n",
       "      <td>-13.741323</td>\n",
       "      <td>0</td>\n",
       "    </tr>\n",
       "  </tbody>\n",
       "</table>\n",
       "</div>"
      ]
     },
     "execution_count": 3,
     "metadata": {},
     "output_type": "execute_result"
    }
   ],
   "execution_count": 3
  },
  {
   "metadata": {
    "ExecuteTime": {
     "end_time": "2024-08-02T12:45:23.613415Z",
     "start_time": "2024-08-02T12:45:23.610067Z"
    }
   },
   "cell_type": "code",
   "source": "data_test = pd.DataFrame({\"x_1\": [0.5], \"x_2\": [29.0]})",
   "id": "298724ad7f75c4cd",
   "outputs": [],
   "execution_count": 4
  },
  {
   "metadata": {
    "ExecuteTime": {
     "end_time": "2024-08-02T12:45:23.788161Z",
     "start_time": "2024-08-02T12:45:23.614694Z"
    }
   },
   "cell_type": "code",
   "source": [
    "def draw_plow(data_train, data_test):\n",
    "    fig, ax = plt.subplots(nrows=1, ncols=1, figsize=(8, 8))\n",
    "    \n",
    "    data_class_0 = data_train[data_train[\"y\"] == 0]\n",
    "    data_class_1 = data_train[data_train[\"y\"] == 1]\n",
    "    \n",
    "    ax.scatter(data_class_0[\"x_1\"], data_class_0[\"x_2\"], c=\"b\", marker=\".\")\n",
    "    ax.scatter(data_class_1[\"x_1\"], data_class_1[\"x_2\"], c=\"g\", marker=\".\")\n",
    "    ax.scatter(data_test[\"x_1\"], data_test[\"x_2\"], c=\"r\", marker=\"x\")\n",
    "    \n",
    "    ax.set_xlabel(\"x_1\")\n",
    "    ax.set_ylabel(\"x_2\")\n",
    "    plt.show()\n",
    "    \n",
    "draw_plow(data_train, data_test)"
   ],
   "id": "57f157222d5e2c15",
   "outputs": [
    {
     "data": {
      "text/plain": [
       "<Figure size 800x800 with 1 Axes>"
      ],
      "image/png": "[encoded data removed]"
     },
     "metadata": {},
     "output_type": "display_data"
    }
   ],
   "execution_count": 5
  },
  {
   "metadata": {
    "ExecuteTime": {
     "end_time": "2024-08-02T14:19:02.922532Z",
     "start_time": "2024-08-02T14:19:02.915430Z"
    }
   },
   "cell_type": "code",
   "source": [
    "def knn(x_train, y_train, x_test, k, distance_func, standardize):\n",
    "    if standardize:\n",
    "        mean_train = np.mean(x_train, axis=0)\n",
    "        std_train = np.std(x_train, axis=0)\n",
    "\n",
    "        x_train = (x_train - mean_train) / std_train\n",
    "        x_test = (x_test - mean_train) / std_train\n",
    "    \n",
    "    # 1. Cari jarak tiap observasi ke target terdekat\n",
    "    n = len(x_train)\n",
    "    list_distances = np.zeros(n)\n",
    "    \n",
    "    for i in x_train.index:\n",
    "        if distance_func == \"euclidean\":\n",
    "            square_distance = (x_train[\"x_1\"].loc[i] - x_test[\"x_1\"]) ** 2 \\\n",
    "                              + (x_train[\"x_2\"].loc[i] - x_test[\"x_2\"]) ** 2\n",
    "            distance = np.sqrt(square_distance)\n",
    "\n",
    "        elif distance_func == \"manhattan\":\n",
    "            distance = abs(x_train[\"x_1\"].loc[i] - x_test[\"x_1\"]) \\\n",
    "                       + abs(x_train[\"x_2\"].loc[i] - x_test[\"x_2\"])\n",
    "\n",
    "        list_distances[i] = distance\n",
    "\n",
    "    # 2. Cari \"k\" tetangga terdekat\n",
    "    neighbors_index = list(np.argsort(list_distances)[:k])\n",
    "    x_neighbors = x_train.loc[neighbors_index]\n",
    "    y_neighbors = y_train.loc[neighbors_index]\n",
    "\n",
    "    # 3. Buat hasil prediksi\n",
    "    majority_vote = y_neighbors.value_counts(normalize=True)[0]\n",
    "    \n",
    "    return majority_vote, neighbors_index"
   ],
   "id": "36d57d28a4156412",
   "outputs": [],
   "execution_count": 21
  },
  {
   "metadata": {
    "ExecuteTime": {
     "end_time": "2024-08-02T14:19:04.500584Z",
     "start_time": "2024-08-02T14:19:04.475214Z"
    }
   },
   "cell_type": "code",
   "source": [
    "y_test_predict, neighbor_index = knn(\n",
    "    x_train=data_train[[\"x_1\", \"x_2\"]],\n",
    "    y_train=data_train[\"y\"],\n",
    "    x_test=data_test,\n",
    "    distance_func=\"euclidean\",\n",
    "    k=5, standardize=True\n",
    ")\n",
    "\n",
    "data_test[\"y\"] = y_test_predict\n",
    "data_test"
   ],
   "id": "8fc543533cd7885e",
   "outputs": [
    {
     "data": {
      "text/plain": [
       "   x_1   x_2    y\n",
       "0  0.5  29.0  0.6"
      ],
      "text/html": [
       "<div>\n",
       "<style scoped>\n",
       "    .dataframe tbody tr th:only-of-type {\n",
       "        vertical-align: middle;\n",
       "    }\n",
       "\n",
       "    .dataframe tbody tr th {\n",
       "        vertical-align: top;\n",
       "    }\n",
       "\n",
       "    .dataframe thead th {\n",
       "        text-align: right;\n",
       "    }\n",
       "</style>\n",
       "<table border=\"1\" class=\"dataframe\">\n",
       "  <thead>\n",
       "    <tr style=\"text-align: right;\">\n",
       "      <th></th>\n",
       "      <th>x_1</th>\n",
       "      <th>x_2</th>\n",
       "      <th>y</th>\n",
       "    </tr>\n",
       "  </thead>\n",
       "  <tbody>\n",
       "    <tr>\n",
       "      <th>0</th>\n",
       "      <td>0.5</td>\n",
       "      <td>29.0</td>\n",
       "      <td>0.6</td>\n",
       "    </tr>\n",
       "  </tbody>\n",
       "</table>\n",
       "</div>"
      ]
     },
     "execution_count": 22,
     "metadata": {},
     "output_type": "execute_result"
    }
   ],
   "execution_count": 22
  },
  {
   "metadata": {
    "ExecuteTime": {
     "end_time": "2024-08-02T12:45:23.845602Z",
     "start_time": "2024-08-02T12:45:23.841461Z"
    }
   },
   "cell_type": "code",
   "source": "data_train[\"x_1\"].loc[neighbor_index]",
   "id": "7624500b5d3be2c0",
   "outputs": [
    {
     "data": {
      "text/plain": [
       "20    0.337727\n",
       "19    0.666686\n",
       "28    0.396735\n",
       "13    0.677644\n",
       "8     0.263663\n",
       "Name: x_1, dtype: float64"
      ]
     },
     "execution_count": 8,
     "metadata": {},
     "output_type": "execute_result"
    }
   ],
   "execution_count": 8
  },
  {
   "metadata": {
    "ExecuteTime": {
     "end_time": "2024-08-02T12:45:24.029557Z",
     "start_time": "2024-08-02T12:45:23.846496Z"
    }
   },
   "cell_type": "code",
   "source": [
    "ig, ax = plt.subplots(nrows=1, ncols=1, figsize=(8, 8))\n",
    "\n",
    "data_class_0 = data_train[data_train[\"y\"] == 0]\n",
    "data_class_1 = data_train[data_train[\"y\"] == 1]\n",
    "\n",
    "ax.scatter(data_class_0[\"x_1\"], data_class_0[\"x_2\"], c=\"b\", marker=\".\", label=\"class 0\")\n",
    "ax.scatter(data_class_1[\"x_1\"], data_class_1[\"x_2\"], c=\"g\", marker=\".\", label=\"class 1\")\n",
    "\n",
    "if data_test[\"y\"][0] == 0:\n",
    "    color_test = \"b\"\n",
    "else:\n",
    "    color_test = \"g\"\n",
    "\n",
    "ax.scatter(data_test[\"x_1\"], data_test[\"x_2\"], c=color_test, marker=\"x\", label=\"test_data\")\n",
    "ax.scatter(data_train[\"x_1\"].loc[neighbor_index], \n",
    "           data_train[\"x_2\"].loc[neighbor_index], \n",
    "           c=\"r\", marker=\"o\", label=\"tetangga terdekat\")\n",
    "\n",
    "ax.set_xlabel(\"x_1\")\n",
    "ax.set_ylabel(\"x_2\")\n",
    "plt.legend()\n",
    "plt.show()"
   ],
   "id": "f1b401533729a2d2",
   "outputs": [
    {
     "data": {
      "text/plain": [
       "<Figure size 800x800 with 1 Axes>"
      ],
      "image/png": "[encoded data removed]"
     },
     "metadata": {},
     "output_type": "display_data"
    }
   ],
   "execution_count": 9
  },
  {
   "metadata": {
    "ExecuteTime": {
     "end_time": "2024-08-02T12:45:24.036239Z",
     "start_time": "2024-08-02T12:45:24.030708Z"
    }
   },
   "cell_type": "code",
   "source": [
    "x = pd.DataFrame({\"x\": [1, 2, 3, 4, 5]})\n",
    "x - 3"
   ],
   "id": "7bd39c4f11064d8b",
   "outputs": [
    {
     "data": {
      "text/plain": [
       "   x\n",
       "0 -2\n",
       "1 -1\n",
       "2  0\n",
       "3  1\n",
       "4  2"
      ],
      "text/html": [
       "<div>\n",
       "<style scoped>\n",
       "    .dataframe tbody tr th:only-of-type {\n",
       "        vertical-align: middle;\n",
       "    }\n",
       "\n",
       "    .dataframe tbody tr th {\n",
       "        vertical-align: top;\n",
       "    }\n",
       "\n",
       "    .dataframe thead th {\n",
       "        text-align: right;\n",
       "    }\n",
       "</style>\n",
       "<table border=\"1\" class=\"dataframe\">\n",
       "  <thead>\n",
       "    <tr style=\"text-align: right;\">\n",
       "      <th></th>\n",
       "      <th>x</th>\n",
       "    </tr>\n",
       "  </thead>\n",
       "  <tbody>\n",
       "    <tr>\n",
       "      <th>0</th>\n",
       "      <td>-2</td>\n",
       "    </tr>\n",
       "    <tr>\n",
       "      <th>1</th>\n",
       "      <td>-1</td>\n",
       "    </tr>\n",
       "    <tr>\n",
       "      <th>2</th>\n",
       "      <td>0</td>\n",
       "    </tr>\n",
       "    <tr>\n",
       "      <th>3</th>\n",
       "      <td>1</td>\n",
       "    </tr>\n",
       "    <tr>\n",
       "      <th>4</th>\n",
       "      <td>2</td>\n",
       "    </tr>\n",
       "  </tbody>\n",
       "</table>\n",
       "</div>"
      ]
     },
     "execution_count": 10,
     "metadata": {},
     "output_type": "execute_result"
    }
   ],
   "execution_count": 10
  }
 ],
 "metadata": {
  "kernelspec": {
   "display_name": "Python 3",
   "language": "python",
   "name": "python3"
  },
  "language_info": {
   "codemirror_mode": {
    "name": "ipython",
    "version": 2
   },
   "file_extension": ".py",
   "mimetype": "text/x-python",
   "name": "python",
   "nbconvert_exporter": "python",
   "pygments_lexer": "ipython2",
   "version": "2.7.6"
  }
 },
 "nbformat": 4,
 "nbformat_minor": 5
}
